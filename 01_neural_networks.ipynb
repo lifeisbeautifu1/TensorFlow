{
  "nbformat": 4,
  "nbformat_minor": 0,
  "metadata": {
    "colab": {
      "provenance": [],
      "mount_file_id": "13TvfhJOKcUjMQz9V_K6zH4LSrqEJsril",
      "authorship_tag": "ABX9TyM0sklWjBpPGdyu3p22Rvjo",
      "include_colab_link": true
    },
    "kernelspec": {
      "name": "python3",
      "display_name": "Python 3"
    },
    "language_info": {
      "name": "python"
    }
  },
  "cells": [
    {
      "cell_type": "markdown",
      "metadata": {
        "id": "view-in-github",
        "colab_type": "text"
      },
      "source": [
        "<a href=\"https://colab.research.google.com/github/lifeisbeautifu1/TensorFlow/blob/master/01_neural_networks.ipynb\" target=\"_parent\"><img src=\"https://colab.research.google.com/assets/colab-badge.svg\" alt=\"Open In Colab\"/></a>"
      ]
    },
    {
      "cell_type": "code",
      "source": [
        "import tensorflow as tf\n",
        "print(tf.__version__)"
      ],
      "metadata": {
        "id": "qgQSlwBAw6Lp",
        "colab": {
          "base_uri": "https://localhost:8080/"
        },
        "outputId": "e3270a06-2edc-4f3d-e081-19d18f7a61b2"
      },
      "execution_count": 303,
      "outputs": [
        {
          "output_type": "stream",
          "name": "stdout",
          "text": [
            "2.9.2\n"
          ]
        }
      ]
    },
    {
      "cell_type": "code",
      "source": [
        "import numpy as np\n",
        "import matplotlib.pyplot as plt\n",
        "\n",
        "X = np.array([-15.0, -10.0, -7.0, -4.0, -1.0, 2.0, 5.0, 8.0, 11.0, 14.0, 20.0, 21.0, 25.0, 30.0])\n",
        "\n",
        "Y = np.array([-5.0, 0, 3.0, 6.0, 9.0, 12.0, 15.0, 18.0, 21.0, 24.0, 30.0, 31.0, 35.0, 40.0])\n",
        "\n",
        "plt.scatter(X, Y)"
      ],
      "metadata": {
        "id": "L4VWKZUYw6W_",
        "colab": {
          "base_uri": "https://localhost:8080/",
          "height": 283
        },
        "outputId": "1dfde7f7-fe6d-4e96-820c-92529d6a3167"
      },
      "execution_count": 304,
      "outputs": [
        {
          "output_type": "execute_result",
          "data": {
            "text/plain": [
              "<matplotlib.collections.PathCollection at 0x7f46f34fde90>"
            ]
          },
          "metadata": {},
          "execution_count": 304
        },
        {
          "output_type": "display_data",
          "data": {
            "text/plain": [
              "<Figure size 432x288 with 1 Axes>"
            ],
            "image/png": "[encoded data removed]"
          },
          "metadata": {
            "needs_background": "light"
          }
        }
      ]
    },
    {
      "cell_type": "code",
      "source": [
        "Y == X + 10"
      ],
      "metadata": {
        "colab": {
          "base_uri": "https://localhost:8080/"
        },
        "id": "46a6EO2ihOFm",
        "outputId": "aa208203-f682-4f4d-8e73-11d266d1f4f4"
      },
      "execution_count": 305,
      "outputs": [
        {
          "output_type": "execute_result",
          "data": {
            "text/plain": [
              "array([ True,  True,  True,  True,  True,  True,  True,  True,  True,\n",
              "        True,  True,  True,  True,  True])"
            ]
          },
          "metadata": {},
          "execution_count": 305
        }
      ]
    },
    {
      "cell_type": "code",
      "source": [
        "house_info = tf.constant(['bedroom', 'bathroom', 'garage'])\n",
        "house_price = tf.constant([939700])\n",
        "house_info, house_price"
      ],
      "metadata": {
        "colab": {
          "base_uri": "https://localhost:8080/"
        },
        "id": "YLva-heRhOWh",
        "outputId": "15c41eb8-a723-43e5-ab08-a675633b7b97"
      },
      "execution_count": 306,
      "outputs": [
        {
          "output_type": "execute_result",
          "data": {
            "text/plain": [
              "(<tf.Tensor: shape=(3,), dtype=string, numpy=array([b'bedroom', b'bathroom', b'garage'], dtype=object)>,\n",
              " <tf.Tensor: shape=(1,), dtype=int32, numpy=array([939700], dtype=int32)>)"
            ]
          },
          "metadata": {},
          "execution_count": 306
        }
      ]
    },
    {
      "cell_type": "code",
      "source": [
        "X[0], Y[0]"
      ],
      "metadata": {
        "colab": {
          "base_uri": "https://localhost:8080/"
        },
        "id": "H1ejb7S9hOdB",
        "outputId": "24068039-b679-44cc-d7b0-6e0b95602212"
      },
      "execution_count": 307,
      "outputs": [
        {
          "output_type": "execute_result",
          "data": {
            "text/plain": [
              "(-15.0, -5.0)"
            ]
          },
          "metadata": {},
          "execution_count": 307
        }
      ]
    },
    {
      "cell_type": "code",
      "source": [
        "X[1], Y[1]"
      ],
      "metadata": {
        "colab": {
          "base_uri": "https://localhost:8080/"
        },
        "id": "f9JnQLUChOi-",
        "outputId": "402b6185-e2d9-452f-9243-fa900b26d60b"
      },
      "execution_count": 308,
      "outputs": [
        {
          "output_type": "execute_result",
          "data": {
            "text/plain": [
              "(-10.0, 0.0)"
            ]
          },
          "metadata": {},
          "execution_count": 308
        }
      ]
    },
    {
      "cell_type": "code",
      "source": [
        "input_shape = X.shape\n",
        "output_shape = Y.shape\n",
        "input_shape, output_shape"
      ],
      "metadata": {
        "colab": {
          "base_uri": "https://localhost:8080/"
        },
        "id": "HOz2rphAhOpN",
        "outputId": "053c38dc-dbe3-4bee-885a-feb05e30ea1a"
      },
      "execution_count": 309,
      "outputs": [
        {
          "output_type": "execute_result",
          "data": {
            "text/plain": [
              "((14,), (14,))"
            ]
          },
          "metadata": {},
          "execution_count": 309
        }
      ]
    },
    {
      "cell_type": "code",
      "source": [
        "X = tf.constant(X)\n",
        "Y = tf.constant(Y)\n",
        "X, Y"
      ],
      "metadata": {
        "colab": {
          "base_uri": "https://localhost:8080/"
        },
        "id": "nr7J0cQchOwA",
        "outputId": "d6c69eec-33d6-475c-a8d8-f0533d49273a"
      },
      "execution_count": 310,
      "outputs": [
        {
          "output_type": "execute_result",
          "data": {
            "text/plain": [
              "(<tf.Tensor: shape=(14,), dtype=float64, numpy=\n",
              " array([-15., -10.,  -7.,  -4.,  -1.,   2.,   5.,   8.,  11.,  14.,  20.,\n",
              "         21.,  25.,  30.])>, <tf.Tensor: shape=(14,), dtype=float64, numpy=\n",
              " array([-5.,  0.,  3.,  6.,  9., 12., 15., 18., 21., 24., 30., 31., 35.,\n",
              "        40.])>)"
            ]
          },
          "metadata": {},
          "execution_count": 310
        }
      ]
    },
    {
      "cell_type": "code",
      "source": [
        "# Set random seed\n",
        "tf.random.set_seed(42)\n",
        "\n",
        "# 1. Create a model using the Sequential API\n",
        "model = tf.keras.Sequential()\n",
        "model.add(tf.keras.layers.Dense(1, input_shape=(1,)))\n",
        "\n",
        "# 2. Compile the model\n",
        "model.compile(loss=tf.keras.losses.mae,  # mae is short for mean absolute error\n",
        "              optimizer=tf.keras.optimizers.SGD(), # sgd is short for stochastic gradient descent\n",
        "              metrics=['mae'])\n",
        "\n",
        "# 3. Fit the model\n",
        "model.fit(X, Y, epochs=5)\n",
        "\n"
      ],
      "metadata": {
        "id": "bHvX7597hO2J",
        "colab": {
          "base_uri": "https://localhost:8080/"
        },
        "outputId": "7b09e352-fcc6-46b0-afe4-e1070aa68044"
      },
      "execution_count": 311,
      "outputs": [
        {
          "output_type": "stream",
          "name": "stdout",
          "text": [
            "Epoch 1/5\n",
            "1/1 [==============================] - 0s 263ms/step - loss: 13.0403 - mae: 13.0403\n",
            "Epoch 2/5\n",
            "1/1 [==============================] - 0s 7ms/step - loss: 12.5302 - mae: 12.5302\n",
            "Epoch 3/5\n",
            "1/1 [==============================] - 0s 6ms/step - loss: 12.0202 - mae: 12.0202\n",
            "Epoch 4/5\n",
            "1/1 [==============================] - 0s 5ms/step - loss: 11.5101 - mae: 11.5101\n",
            "Epoch 5/5\n",
            "1/1 [==============================] - 0s 10ms/step - loss: 11.0001 - mae: 11.0001\n"
          ]
        },
        {
          "output_type": "execute_result",
          "data": {
            "text/plain": [
              "<keras.callbacks.History at 0x7f46f50a13d0>"
            ]
          },
          "metadata": {},
          "execution_count": 311
        }
      ]
    },
    {
      "cell_type": "code",
      "source": [
        "X, Y"
      ],
      "metadata": {
        "colab": {
          "base_uri": "https://localhost:8080/"
        },
        "id": "XJmxNzSQaayy",
        "outputId": "5871e2ec-fcb8-4565-e5c6-1a44cc3ed7d4"
      },
      "execution_count": 312,
      "outputs": [
        {
          "output_type": "execute_result",
          "data": {
            "text/plain": [
              "(<tf.Tensor: shape=(14,), dtype=float64, numpy=\n",
              " array([-15., -10.,  -7.,  -4.,  -1.,   2.,   5.,   8.,  11.,  14.,  20.,\n",
              "         21.,  25.,  30.])>, <tf.Tensor: shape=(14,), dtype=float64, numpy=\n",
              " array([-5.,  0.,  3.,  6.,  9., 12., 15., 18., 21., 24., 30., 31., 35.,\n",
              "        40.])>)"
            ]
          },
          "metadata": {},
          "execution_count": 312
        }
      ]
    },
    {
      "cell_type": "code",
      "source": [
        "model.predict([17.0])"
      ],
      "metadata": {
        "colab": {
          "base_uri": "https://localhost:8080/"
        },
        "id": "qGmHuOHBaa-Q",
        "outputId": "7ad0ea52-6fc6-4d87-8917-180389392e0a"
      },
      "execution_count": 313,
      "outputs": [
        {
          "output_type": "stream",
          "name": "stdout",
          "text": [
            "1/1 [==============================] - 0s 57ms/step\n"
          ]
        },
        {
          "output_type": "execute_result",
          "data": {
            "text/plain": [
              "array([[15.751734]], dtype=float32)"
            ]
          },
          "metadata": {},
          "execution_count": 313
        }
      ]
    },
    {
      "cell_type": "code",
      "source": [
        "# Let's rebuild our model\n",
        "\n",
        "# 1. Create the model\n",
        "\n",
        "model = tf.keras.Sequential([\n",
        "    tf.keras.layers.Dense(1, input_shape=(1, ))\n",
        "])\n",
        "\n",
        "# 2. Compile the model\n",
        "model.compile(loss=tf.keras.losses.mae,\n",
        "              optimizer=tf.keras.optimizers.SGD(),\n",
        "              metrics=[\"mae\"])\n",
        "\n",
        "model.fit(X, Y, epochs=100)"
      ],
      "metadata": {
        "colab": {
          "base_uri": "https://localhost:8080/"
        },
        "id": "Gcy-fj6WabEo",
        "outputId": "df5f7d5f-5245-4d19-af46-74f4d5652c62"
      },
      "execution_count": 314,
      "outputs": [
        {
          "output_type": "stream",
          "name": "stdout",
          "text": [
            "Epoch 1/100\n",
            "1/1 [==============================] - 0s 272ms/step - loss: 12.4688 - mae: 12.4688\n",
            "Epoch 2/100\n",
            "1/1 [==============================] - 0s 8ms/step - loss: 11.9588 - mae: 11.9588\n",
            "Epoch 3/100\n",
            "1/1 [==============================] - 0s 8ms/step - loss: 11.4487 - mae: 11.4487\n",
            "Epoch 4/100\n",
            "1/1 [==============================] - 0s 7ms/step - loss: 10.9387 - mae: 10.9387\n",
            "Epoch 5/100\n",
            "1/1 [==============================] - 0s 11ms/step - loss: 10.4286 - mae: 10.4286\n",
            "Epoch 6/100\n",
            "1/1 [==============================] - 0s 9ms/step - loss: 9.9186 - mae: 9.9186\n",
            "Epoch 7/100\n",
            "1/1 [==============================] - 0s 7ms/step - loss: 9.4085 - mae: 9.4085\n",
            "Epoch 8/100\n",
            "1/1 [==============================] - 0s 9ms/step - loss: 8.8985 - mae: 8.8985\n",
            "Epoch 9/100\n",
            "1/1 [==============================] - 0s 8ms/step - loss: 8.3884 - mae: 8.3884\n",
            "Epoch 10/100\n",
            "1/1 [==============================] - 0s 8ms/step - loss: 7.8784 - mae: 7.8784\n",
            "Epoch 11/100\n",
            "1/1 [==============================] - 0s 6ms/step - loss: 7.4884 - mae: 7.4884\n",
            "Epoch 12/100\n",
            "1/1 [==============================] - 0s 6ms/step - loss: 7.4034 - mae: 7.4034\n",
            "Epoch 13/100\n",
            "1/1 [==============================] - 0s 6ms/step - loss: 7.3843 - mae: 7.3843\n",
            "Epoch 14/100\n",
            "1/1 [==============================] - 0s 7ms/step - loss: 7.3730 - mae: 7.3730\n",
            "Epoch 15/100\n",
            "1/1 [==============================] - 0s 6ms/step - loss: 7.3617 - mae: 7.3617\n",
            "Epoch 16/100\n",
            "1/1 [==============================] - 0s 6ms/step - loss: 7.3658 - mae: 7.3658\n",
            "Epoch 17/100\n",
            "1/1 [==============================] - 0s 7ms/step - loss: 7.3662 - mae: 7.3662\n",
            "Epoch 18/100\n",
            "1/1 [==============================] - 0s 6ms/step - loss: 7.3549 - mae: 7.3549\n",
            "Epoch 19/100\n",
            "1/1 [==============================] - 0s 7ms/step - loss: 7.3436 - mae: 7.3436\n",
            "Epoch 20/100\n",
            "1/1 [==============================] - 0s 6ms/step - loss: 7.3324 - mae: 7.3324\n",
            "Epoch 21/100\n",
            "1/1 [==============================] - 0s 7ms/step - loss: 7.3439 - mae: 7.3439\n",
            "Epoch 22/100\n",
            "1/1 [==============================] - 0s 11ms/step - loss: 7.3369 - mae: 7.3369\n",
            "Epoch 23/100\n",
            "1/1 [==============================] - 0s 6ms/step - loss: 7.3256 - mae: 7.3256\n",
            "Epoch 24/100\n",
            "1/1 [==============================] - 0s 6ms/step - loss: 7.3143 - mae: 7.3143\n",
            "Epoch 25/100\n",
            "1/1 [==============================] - 0s 6ms/step - loss: 7.3062 - mae: 7.3062\n",
            "Epoch 26/100\n",
            "1/1 [==============================] - 0s 6ms/step - loss: 7.3188 - mae: 7.3188\n",
            "Epoch 27/100\n",
            "1/1 [==============================] - 0s 5ms/step - loss: 7.3075 - mae: 7.3075\n",
            "Epoch 28/100\n",
            "1/1 [==============================] - 0s 6ms/step - loss: 7.2962 - mae: 7.2962\n",
            "Epoch 29/100\n",
            "1/1 [==============================] - 0s 5ms/step - loss: 7.2850 - mae: 7.2850\n",
            "Epoch 30/100\n",
            "1/1 [==============================] - 0s 5ms/step - loss: 7.2844 - mae: 7.2844\n",
            "Epoch 31/100\n",
            "1/1 [==============================] - 0s 5ms/step - loss: 7.2895 - mae: 7.2895\n",
            "Epoch 32/100\n",
            "1/1 [==============================] - 0s 6ms/step - loss: 7.2782 - mae: 7.2782\n",
            "Epoch 33/100\n",
            "1/1 [==============================] - 0s 5ms/step - loss: 7.2669 - mae: 7.2669\n",
            "Epoch 34/100\n",
            "1/1 [==============================] - 0s 6ms/step - loss: 7.2556 - mae: 7.2556\n",
            "Epoch 35/100\n",
            "1/1 [==============================] - 0s 5ms/step - loss: 7.2625 - mae: 7.2625\n",
            "Epoch 36/100\n",
            "1/1 [==============================] - 0s 6ms/step - loss: 7.2601 - mae: 7.2601\n",
            "Epoch 37/100\n",
            "1/1 [==============================] - 0s 6ms/step - loss: 7.2489 - mae: 7.2489\n",
            "Epoch 38/100\n",
            "1/1 [==============================] - 0s 11ms/step - loss: 7.2376 - mae: 7.2376\n",
            "Epoch 39/100\n",
            "1/1 [==============================] - 0s 8ms/step - loss: 7.2263 - mae: 7.2263\n",
            "Epoch 40/100\n",
            "1/1 [==============================] - 0s 6ms/step - loss: 7.2406 - mae: 7.2406\n",
            "Epoch 41/100\n",
            "1/1 [==============================] - 0s 6ms/step - loss: 7.2308 - mae: 7.2308\n",
            "Epoch 42/100\n",
            "1/1 [==============================] - 0s 5ms/step - loss: 7.2195 - mae: 7.2195\n",
            "Epoch 43/100\n",
            "1/1 [==============================] - 0s 7ms/step - loss: 7.2082 - mae: 7.2082\n",
            "Epoch 44/100\n",
            "1/1 [==============================] - 0s 6ms/step - loss: 7.2029 - mae: 7.2029\n",
            "Epoch 45/100\n",
            "1/1 [==============================] - 0s 6ms/step - loss: 7.2127 - mae: 7.2127\n",
            "Epoch 46/100\n",
            "1/1 [==============================] - 0s 6ms/step - loss: 7.2015 - mae: 7.2015\n",
            "Epoch 47/100\n",
            "1/1 [==============================] - 0s 6ms/step - loss: 7.1902 - mae: 7.1902\n",
            "Epoch 48/100\n",
            "1/1 [==============================] - 0s 7ms/step - loss: 7.1789 - mae: 7.1789\n",
            "Epoch 49/100\n",
            "1/1 [==============================] - 0s 6ms/step - loss: 7.1810 - mae: 7.1810\n",
            "Epoch 50/100\n",
            "1/1 [==============================] - 0s 6ms/step - loss: 7.1834 - mae: 7.1834\n",
            "Epoch 51/100\n",
            "1/1 [==============================] - 0s 6ms/step - loss: 7.1721 - mae: 7.1721\n",
            "Epoch 52/100\n",
            "1/1 [==============================] - 0s 6ms/step - loss: 7.1608 - mae: 7.1608\n",
            "Epoch 53/100\n",
            "1/1 [==============================] - 0s 6ms/step - loss: 7.1496 - mae: 7.1496\n",
            "Epoch 54/100\n",
            "1/1 [==============================] - 0s 7ms/step - loss: 7.1591 - mae: 7.1591\n",
            "Epoch 55/100\n",
            "1/1 [==============================] - 0s 6ms/step - loss: 7.1541 - mae: 7.1541\n",
            "Epoch 56/100\n",
            "1/1 [==============================] - 0s 5ms/step - loss: 7.1428 - mae: 7.1428\n",
            "Epoch 57/100\n",
            "1/1 [==============================] - 0s 5ms/step - loss: 7.1315 - mae: 7.1315\n",
            "Epoch 58/100\n",
            "1/1 [==============================] - 0s 6ms/step - loss: 7.1215 - mae: 7.1215\n",
            "Epoch 59/100\n",
            "1/1 [==============================] - 0s 5ms/step - loss: 7.1360 - mae: 7.1360\n",
            "Epoch 60/100\n",
            "1/1 [==============================] - 0s 7ms/step - loss: 7.1247 - mae: 7.1247\n",
            "Epoch 61/100\n",
            "1/1 [==============================] - 0s 5ms/step - loss: 7.1134 - mae: 7.1134\n",
            "Epoch 62/100\n",
            "1/1 [==============================] - 0s 5ms/step - loss: 7.1022 - mae: 7.1022\n",
            "Epoch 63/100\n",
            "1/1 [==============================] - 0s 6ms/step - loss: 7.0996 - mae: 7.0996\n",
            "Epoch 64/100\n",
            "1/1 [==============================] - 0s 6ms/step - loss: 7.1067 - mae: 7.1067\n",
            "Epoch 65/100\n",
            "1/1 [==============================] - 0s 7ms/step - loss: 7.0954 - mae: 7.0954\n",
            "Epoch 66/100\n",
            "1/1 [==============================] - 0s 6ms/step - loss: 7.0841 - mae: 7.0841\n",
            "Epoch 67/100\n",
            "1/1 [==============================] - 0s 7ms/step - loss: 7.0728 - mae: 7.0728\n",
            "Epoch 68/100\n",
            "1/1 [==============================] - 0s 7ms/step - loss: 7.0777 - mae: 7.0777\n",
            "Epoch 69/100\n",
            "1/1 [==============================] - 0s 6ms/step - loss: 7.0773 - mae: 7.0773\n",
            "Epoch 70/100\n",
            "1/1 [==============================] - 0s 6ms/step - loss: 7.0660 - mae: 7.0660\n",
            "Epoch 71/100\n",
            "1/1 [==============================] - 0s 6ms/step - loss: 7.0548 - mae: 7.0548\n",
            "Epoch 72/100\n",
            "1/1 [==============================] - 0s 7ms/step - loss: 7.0435 - mae: 7.0435\n",
            "Epoch 73/100\n",
            "1/1 [==============================] - 0s 6ms/step - loss: 7.0558 - mae: 7.0558\n",
            "Epoch 74/100\n",
            "1/1 [==============================] - 0s 6ms/step - loss: 7.0480 - mae: 7.0480\n",
            "Epoch 75/100\n",
            "1/1 [==============================] - 0s 8ms/step - loss: 7.0367 - mae: 7.0367\n",
            "Epoch 76/100\n",
            "1/1 [==============================] - 0s 5ms/step - loss: 7.0254 - mae: 7.0254\n",
            "Epoch 77/100\n",
            "1/1 [==============================] - 0s 6ms/step - loss: 7.0182 - mae: 7.0182\n",
            "Epoch 78/100\n",
            "1/1 [==============================] - 0s 5ms/step - loss: 7.0299 - mae: 7.0299\n",
            "Epoch 79/100\n",
            "1/1 [==============================] - 0s 8ms/step - loss: 7.0186 - mae: 7.0186\n",
            "Epoch 80/100\n",
            "1/1 [==============================] - 0s 5ms/step - loss: 7.0074 - mae: 7.0074\n",
            "Epoch 81/100\n",
            "1/1 [==============================] - 0s 5ms/step - loss: 6.9961 - mae: 6.9961\n",
            "Epoch 82/100\n",
            "1/1 [==============================] - 0s 6ms/step - loss: 6.9963 - mae: 6.9963\n",
            "Epoch 83/100\n",
            "1/1 [==============================] - 0s 6ms/step - loss: 7.0006 - mae: 7.0006\n",
            "Epoch 84/100\n",
            "1/1 [==============================] - 0s 5ms/step - loss: 6.9893 - mae: 6.9893\n",
            "Epoch 85/100\n",
            "1/1 [==============================] - 0s 6ms/step - loss: 6.9780 - mae: 6.9780\n",
            "Epoch 86/100\n",
            "1/1 [==============================] - 0s 6ms/step - loss: 6.9668 - mae: 6.9668\n",
            "Epoch 87/100\n",
            "1/1 [==============================] - 0s 6ms/step - loss: 6.9744 - mae: 6.9744\n",
            "Epoch 88/100\n",
            "1/1 [==============================] - 0s 5ms/step - loss: 6.9712 - mae: 6.9712\n",
            "Epoch 89/100\n",
            "1/1 [==============================] - 0s 6ms/step - loss: 6.9600 - mae: 6.9600\n",
            "Epoch 90/100\n",
            "1/1 [==============================] - 0s 6ms/step - loss: 6.9487 - mae: 6.9487\n",
            "Epoch 91/100\n",
            "1/1 [==============================] - 0s 5ms/step - loss: 6.9374 - mae: 6.9374\n",
            "Epoch 92/100\n",
            "1/1 [==============================] - 0s 6ms/step - loss: 6.9525 - mae: 6.9525\n",
            "Epoch 93/100\n",
            "1/1 [==============================] - 0s 6ms/step - loss: 6.9419 - mae: 6.9419\n",
            "Epoch 94/100\n",
            "1/1 [==============================] - 0s 6ms/step - loss: 6.9306 - mae: 6.9306\n",
            "Epoch 95/100\n",
            "1/1 [==============================] - 0s 6ms/step - loss: 6.9194 - mae: 6.9194\n",
            "Epoch 96/100\n",
            "1/1 [==============================] - 0s 6ms/step - loss: 6.9149 - mae: 6.9149\n",
            "Epoch 97/100\n",
            "1/1 [==============================] - 0s 6ms/step - loss: 6.9239 - mae: 6.9239\n",
            "Epoch 98/100\n",
            "1/1 [==============================] - 0s 6ms/step - loss: 6.9126 - mae: 6.9126\n",
            "Epoch 99/100\n",
            "1/1 [==============================] - 0s 5ms/step - loss: 6.9013 - mae: 6.9013\n",
            "Epoch 100/100\n",
            "1/1 [==============================] - 0s 5ms/step - loss: 6.8900 - mae: 6.8900\n"
          ]
        },
        {
          "output_type": "execute_result",
          "data": {
            "text/plain": [
              "<keras.callbacks.History at 0x7f46f32298d0>"
            ]
          },
          "metadata": {},
          "execution_count": 314
        }
      ]
    },
    {
      "cell_type": "code",
      "source": [
        "# Remind ourselves of the data\n",
        "X, Y"
      ],
      "metadata": {
        "colab": {
          "base_uri": "https://localhost:8080/"
        },
        "id": "qrsuhEzI7a-5",
        "outputId": "7a6f1e1b-312a-474a-cf55-4f0ab0ff50ef"
      },
      "execution_count": 315,
      "outputs": [
        {
          "output_type": "execute_result",
          "data": {
            "text/plain": [
              "(<tf.Tensor: shape=(14,), dtype=float64, numpy=\n",
              " array([-15., -10.,  -7.,  -4.,  -1.,   2.,   5.,   8.,  11.,  14.,  20.,\n",
              "         21.,  25.,  30.])>, <tf.Tensor: shape=(14,), dtype=float64, numpy=\n",
              " array([-5.,  0.,  3.,  6.,  9., 12., 15., 18., 21., 24., 30., 31., 35.,\n",
              "        40.])>)"
            ]
          },
          "metadata": {},
          "execution_count": 315
        }
      ]
    },
    {
      "cell_type": "code",
      "source": [
        "model.predict([17.0])"
      ],
      "metadata": {
        "colab": {
          "base_uri": "https://localhost:8080/"
        },
        "id": "MKDX04iV7bFL",
        "outputId": "52086a98-1f30-49c7-967e-a90594d1bcb9"
      },
      "execution_count": 316,
      "outputs": [
        {
          "output_type": "stream",
          "name": "stdout",
          "text": [
            "1/1 [==============================] - 0s 53ms/step\n"
          ]
        },
        {
          "output_type": "execute_result",
          "data": {
            "text/plain": [
              "array([[23.979145]], dtype=float32)"
            ]
          },
          "metadata": {},
          "execution_count": 316
        }
      ]
    },
    {
      "cell_type": "code",
      "source": [
        "model = tf.keras.Sequential([\n",
        "    tf.keras.layers.Dense(100, input_shape=(1, )),\n",
        "    tf.keras.layers.Dense(100, input_shape=(1, )),\n",
        "    tf.keras.layers.Dense(100, input_shape=(1, )),\n",
        "    tf.keras.layers.Dense(1, input_shape=(1, ))\n",
        "])\n",
        "\n",
        "\n",
        "model.compile(loss=tf.keras.losses.mae, \n",
        "          optimizer=tf.keras.optimizers.Adam(lr=0.001),\n",
        "          metrics=[\"mae\"])\n",
        "\n",
        "model.fit(X, Y, epochs=100)"
      ],
      "metadata": {
        "colab": {
          "base_uri": "https://localhost:8080/"
        },
        "id": "Oks0Le1v7bKm",
        "outputId": "8bad2580-879a-44bb-b929-a170857a5286"
      },
      "execution_count": 317,
      "outputs": [
        {
          "output_type": "stream",
          "name": "stdout",
          "text": [
            "Epoch 1/100\n"
          ]
        },
        {
          "output_type": "stream",
          "name": "stderr",
          "text": [
            "/usr/local/lib/python3.7/dist-packages/keras/optimizers/optimizer_v2/adam.py:110: UserWarning: The `lr` argument is deprecated, use `learning_rate` instead.\n",
            "  super(Adam, self).__init__(name, **kwargs)\n"
          ]
        },
        {
          "output_type": "stream",
          "name": "stdout",
          "text": [
            "1/1 [==============================] - 0s 446ms/step - loss: 15.2569 - mae: 15.2569\n",
            "Epoch 2/100\n",
            "1/1 [==============================] - 0s 8ms/step - loss: 12.9865 - mae: 12.9865\n",
            "Epoch 3/100\n",
            "1/1 [==============================] - 0s 8ms/step - loss: 10.8392 - mae: 10.8392\n",
            "Epoch 4/100\n",
            "1/1 [==============================] - 0s 8ms/step - loss: 8.6303 - mae: 8.6303\n",
            "Epoch 5/100\n",
            "1/1 [==============================] - 0s 10ms/step - loss: 7.5343 - mae: 7.5343\n",
            "Epoch 6/100\n",
            "1/1 [==============================] - 0s 9ms/step - loss: 8.5870 - mae: 8.5870\n",
            "Epoch 7/100\n",
            "1/1 [==============================] - 0s 8ms/step - loss: 8.9197 - mae: 8.9197\n",
            "Epoch 8/100\n",
            "1/1 [==============================] - 0s 6ms/step - loss: 8.5908 - mae: 8.5908\n",
            "Epoch 9/100\n",
            "1/1 [==============================] - 0s 8ms/step - loss: 7.9784 - mae: 7.9784\n",
            "Epoch 10/100\n",
            "1/1 [==============================] - 0s 8ms/step - loss: 7.2797 - mae: 7.2797\n",
            "Epoch 11/100\n",
            "1/1 [==============================] - 0s 8ms/step - loss: 7.3280 - mae: 7.3280\n",
            "Epoch 12/100\n",
            "1/1 [==============================] - 0s 7ms/step - loss: 7.7404 - mae: 7.7404\n",
            "Epoch 13/100\n",
            "1/1 [==============================] - 0s 7ms/step - loss: 7.8687 - mae: 7.8687\n",
            "Epoch 14/100\n",
            "1/1 [==============================] - 0s 8ms/step - loss: 7.7003 - mae: 7.7003\n",
            "Epoch 15/100\n",
            "1/1 [==============================] - 0s 6ms/step - loss: 7.2888 - mae: 7.2888\n",
            "Epoch 16/100\n",
            "1/1 [==============================] - 0s 9ms/step - loss: 7.0841 - mae: 7.0841\n",
            "Epoch 17/100\n",
            "1/1 [==============================] - 0s 7ms/step - loss: 7.0967 - mae: 7.0967\n",
            "Epoch 18/100\n",
            "1/1 [==============================] - 0s 6ms/step - loss: 7.2201 - mae: 7.2201\n",
            "Epoch 19/100\n",
            "1/1 [==============================] - 0s 6ms/step - loss: 7.2279 - mae: 7.2279\n",
            "Epoch 20/100\n",
            "1/1 [==============================] - 0s 7ms/step - loss: 7.0518 - mae: 7.0518\n",
            "Epoch 21/100\n",
            "1/1 [==============================] - 0s 7ms/step - loss: 6.9776 - mae: 6.9776\n",
            "Epoch 22/100\n",
            "1/1 [==============================] - 0s 7ms/step - loss: 6.9690 - mae: 6.9690\n",
            "Epoch 23/100\n",
            "1/1 [==============================] - 0s 6ms/step - loss: 7.0158 - mae: 7.0158\n",
            "Epoch 24/100\n",
            "1/1 [==============================] - 0s 7ms/step - loss: 7.0128 - mae: 7.0128\n",
            "Epoch 25/100\n",
            "1/1 [==============================] - 0s 7ms/step - loss: 6.9647 - mae: 6.9647\n",
            "Epoch 26/100\n",
            "1/1 [==============================] - 0s 7ms/step - loss: 6.8750 - mae: 6.8750\n",
            "Epoch 27/100\n",
            "1/1 [==============================] - 0s 8ms/step - loss: 6.8066 - mae: 6.8066\n",
            "Epoch 28/100\n",
            "1/1 [==============================] - 0s 7ms/step - loss: 6.7957 - mae: 6.7957\n",
            "Epoch 29/100\n",
            "1/1 [==============================] - 0s 7ms/step - loss: 6.7807 - mae: 6.7807\n",
            "Epoch 30/100\n",
            "1/1 [==============================] - 0s 7ms/step - loss: 6.8121 - mae: 6.8121\n",
            "Epoch 31/100\n",
            "1/1 [==============================] - 0s 7ms/step - loss: 6.7683 - mae: 6.7683\n",
            "Epoch 32/100\n",
            "1/1 [==============================] - 0s 8ms/step - loss: 6.6852 - mae: 6.6852\n",
            "Epoch 33/100\n",
            "1/1 [==============================] - 0s 8ms/step - loss: 6.6402 - mae: 6.6402\n",
            "Epoch 34/100\n",
            "1/1 [==============================] - 0s 7ms/step - loss: 6.5943 - mae: 6.5943\n",
            "Epoch 35/100\n",
            "1/1 [==============================] - 0s 7ms/step - loss: 6.6139 - mae: 6.6139\n",
            "Epoch 36/100\n",
            "1/1 [==============================] - 0s 8ms/step - loss: 6.6032 - mae: 6.6032\n",
            "Epoch 37/100\n",
            "1/1 [==============================] - 0s 8ms/step - loss: 6.5397 - mae: 6.5397\n",
            "Epoch 38/100\n",
            "1/1 [==============================] - 0s 7ms/step - loss: 6.4654 - mae: 6.4654\n",
            "Epoch 39/100\n",
            "1/1 [==============================] - 0s 7ms/step - loss: 6.4423 - mae: 6.4423\n",
            "Epoch 40/100\n",
            "1/1 [==============================] - 0s 7ms/step - loss: 6.4153 - mae: 6.4153\n",
            "Epoch 41/100\n",
            "1/1 [==============================] - 0s 7ms/step - loss: 6.3848 - mae: 6.3848\n",
            "Epoch 42/100\n",
            "1/1 [==============================] - 0s 7ms/step - loss: 6.3576 - mae: 6.3576\n",
            "Epoch 43/100\n",
            "1/1 [==============================] - 0s 7ms/step - loss: 6.3038 - mae: 6.3038\n",
            "Epoch 44/100\n",
            "1/1 [==============================] - 0s 7ms/step - loss: 6.2548 - mae: 6.2548\n",
            "Epoch 45/100\n",
            "1/1 [==============================] - 0s 7ms/step - loss: 6.2037 - mae: 6.2037\n",
            "Epoch 46/100\n",
            "1/1 [==============================] - 0s 7ms/step - loss: 6.1792 - mae: 6.1792\n",
            "Epoch 47/100\n",
            "1/1 [==============================] - 0s 7ms/step - loss: 6.1338 - mae: 6.1338\n",
            "Epoch 48/100\n",
            "1/1 [==============================] - 0s 7ms/step - loss: 6.0735 - mae: 6.0735\n",
            "Epoch 49/100\n",
            "1/1 [==============================] - 0s 7ms/step - loss: 6.0348 - mae: 6.0348\n",
            "Epoch 50/100\n",
            "1/1 [==============================] - 0s 7ms/step - loss: 5.9918 - mae: 5.9918\n",
            "Epoch 51/100\n",
            "1/1 [==============================] - 0s 7ms/step - loss: 5.9445 - mae: 5.9445\n",
            "Epoch 52/100\n",
            "1/1 [==============================] - 0s 7ms/step - loss: 5.8930 - mae: 5.8930\n",
            "Epoch 53/100\n",
            "1/1 [==============================] - 0s 7ms/step - loss: 5.8372 - mae: 5.8372\n",
            "Epoch 54/100\n",
            "1/1 [==============================] - 0s 8ms/step - loss: 5.7771 - mae: 5.7771\n",
            "Epoch 55/100\n",
            "1/1 [==============================] - 0s 7ms/step - loss: 5.7127 - mae: 5.7127\n",
            "Epoch 56/100\n",
            "1/1 [==============================] - 0s 7ms/step - loss: 5.6438 - mae: 5.6438\n",
            "Epoch 57/100\n",
            "1/1 [==============================] - 0s 7ms/step - loss: 5.5703 - mae: 5.5703\n",
            "Epoch 58/100\n",
            "1/1 [==============================] - 0s 10ms/step - loss: 5.5477 - mae: 5.5477\n",
            "Epoch 59/100\n",
            "1/1 [==============================] - 0s 7ms/step - loss: 5.4446 - mae: 5.4446\n",
            "Epoch 60/100\n",
            "1/1 [==============================] - 0s 7ms/step - loss: 5.3681 - mae: 5.3681\n",
            "Epoch 61/100\n",
            "1/1 [==============================] - 0s 7ms/step - loss: 5.3353 - mae: 5.3353\n",
            "Epoch 62/100\n",
            "1/1 [==============================] - 0s 7ms/step - loss: 5.2305 - mae: 5.2305\n",
            "Epoch 63/100\n",
            "1/1 [==============================] - 0s 7ms/step - loss: 5.1094 - mae: 5.1094\n",
            "Epoch 64/100\n",
            "1/1 [==============================] - 0s 8ms/step - loss: 5.1032 - mae: 5.1032\n",
            "Epoch 65/100\n",
            "1/1 [==============================] - 0s 7ms/step - loss: 5.0312 - mae: 5.0312\n",
            "Epoch 66/100\n",
            "1/1 [==============================] - 0s 8ms/step - loss: 4.8448 - mae: 4.8448\n",
            "Epoch 67/100\n",
            "1/1 [==============================] - 0s 8ms/step - loss: 4.7380 - mae: 4.7380\n",
            "Epoch 68/100\n",
            "1/1 [==============================] - 0s 8ms/step - loss: 4.6915 - mae: 4.6915\n",
            "Epoch 69/100\n",
            "1/1 [==============================] - 0s 10ms/step - loss: 4.4757 - mae: 4.4757\n",
            "Epoch 70/100\n",
            "1/1 [==============================] - 0s 7ms/step - loss: 4.6256 - mae: 4.6256\n",
            "Epoch 71/100\n",
            "1/1 [==============================] - 0s 8ms/step - loss: 4.3079 - mae: 4.3079\n",
            "Epoch 72/100\n",
            "1/1 [==============================] - 0s 7ms/step - loss: 4.1020 - mae: 4.1020\n",
            "Epoch 73/100\n",
            "1/1 [==============================] - 0s 8ms/step - loss: 4.2869 - mae: 4.2869\n",
            "Epoch 74/100\n",
            "1/1 [==============================] - 0s 8ms/step - loss: 3.9515 - mae: 3.9515\n",
            "Epoch 75/100\n",
            "1/1 [==============================] - 0s 7ms/step - loss: 3.7966 - mae: 3.7966\n",
            "Epoch 76/100\n",
            "1/1 [==============================] - 0s 7ms/step - loss: 3.6598 - mae: 3.6598\n",
            "Epoch 77/100\n",
            "1/1 [==============================] - 0s 8ms/step - loss: 3.3580 - mae: 3.3580\n",
            "Epoch 78/100\n",
            "1/1 [==============================] - 0s 8ms/step - loss: 3.1997 - mae: 3.1997\n",
            "Epoch 79/100\n",
            "1/1 [==============================] - 0s 7ms/step - loss: 3.0492 - mae: 3.0492\n",
            "Epoch 80/100\n",
            "1/1 [==============================] - 0s 8ms/step - loss: 2.7511 - mae: 2.7511\n",
            "Epoch 81/100\n",
            "1/1 [==============================] - 0s 7ms/step - loss: 2.6832 - mae: 2.6832\n",
            "Epoch 82/100\n",
            "1/1 [==============================] - 0s 10ms/step - loss: 2.3064 - mae: 2.3064\n",
            "Epoch 83/100\n",
            "1/1 [==============================] - 0s 8ms/step - loss: 2.3410 - mae: 2.3410\n",
            "Epoch 84/100\n",
            "1/1 [==============================] - 0s 7ms/step - loss: 1.8392 - mae: 1.8392\n",
            "Epoch 85/100\n",
            "1/1 [==============================] - 0s 7ms/step - loss: 1.8720 - mae: 1.8720\n",
            "Epoch 86/100\n",
            "1/1 [==============================] - 0s 7ms/step - loss: 1.2767 - mae: 1.2767\n",
            "Epoch 87/100\n",
            "1/1 [==============================] - 0s 7ms/step - loss: 1.8677 - mae: 1.8677\n",
            "Epoch 88/100\n",
            "1/1 [==============================] - 0s 7ms/step - loss: 1.8077 - mae: 1.8077\n",
            "Epoch 89/100\n",
            "1/1 [==============================] - 0s 8ms/step - loss: 0.3738 - mae: 0.3738\n",
            "Epoch 90/100\n",
            "1/1 [==============================] - 0s 7ms/step - loss: 1.6633 - mae: 1.6633\n",
            "Epoch 91/100\n",
            "1/1 [==============================] - 0s 8ms/step - loss: 0.7698 - mae: 0.7698\n",
            "Epoch 92/100\n",
            "1/1 [==============================] - 0s 8ms/step - loss: 2.2183 - mae: 2.2183\n",
            "Epoch 93/100\n",
            "1/1 [==============================] - 0s 7ms/step - loss: 2.7111 - mae: 2.7111\n",
            "Epoch 94/100\n",
            "1/1 [==============================] - 0s 7ms/step - loss: 1.3335 - mae: 1.3335\n",
            "Epoch 95/100\n",
            "1/1 [==============================] - 0s 8ms/step - loss: 2.2235 - mae: 2.2235\n",
            "Epoch 96/100\n",
            "1/1 [==============================] - 0s 7ms/step - loss: 3.2088 - mae: 3.2088\n",
            "Epoch 97/100\n",
            "1/1 [==============================] - 0s 7ms/step - loss: 2.4858 - mae: 2.4858\n",
            "Epoch 98/100\n",
            "1/1 [==============================] - 0s 7ms/step - loss: 0.9672 - mae: 0.9672\n",
            "Epoch 99/100\n",
            "1/1 [==============================] - 0s 7ms/step - loss: 3.2158 - mae: 3.2158\n",
            "Epoch 100/100\n",
            "1/1 [==============================] - 0s 7ms/step - loss: 4.1665 - mae: 4.1665\n"
          ]
        },
        {
          "output_type": "execute_result",
          "data": {
            "text/plain": [
              "<keras.callbacks.History at 0x7f46f2fc0a90>"
            ]
          },
          "metadata": {},
          "execution_count": 317
        }
      ]
    },
    {
      "cell_type": "code",
      "source": [
        "model.predict([17.0])"
      ],
      "metadata": {
        "colab": {
          "base_uri": "https://localhost:8080/"
        },
        "id": "c-VAlp8n7bQi",
        "outputId": "7c8250dc-e8ce-42cf-ef0b-ea0849c600cd"
      },
      "execution_count": 318,
      "outputs": [
        {
          "output_type": "stream",
          "name": "stdout",
          "text": [
            "1/1 [==============================] - 0s 59ms/step\n"
          ]
        },
        {
          "output_type": "execute_result",
          "data": {
            "text/plain": [
              "array([[22.587086]], dtype=float32)"
            ]
          },
          "metadata": {},
          "execution_count": 318
        }
      ]
    },
    {
      "cell_type": "code",
      "source": [
        "model.predict([5.0, -5.0])"
      ],
      "metadata": {
        "colab": {
          "base_uri": "https://localhost:8080/"
        },
        "id": "l1ORGNMqabKl",
        "outputId": "d25022d8-e64b-4863-9422-a45fc34f1052"
      },
      "execution_count": 319,
      "outputs": [
        {
          "output_type": "stream",
          "name": "stdout",
          "text": [
            "1/1 [==============================] - 0s 25ms/step\n"
          ]
        },
        {
          "output_type": "execute_result",
          "data": {
            "text/plain": [
              "array([[14.206737 ],\n",
              "       [ 7.2231193]], dtype=float32)"
            ]
          },
          "metadata": {},
          "execution_count": 319
        }
      ]
    },
    {
      "cell_type": "code",
      "source": [
        "model = tf.keras.Sequential([\n",
        "    tf.keras.layers.Dense(100, input_shape=(1, ), activation=\"relu\"),\n",
        "    tf.keras.layers.Dense(100, input_shape=(1, ), activation=\"relu\"),\n",
        "    tf.keras.layers.Dense(100, input_shape=(1, ), activation=\"relu\"),\n",
        "    tf.keras.layers.Dense(1, input_shape=(1, ))\n",
        "])\n",
        "\n",
        "\n",
        "model.compile(loss=tf.keras.losses.mae, \n",
        "          optimizer=tf.keras.optimizers.Adam(lr=0.01),\n",
        "          metrics=[\"mae\"])\n",
        "\n",
        "model.fit(X, Y, epochs=50)"
      ],
      "metadata": {
        "colab": {
          "base_uri": "https://localhost:8080/"
        },
        "id": "hP0ETY55abPz",
        "outputId": "22fcc0e5-571c-4177-b421-37e348aa99ad"
      },
      "execution_count": 320,
      "outputs": [
        {
          "output_type": "stream",
          "name": "stdout",
          "text": [
            "Epoch 1/50\n",
            "1/1 [==============================] - 0s 447ms/step - loss: 17.4252 - mae: 17.4252\n",
            "Epoch 2/50\n",
            "1/1 [==============================] - 0s 10ms/step - loss: 13.3286 - mae: 13.3286\n",
            "Epoch 3/50\n",
            "1/1 [==============================] - 0s 10ms/step - loss: 7.8193 - mae: 7.8193\n",
            "Epoch 4/50\n",
            "1/1 [==============================] - 0s 8ms/step - loss: 6.0235 - mae: 6.0235\n",
            "Epoch 5/50\n",
            "1/1 [==============================] - 0s 9ms/step - loss: 8.0908 - mae: 8.0908\n",
            "Epoch 6/50\n",
            "1/1 [==============================] - 0s 11ms/step - loss: 6.6100 - mae: 6.6100\n",
            "Epoch 7/50\n",
            "1/1 [==============================] - 0s 6ms/step - loss: 4.4295 - mae: 4.4295\n",
            "Epoch 8/50\n",
            "1/1 [==============================] - 0s 8ms/step - loss: 6.0737 - mae: 6.0737\n",
            "Epoch 9/50\n",
            "1/1 [==============================] - 0s 7ms/step - loss: 6.9526 - mae: 6.9526\n",
            "Epoch 10/50\n",
            "1/1 [==============================] - 0s 7ms/step - loss: 6.3538 - mae: 6.3538\n",
            "Epoch 11/50\n",
            "1/1 [==============================] - 0s 7ms/step - loss: 4.6823 - mae: 4.6823\n",
            "Epoch 12/50\n",
            "1/1 [==============================] - 0s 7ms/step - loss: 4.5376 - mae: 4.5376\n",
            "Epoch 13/50\n",
            "1/1 [==============================] - 0s 16ms/step - loss: 5.7103 - mae: 5.7103\n",
            "Epoch 14/50\n",
            "1/1 [==============================] - 0s 8ms/step - loss: 5.9222 - mae: 5.9222\n",
            "Epoch 15/50\n",
            "1/1 [==============================] - 0s 6ms/step - loss: 5.2186 - mae: 5.2186\n",
            "Epoch 16/50\n",
            "1/1 [==============================] - 0s 11ms/step - loss: 4.2335 - mae: 4.2335\n",
            "Epoch 17/50\n",
            "1/1 [==============================] - 0s 7ms/step - loss: 3.7981 - mae: 3.7981\n",
            "Epoch 18/50\n",
            "1/1 [==============================] - 0s 8ms/step - loss: 4.6956 - mae: 4.6956\n",
            "Epoch 19/50\n",
            "1/1 [==============================] - 0s 8ms/step - loss: 4.5444 - mae: 4.5444\n",
            "Epoch 20/50\n",
            "1/1 [==============================] - 0s 7ms/step - loss: 3.6679 - mae: 3.6679\n",
            "Epoch 21/50\n",
            "1/1 [==============================] - 0s 7ms/step - loss: 3.7537 - mae: 3.7537\n",
            "Epoch 22/50\n",
            "1/1 [==============================] - 0s 7ms/step - loss: 3.9928 - mae: 3.9928\n",
            "Epoch 23/50\n",
            "1/1 [==============================] - 0s 9ms/step - loss: 3.9534 - mae: 3.9534\n",
            "Epoch 24/50\n",
            "1/1 [==============================] - 0s 7ms/step - loss: 3.7478 - mae: 3.7478\n",
            "Epoch 25/50\n",
            "1/1 [==============================] - 0s 9ms/step - loss: 2.7407 - mae: 2.7407\n",
            "Epoch 26/50\n",
            "1/1 [==============================] - 0s 7ms/step - loss: 3.5073 - mae: 3.5073\n",
            "Epoch 27/50\n",
            "1/1 [==============================] - 0s 7ms/step - loss: 3.4538 - mae: 3.4538\n",
            "Epoch 28/50\n",
            "1/1 [==============================] - 0s 6ms/step - loss: 2.3548 - mae: 2.3548\n",
            "Epoch 29/50\n",
            "1/1 [==============================] - 0s 6ms/step - loss: 2.7822 - mae: 2.7822\n",
            "Epoch 30/50\n",
            "1/1 [==============================] - 0s 9ms/step - loss: 2.5600 - mae: 2.5600\n",
            "Epoch 31/50\n",
            "1/1 [==============================] - 0s 8ms/step - loss: 3.1857 - mae: 3.1857\n",
            "Epoch 32/50\n",
            "1/1 [==============================] - 0s 13ms/step - loss: 2.8172 - mae: 2.8172\n",
            "Epoch 33/50\n",
            "1/1 [==============================] - 0s 7ms/step - loss: 2.1723 - mae: 2.1723\n",
            "Epoch 34/50\n",
            "1/1 [==============================] - 0s 17ms/step - loss: 2.0888 - mae: 2.0888\n",
            "Epoch 35/50\n",
            "1/1 [==============================] - 0s 9ms/step - loss: 2.3153 - mae: 2.3153\n",
            "Epoch 36/50\n",
            "1/1 [==============================] - 0s 8ms/step - loss: 2.1407 - mae: 2.1407\n",
            "Epoch 37/50\n",
            "1/1 [==============================] - 0s 7ms/step - loss: 1.4130 - mae: 1.4130\n",
            "Epoch 38/50\n",
            "1/1 [==============================] - 0s 14ms/step - loss: 1.4868 - mae: 1.4868\n",
            "Epoch 39/50\n",
            "1/1 [==============================] - 0s 9ms/step - loss: 1.5784 - mae: 1.5784\n",
            "Epoch 40/50\n",
            "1/1 [==============================] - 0s 7ms/step - loss: 1.4577 - mae: 1.4577\n",
            "Epoch 41/50\n",
            "1/1 [==============================] - 0s 7ms/step - loss: 0.8884 - mae: 0.8884\n",
            "Epoch 42/50\n",
            "1/1 [==============================] - 0s 8ms/step - loss: 0.6214 - mae: 0.6214\n",
            "Epoch 43/50\n",
            "1/1 [==============================] - 0s 9ms/step - loss: 0.5419 - mae: 0.5419\n",
            "Epoch 44/50\n",
            "1/1 [==============================] - 0s 6ms/step - loss: 0.7684 - mae: 0.7684\n",
            "Epoch 45/50\n",
            "1/1 [==============================] - 0s 7ms/step - loss: 1.8049 - mae: 1.8049\n",
            "Epoch 46/50\n",
            "1/1 [==============================] - 0s 7ms/step - loss: 0.8063 - mae: 0.8063\n",
            "Epoch 47/50\n",
            "1/1 [==============================] - 0s 8ms/step - loss: 2.5208 - mae: 2.5208\n",
            "Epoch 48/50\n",
            "1/1 [==============================] - 0s 7ms/step - loss: 3.1661 - mae: 3.1661\n",
            "Epoch 49/50\n",
            "1/1 [==============================] - 0s 6ms/step - loss: 2.3348 - mae: 2.3348\n",
            "Epoch 50/50\n",
            "1/1 [==============================] - 0s 6ms/step - loss: 0.5904 - mae: 0.5904\n"
          ]
        },
        {
          "output_type": "execute_result",
          "data": {
            "text/plain": [
              "<keras.callbacks.History at 0x7f46f8f808d0>"
            ]
          },
          "metadata": {},
          "execution_count": 320
        }
      ]
    },
    {
      "cell_type": "code",
      "source": [
        "model.predict([17.0, 5.0, -5.0])"
      ],
      "metadata": {
        "id": "Vxpv-IS0nAi3",
        "colab": {
          "base_uri": "https://localhost:8080/"
        },
        "outputId": "0b2dae84-8ecc-4cda-b41f-e533ba710aca"
      },
      "execution_count": 321,
      "outputs": [
        {
          "output_type": "stream",
          "name": "stdout",
          "text": [
            "1/1 [==============================] - 0s 68ms/step\n"
          ]
        },
        {
          "output_type": "execute_result",
          "data": {
            "text/plain": [
              "array([[28.002838 ],\n",
              "       [15.6875925],\n",
              "       [ 4.6963353]], dtype=float32)"
            ]
          },
          "metadata": {},
          "execution_count": 321
        }
      ]
    },
    {
      "cell_type": "markdown",
      "source": [
        "## Evaluating a model"
      ],
      "metadata": {
        "id": "B1SSrd_wBg3p"
      }
    },
    {
      "cell_type": "code",
      "source": [
        "X = tf.range(-100, 100, 4)\n",
        "X"
      ],
      "metadata": {
        "id": "C4NDNLeSnArE",
        "colab": {
          "base_uri": "https://localhost:8080/"
        },
        "outputId": "83f70b58-0bf5-4f05-9cf5-14ff6c60077a"
      },
      "execution_count": 322,
      "outputs": [
        {
          "output_type": "execute_result",
          "data": {
            "text/plain": [
              "<tf.Tensor: shape=(50,), dtype=int32, numpy=\n",
              "array([-100,  -96,  -92,  -88,  -84,  -80,  -76,  -72,  -68,  -64,  -60,\n",
              "        -56,  -52,  -48,  -44,  -40,  -36,  -32,  -28,  -24,  -20,  -16,\n",
              "        -12,   -8,   -4,    0,    4,    8,   12,   16,   20,   24,   28,\n",
              "         32,   36,   40,   44,   48,   52,   56,   60,   64,   68,   72,\n",
              "         76,   80,   84,   88,   92,   96], dtype=int32)>"
            ]
          },
          "metadata": {},
          "execution_count": 322
        }
      ]
    },
    {
      "cell_type": "code",
      "source": [
        "Y = X + 10\n",
        "Y"
      ],
      "metadata": {
        "colab": {
          "base_uri": "https://localhost:8080/"
        },
        "id": "h5Q82HlpBN14",
        "outputId": "4d41ac7c-c705-43b8-e89a-914d07c6ffb4"
      },
      "execution_count": 323,
      "outputs": [
        {
          "output_type": "execute_result",
          "data": {
            "text/plain": [
              "<tf.Tensor: shape=(50,), dtype=int32, numpy=\n",
              "array([-90, -86, -82, -78, -74, -70, -66, -62, -58, -54, -50, -46, -42,\n",
              "       -38, -34, -30, -26, -22, -18, -14, -10,  -6,  -2,   2,   6,  10,\n",
              "        14,  18,  22,  26,  30,  34,  38,  42,  46,  50,  54,  58,  62,\n",
              "        66,  70,  74,  78,  82,  86,  90,  94,  98, 102, 106], dtype=int32)>"
            ]
          },
          "metadata": {},
          "execution_count": 323
        }
      ]
    },
    {
      "cell_type": "code",
      "source": [
        "import matplotlib.pyplot as plt\n",
        "\n",
        "plt.scatter(X, Y)"
      ],
      "metadata": {
        "colab": {
          "base_uri": "https://localhost:8080/",
          "height": 283
        },
        "id": "KAzN8nSSBN8M",
        "outputId": "94e3d536-6fb3-41b4-a683-a335aef057e6"
      },
      "execution_count": 324,
      "outputs": [
        {
          "output_type": "execute_result",
          "data": {
            "text/plain": [
              "<matplotlib.collections.PathCollection at 0x7f46f9c37c10>"
            ]
          },
          "metadata": {},
          "execution_count": 324
        },
        {
          "output_type": "display_data",
          "data": {
            "text/plain": [
              "<Figure size 432x288 with 1 Axes>"
            ],
            "image/png": "[encoded data removed]"
          },
          "metadata": {
            "needs_background": "light"
          }
        }
      ]
    },
    {
      "cell_type": "code",
      "source": [
        "len(X)"
      ],
      "metadata": {
        "colab": {
          "base_uri": "https://localhost:8080/"
        },
        "id": "bqz4VZAbBOCF",
        "outputId": "fbe12b8f-4ddd-4e5c-a533-94bf66da2950"
      },
      "execution_count": 325,
      "outputs": [
        {
          "output_type": "execute_result",
          "data": {
            "text/plain": [
              "50"
            ]
          },
          "metadata": {},
          "execution_count": 325
        }
      ]
    },
    {
      "cell_type": "code",
      "source": [
        "X_train = X[:40]\n",
        "Y_train = Y[:40]\n",
        "\n",
        "X_test = X[40:]\n",
        "Y_test= Y[40:]\n",
        "\n",
        "len(X_train), len(Y_train), len(X_test), len(Y_test)"
      ],
      "metadata": {
        "colab": {
          "base_uri": "https://localhost:8080/"
        },
        "id": "qrzETLmoCLd4",
        "outputId": "1574fe91-b866-4475-96f0-2d38c8a7423b"
      },
      "execution_count": 326,
      "outputs": [
        {
          "output_type": "execute_result",
          "data": {
            "text/plain": [
              "(40, 40, 10, 10)"
            ]
          },
          "metadata": {},
          "execution_count": 326
        }
      ]
    },
    {
      "cell_type": "code",
      "source": [
        "plt.figure(figsize=(10, 7))\n",
        "# Plot training data in blue\n",
        "plt.scatter(X_train, Y_train, c=\"b\", label=\"training\")\n",
        "#Plot test data in green\n",
        "plt.scatter(X_test, Y_test, c=\"g\", label=\"testing\")\n",
        "\n",
        "plt.legend();\n"
      ],
      "metadata": {
        "colab": {
          "base_uri": "https://localhost:8080/",
          "height": 428
        },
        "id": "WkjrhTRpGlfP",
        "outputId": "8f1d0b9f-2944-48ae-8bf4-585eb59c839b"
      },
      "execution_count": 327,
      "outputs": [
        {
          "output_type": "display_data",
          "data": {
            "text/plain": [
              "<Figure size 720x504 with 1 Axes>"
            ],
            "image/png": "[encoded data removed]"
          },
          "metadata": {
            "needs_background": "light"
          }
        }
      ]
    },
    {
      "cell_type": "code",
      "source": [
        "# 1. Create a model\n",
        "\n",
        "model = tf.keras.Sequential([\n",
        "    tf.keras.layers.Dense(100, input_shape=(1, ), name=\"input_layer\"),\n",
        "    tf.keras.layers.Dense(1, input_shape=(1, ), name=\"output_layer\")\n",
        "])\n",
        "\n",
        "# 2. Compile a model\n",
        "\n",
        "model.compile(loss=tf.keras.losses.mae,\n",
        "                 optimizer=tf.keras.optimizers.Adam(lr=0.01),\n",
        "                 metrics=\"mae\")\n",
        "\n",
        "# 3. Fit the model\n",
        "# model.fit(X_train, Y_train, epochs=100)"
      ],
      "metadata": {
        "id": "TSPTcjtCGllT"
      },
      "execution_count": 328,
      "outputs": []
    },
    {
      "cell_type": "code",
      "source": [
        "model.summary()"
      ],
      "metadata": {
        "colab": {
          "base_uri": "https://localhost:8080/"
        },
        "id": "P6gTls75GlrW",
        "outputId": "2af7f451-77bc-4ce1-d9db-edcd572b8368"
      },
      "execution_count": 329,
      "outputs": [
        {
          "output_type": "stream",
          "name": "stdout",
          "text": [
            "Model: \"sequential_74\"\n",
            "_________________________________________________________________\n",
            " Layer (type)                Output Shape              Param #   \n",
            "=================================================================\n",
            " input_layer (Dense)         (None, 100)               200       \n",
            "                                                                 \n",
            " output_layer (Dense)        (None, 1)                 101       \n",
            "                                                                 \n",
            "=================================================================\n",
            "Total params: 301\n",
            "Trainable params: 301\n",
            "Non-trainable params: 0\n",
            "_________________________________________________________________\n"
          ]
        }
      ]
    },
    {
      "cell_type": "code",
      "source": [
        "model.fit(X_train, Y_train, epochs=100, verbose=0)"
      ],
      "metadata": {
        "colab": {
          "base_uri": "https://localhost:8080/"
        },
        "id": "C7UT86XvGlxi",
        "outputId": "f5aed624-83b7-4326-e8ba-e097a3d6b550"
      },
      "execution_count": 330,
      "outputs": [
        {
          "output_type": "execute_result",
          "data": {
            "text/plain": [
              "<keras.callbacks.History at 0x7f46f8dc5750>"
            ]
          },
          "metadata": {},
          "execution_count": 330
        }
      ]
    },
    {
      "cell_type": "code",
      "source": [
        "from tensorflow.keras.utils import plot_model\n",
        "\n",
        "plot_model(model=model, show_shapes=True)"
      ],
      "metadata": {
        "colab": {
          "base_uri": "https://localhost:8080/",
          "height": 312
        },
        "id": "VKW2US8OCLkB",
        "outputId": "4c0fcea0-6e24-4a2c-d0be-20553701017d"
      },
      "execution_count": 331,
      "outputs": [
        {
          "output_type": "execute_result",
          "data": {
            "image/png": "[encoded data removed]",
            "text/plain": [
              "<IPython.core.display.Image object>"
            ]
          },
          "metadata": {},
          "execution_count": 331
        }
      ]
    },
    {
      "cell_type": "code",
      "source": [
        "Y_pred = model.predict(X_test)\n",
        "Y_pred"
      ],
      "metadata": {
        "colab": {
          "base_uri": "https://localhost:8080/"
        },
        "id": "37XcZB4JCLpX",
        "outputId": "923e51a0-744f-48bd-df52-e1706b4b4307"
      },
      "execution_count": 332,
      "outputs": [
        {
          "output_type": "stream",
          "name": "stdout",
          "text": [
            "1/1 [==============================] - 0s 44ms/step\n"
          ]
        },
        {
          "output_type": "execute_result",
          "data": {
            "text/plain": [
              "array([[ 74.87466 ],\n",
              "       [ 79.20304 ],\n",
              "       [ 83.5314  ],\n",
              "       [ 87.85978 ],\n",
              "       [ 92.188156],\n",
              "       [ 96.5165  ],\n",
              "       [100.84488 ],\n",
              "       [105.17325 ],\n",
              "       [109.5016  ],\n",
              "       [113.829994]], dtype=float32)"
            ]
          },
          "metadata": {},
          "execution_count": 332
        }
      ]
    },
    {
      "cell_type": "code",
      "source": [
        "Y_test"
      ],
      "metadata": {
        "colab": {
          "base_uri": "https://localhost:8080/"
        },
        "id": "dfPM93YFCLwB",
        "outputId": "6ba427ed-3db0-43dc-b84e-398119029874"
      },
      "execution_count": 333,
      "outputs": [
        {
          "output_type": "execute_result",
          "data": {
            "text/plain": [
              "<tf.Tensor: shape=(10,), dtype=int32, numpy=array([ 70,  74,  78,  82,  86,  90,  94,  98, 102, 106], dtype=int32)>"
            ]
          },
          "metadata": {},
          "execution_count": 333
        }
      ]
    },
    {
      "cell_type": "code",
      "source": [
        "# Let's create a plotting function\n",
        "\n",
        "def plot_predictions(train_data=X_train,\n",
        "                     train_labels=Y_train,\n",
        "                     test_data=X_test,\n",
        "                     test_labels=Y_test,\n",
        "                     predictions=Y_pred):\n",
        "  plt.figure(figsize=(10, 7))\n",
        "\n",
        "  plt.scatter(train_data, train_labels, c=\"b\", label=\"Training data\")\n",
        "\n",
        "  plt.scatter(test_data, test_labels, c=\"g\", label=\"Testing data\")\n",
        "\n",
        "  plt.scatter(test_data, predictions, c=\"r\", label=\"Predictions\")\n",
        "\n",
        "  plt.legend();"
      ],
      "metadata": {
        "id": "suSfl3VqCL1w"
      },
      "execution_count": 334,
      "outputs": []
    },
    {
      "cell_type": "code",
      "source": [
        "plot_predictions(train_data=X_train,\n",
        "                train_labels=Y_train,\n",
        "                test_data=X_test,\n",
        "                test_labels=Y_test,\n",
        "                predictions=Y_pred)"
      ],
      "metadata": {
        "colab": {
          "base_uri": "https://localhost:8080/",
          "height": 428
        },
        "id": "pxP97YCoCL8Z",
        "outputId": "5aaa5a38-78af-4319-86f5-b96e4f5431eb"
      },
      "execution_count": 335,
      "outputs": [
        {
          "output_type": "display_data",
          "data": {
            "text/plain": [
              "<Figure size 720x504 with 1 Axes>"
            ],
            "image/png": "[encoded data removed]"
          },
          "metadata": {
            "needs_background": "light"
          }
        }
      ]
    },
    {
      "cell_type": "code",
      "source": [
        "model.evaluate(X_test, Y_test)"
      ],
      "metadata": {
        "colab": {
          "base_uri": "https://localhost:8080/"
        },
        "id": "GUSsq147CMC4",
        "outputId": "74f94ddb-a276-4afd-a6f4-4675ee4ac85f"
      },
      "execution_count": 336,
      "outputs": [
        {
          "output_type": "stream",
          "name": "stdout",
          "text": [
            "1/1 [==============================] - 0s 105ms/step - loss: 6.3523 - mae: 6.3523\n"
          ]
        },
        {
          "output_type": "execute_result",
          "data": {
            "text/plain": [
              "[6.3523268699646, 6.3523268699646]"
            ]
          },
          "metadata": {},
          "execution_count": 336
        }
      ]
    },
    {
      "cell_type": "code",
      "source": [
        "Y_pred"
      ],
      "metadata": {
        "colab": {
          "base_uri": "https://localhost:8080/"
        },
        "id": "h3SLU-bBXdtl",
        "outputId": "3eb7a560-0d2b-451a-dd3f-28c6b95aea1c"
      },
      "execution_count": 337,
      "outputs": [
        {
          "output_type": "execute_result",
          "data": {
            "text/plain": [
              "array([[ 74.87466 ],\n",
              "       [ 79.20304 ],\n",
              "       [ 83.5314  ],\n",
              "       [ 87.85978 ],\n",
              "       [ 92.188156],\n",
              "       [ 96.5165  ],\n",
              "       [100.84488 ],\n",
              "       [105.17325 ],\n",
              "       [109.5016  ],\n",
              "       [113.829994]], dtype=float32)"
            ]
          },
          "metadata": {},
          "execution_count": 337
        }
      ]
    },
    {
      "cell_type": "code",
      "source": [
        "Y_test"
      ],
      "metadata": {
        "colab": {
          "base_uri": "https://localhost:8080/"
        },
        "id": "EXBOviZ3Xdzi",
        "outputId": "55293e43-b024-4782-fabf-23927b889654"
      },
      "execution_count": 338,
      "outputs": [
        {
          "output_type": "execute_result",
          "data": {
            "text/plain": [
              "<tf.Tensor: shape=(10,), dtype=int32, numpy=array([ 70,  74,  78,  82,  86,  90,  94,  98, 102, 106], dtype=int32)>"
            ]
          },
          "metadata": {},
          "execution_count": 338
        }
      ]
    },
    {
      "cell_type": "code",
      "source": [
        "tf.metrics.mean_absolute_error(y_true=Y_test, y_pred=Y_pred)"
      ],
      "metadata": {
        "colab": {
          "base_uri": "https://localhost:8080/"
        },
        "id": "7thsFZtlXd55",
        "outputId": "fcd2b198-f035-484c-c945-20d34dd09bd1"
      },
      "execution_count": 339,
      "outputs": [
        {
          "output_type": "execute_result",
          "data": {
            "text/plain": [
              "<tf.Tensor: shape=(10,), dtype=float32, numpy=\n",
              "array([14.275206, 11.918783, 10.493719, 10.      , 10.437632, 11.806601,\n",
              "       14.106928, 17.338598, 21.501602, 25.829992], dtype=float32)>"
            ]
          },
          "metadata": {},
          "execution_count": 339
        }
      ]
    },
    {
      "cell_type": "code",
      "source": [
        "Y_pred"
      ],
      "metadata": {
        "colab": {
          "base_uri": "https://localhost:8080/"
        },
        "id": "h9Hxw7tXaPh3",
        "outputId": "27504837-c29e-470a-cbdf-d5f6df0860e6"
      },
      "execution_count": 340,
      "outputs": [
        {
          "output_type": "execute_result",
          "data": {
            "text/plain": [
              "array([[ 74.87466 ],\n",
              "       [ 79.20304 ],\n",
              "       [ 83.5314  ],\n",
              "       [ 87.85978 ],\n",
              "       [ 92.188156],\n",
              "       [ 96.5165  ],\n",
              "       [100.84488 ],\n",
              "       [105.17325 ],\n",
              "       [109.5016  ],\n",
              "       [113.829994]], dtype=float32)"
            ]
          },
          "metadata": {},
          "execution_count": 340
        }
      ]
    },
    {
      "cell_type": "code",
      "source": [
        "tf.squeeze(Y_pred)"
      ],
      "metadata": {
        "colab": {
          "base_uri": "https://localhost:8080/"
        },
        "id": "A6U12bR6Xd_a",
        "outputId": "42df1a9c-389d-4c97-c2c1-91d4db115bf6"
      },
      "execution_count": 341,
      "outputs": [
        {
          "output_type": "execute_result",
          "data": {
            "text/plain": [
              "<tf.Tensor: shape=(10,), dtype=float32, numpy=\n",
              "array([ 74.87466 ,  79.20304 ,  83.5314  ,  87.85978 ,  92.188156,\n",
              "        96.5165  , 100.84488 , 105.17325 , 109.5016  , 113.829994],\n",
              "      dtype=float32)>"
            ]
          },
          "metadata": {},
          "execution_count": 341
        }
      ]
    },
    {
      "cell_type": "code",
      "source": [
        "mae = tf.metrics.mean_absolute_error(y_true=Y_test, y_pred=tf.squeeze(Y_pred))\n",
        "mae"
      ],
      "metadata": {
        "colab": {
          "base_uri": "https://localhost:8080/"
        },
        "id": "korOeT5iBNfs",
        "outputId": "d287ba9c-df8a-4fa8-ac4b-c4bb00960177"
      },
      "execution_count": 342,
      "outputs": [
        {
          "output_type": "execute_result",
          "data": {
            "text/plain": [
              "<tf.Tensor: shape=(), dtype=float32, numpy=6.3523264>"
            ]
          },
          "metadata": {},
          "execution_count": 342
        }
      ]
    },
    {
      "cell_type": "code",
      "source": [
        "mse = tf.metrics.mean_squared_error(Y_test, tf.squeeze(Y_pred))\n",
        "mse"
      ],
      "metadata": {
        "id": "8A8SrABXnAw6",
        "colab": {
          "base_uri": "https://localhost:8080/"
        },
        "outputId": "ef9f96c1-839e-489d-eb5a-f04bbb9f0a71"
      },
      "execution_count": 343,
      "outputs": [
        {
          "output_type": "execute_result",
          "data": {
            "text/plain": [
              "<tf.Tensor: shape=(), dtype=float32, numpy=41.241615>"
            ]
          },
          "metadata": {},
          "execution_count": 343
        }
      ]
    },
    {
      "cell_type": "code",
      "source": [
        "# Make some functions to reuse MAE and MSE\n",
        "\n",
        "def mae(y_true, y_pred):\n",
        "  return tf.metrics.mean_absolute_error(y_true, tf.squeeze(y_pred))\n",
        "\n",
        "def mse(y_true, y_pred):\n",
        "  return tf.metrics.mean_squared_error(y_true, tf.squeeze(y_pred))"
      ],
      "metadata": {
        "id": "VdOhTaL9nA2W"
      },
      "execution_count": 344,
      "outputs": []
    },
    {
      "cell_type": "code",
      "source": [
        "# Set random seed\n",
        "tf.random.set_seed(42)\n",
        "\n",
        "# 1. Create the model\n",
        "model_1 = tf.keras.Sequential([\n",
        "    tf.keras.layers.Dense(1, input_shape=(1, ))\n",
        "])\n",
        "\n",
        "# 2. Compile the model\n",
        "model_1.compile(loss=tf.keras.losses.mae,\n",
        "                optimizer=tf.keras.optimizers.SGD(),\n",
        "                metrics=[\"mae\"])\n",
        "\n",
        "# 3. Fit the model\n",
        "model_1.fit(X_train, Y_train, epochs=100)"
      ],
      "metadata": {
        "id": "b4wiIuDYhO8G",
        "colab": {
          "base_uri": "https://localhost:8080/"
        },
        "outputId": "01dcee89-f1c5-4265-a346-4637e06d729b"
      },
      "execution_count": 345,
      "outputs": [
        {
          "output_type": "stream",
          "name": "stdout",
          "text": [
            "Epoch 1/100\n",
            "2/2 [==============================] - 0s 7ms/step - loss: 15.9024 - mae: 15.9024\n",
            "Epoch 2/100\n",
            "2/2 [==============================] - 0s 6ms/step - loss: 11.2837 - mae: 11.2837\n",
            "Epoch 3/100\n",
            "2/2 [==============================] - 0s 7ms/step - loss: 11.1075 - mae: 11.1075\n",
            "Epoch 4/100\n",
            "2/2 [==============================] - 0s 4ms/step - loss: 9.2990 - mae: 9.2990\n",
            "Epoch 5/100\n",
            "2/2 [==============================] - 0s 6ms/step - loss: 10.1677 - mae: 10.1677\n",
            "Epoch 6/100\n",
            "2/2 [==============================] - 0s 5ms/step - loss: 9.4303 - mae: 9.4303\n",
            "Epoch 7/100\n",
            "2/2 [==============================] - 0s 4ms/step - loss: 8.5704 - mae: 8.5704\n",
            "Epoch 8/100\n",
            "2/2 [==============================] - 0s 3ms/step - loss: 9.0442 - mae: 9.0442\n",
            "Epoch 9/100\n",
            "2/2 [==============================] - 0s 3ms/step - loss: 18.7517 - mae: 18.7517\n",
            "Epoch 10/100\n",
            "2/2 [==============================] - 0s 3ms/step - loss: 10.1142 - mae: 10.1142\n",
            "Epoch 11/100\n",
            "2/2 [==============================] - 0s 3ms/step - loss: 8.3980 - mae: 8.3980\n",
            "Epoch 12/100\n",
            "2/2 [==============================] - 0s 3ms/step - loss: 10.6639 - mae: 10.6639\n",
            "Epoch 13/100\n",
            "2/2 [==============================] - 0s 3ms/step - loss: 9.7977 - mae: 9.7977\n",
            "Epoch 14/100\n",
            "2/2 [==============================] - 0s 4ms/step - loss: 16.0103 - mae: 16.0103\n",
            "Epoch 15/100\n",
            "2/2 [==============================] - 0s 10ms/step - loss: 11.4068 - mae: 11.4068\n",
            "Epoch 16/100\n",
            "2/2 [==============================] - 0s 6ms/step - loss: 8.5393 - mae: 8.5393\n",
            "Epoch 17/100\n",
            "2/2 [==============================] - 0s 6ms/step - loss: 13.6348 - mae: 13.6348\n",
            "Epoch 18/100\n",
            "2/2 [==============================] - 0s 5ms/step - loss: 11.4629 - mae: 11.4629\n",
            "Epoch 19/100\n",
            "2/2 [==============================] - 0s 5ms/step - loss: 17.9148 - mae: 17.9148\n",
            "Epoch 20/100\n",
            "2/2 [==============================] - 0s 4ms/step - loss: 15.0494 - mae: 15.0494\n",
            "Epoch 21/100\n",
            "2/2 [==============================] - 0s 3ms/step - loss: 11.0216 - mae: 11.0216\n",
            "Epoch 22/100\n",
            "2/2 [==============================] - 0s 4ms/step - loss: 8.1558 - mae: 8.1558\n",
            "Epoch 23/100\n",
            "2/2 [==============================] - 0s 8ms/step - loss: 9.5138 - mae: 9.5138\n",
            "Epoch 24/100\n",
            "2/2 [==============================] - 0s 6ms/step - loss: 7.6617 - mae: 7.6617\n",
            "Epoch 25/100\n",
            "2/2 [==============================] - 0s 5ms/step - loss: 13.1859 - mae: 13.1859\n",
            "Epoch 26/100\n",
            "2/2 [==============================] - 0s 5ms/step - loss: 16.4211 - mae: 16.4211\n",
            "Epoch 27/100\n",
            "2/2 [==============================] - 0s 5ms/step - loss: 13.1660 - mae: 13.1660\n",
            "Epoch 28/100\n",
            "2/2 [==============================] - 0s 5ms/step - loss: 14.2559 - mae: 14.2559\n",
            "Epoch 29/100\n",
            "2/2 [==============================] - 0s 6ms/step - loss: 10.0670 - mae: 10.0670\n",
            "Epoch 30/100\n",
            "2/2 [==============================] - 0s 5ms/step - loss: 16.3409 - mae: 16.3409\n",
            "Epoch 31/100\n",
            "2/2 [==============================] - 0s 4ms/step - loss: 23.6444 - mae: 23.6444\n",
            "Epoch 32/100\n",
            "2/2 [==============================] - 0s 3ms/step - loss: 7.6215 - mae: 7.6215\n",
            "Epoch 33/100\n",
            "2/2 [==============================] - 0s 5ms/step - loss: 9.3221 - mae: 9.3221\n",
            "Epoch 34/100\n",
            "2/2 [==============================] - 0s 4ms/step - loss: 13.7313 - mae: 13.7313\n",
            "Epoch 35/100\n",
            "2/2 [==============================] - 0s 5ms/step - loss: 11.1276 - mae: 11.1276\n",
            "Epoch 36/100\n",
            "2/2 [==============================] - 0s 4ms/step - loss: 13.3222 - mae: 13.3222\n",
            "Epoch 37/100\n",
            "2/2 [==============================] - 0s 5ms/step - loss: 9.4763 - mae: 9.4763\n",
            "Epoch 38/100\n",
            "2/2 [==============================] - 0s 4ms/step - loss: 10.1381 - mae: 10.1381\n",
            "Epoch 39/100\n",
            "2/2 [==============================] - 0s 4ms/step - loss: 10.1793 - mae: 10.1793\n",
            "Epoch 40/100\n",
            "2/2 [==============================] - 0s 4ms/step - loss: 10.9137 - mae: 10.9137\n",
            "Epoch 41/100\n",
            "2/2 [==============================] - 0s 5ms/step - loss: 7.9063 - mae: 7.9063\n",
            "Epoch 42/100\n",
            "2/2 [==============================] - 0s 5ms/step - loss: 10.0914 - mae: 10.0914\n",
            "Epoch 43/100\n",
            "2/2 [==============================] - 0s 5ms/step - loss: 8.7006 - mae: 8.7006\n",
            "Epoch 44/100\n",
            "2/2 [==============================] - 0s 5ms/step - loss: 12.2046 - mae: 12.2046\n",
            "Epoch 45/100\n",
            "2/2 [==============================] - 0s 5ms/step - loss: 13.7970 - mae: 13.7970\n",
            "Epoch 46/100\n",
            "2/2 [==============================] - 0s 5ms/step - loss: 8.4687 - mae: 8.4687\n",
            "Epoch 47/100\n",
            "2/2 [==============================] - 0s 5ms/step - loss: 9.1330 - mae: 9.1330\n",
            "Epoch 48/100\n",
            "2/2 [==============================] - 0s 5ms/step - loss: 10.6190 - mae: 10.6190\n",
            "Epoch 49/100\n",
            "2/2 [==============================] - 0s 5ms/step - loss: 7.7503 - mae: 7.7503\n",
            "Epoch 50/100\n",
            "2/2 [==============================] - 0s 6ms/step - loss: 9.5407 - mae: 9.5407\n",
            "Epoch 51/100\n",
            "2/2 [==============================] - 0s 4ms/step - loss: 9.1584 - mae: 9.1584\n",
            "Epoch 52/100\n",
            "2/2 [==============================] - 0s 5ms/step - loss: 16.3630 - mae: 16.3630\n",
            "Epoch 53/100\n",
            "2/2 [==============================] - 0s 4ms/step - loss: 14.1299 - mae: 14.1299\n",
            "Epoch 54/100\n",
            "2/2 [==============================] - 0s 5ms/step - loss: 21.1247 - mae: 21.1247\n",
            "Epoch 55/100\n",
            "2/2 [==============================] - 0s 3ms/step - loss: 16.3961 - mae: 16.3961\n",
            "Epoch 56/100\n",
            "2/2 [==============================] - 0s 4ms/step - loss: 9.9806 - mae: 9.9806\n",
            "Epoch 57/100\n",
            "2/2 [==============================] - 0s 5ms/step - loss: 9.9606 - mae: 9.9606\n",
            "Epoch 58/100\n",
            "2/2 [==============================] - 0s 3ms/step - loss: 9.2209 - mae: 9.2209\n",
            "Epoch 59/100\n",
            "2/2 [==============================] - 0s 4ms/step - loss: 8.4239 - mae: 8.4239\n",
            "Epoch 60/100\n",
            "2/2 [==============================] - 0s 3ms/step - loss: 9.4869 - mae: 9.4869\n",
            "Epoch 61/100\n",
            "2/2 [==============================] - 0s 3ms/step - loss: 11.4354 - mae: 11.4354\n",
            "Epoch 62/100\n",
            "2/2 [==============================] - 0s 3ms/step - loss: 11.6887 - mae: 11.6887\n",
            "Epoch 63/100\n",
            "2/2 [==============================] - 0s 3ms/step - loss: 7.0838 - mae: 7.0838\n",
            "Epoch 64/100\n",
            "2/2 [==============================] - 0s 3ms/step - loss: 16.9675 - mae: 16.9675\n",
            "Epoch 65/100\n",
            "2/2 [==============================] - 0s 3ms/step - loss: 12.4599 - mae: 12.4599\n",
            "Epoch 66/100\n",
            "2/2 [==============================] - 0s 4ms/step - loss: 13.0184 - mae: 13.0184\n",
            "Epoch 67/100\n",
            "2/2 [==============================] - 0s 3ms/step - loss: 8.0600 - mae: 8.0600\n",
            "Epoch 68/100\n",
            "2/2 [==============================] - 0s 6ms/step - loss: 10.1888 - mae: 10.1888\n",
            "Epoch 69/100\n",
            "2/2 [==============================] - 0s 8ms/step - loss: 12.3633 - mae: 12.3633\n",
            "Epoch 70/100\n",
            "2/2 [==============================] - 0s 4ms/step - loss: 9.0516 - mae: 9.0516\n",
            "Epoch 71/100\n",
            "2/2 [==============================] - 0s 4ms/step - loss: 10.0378 - mae: 10.0378\n",
            "Epoch 72/100\n",
            "2/2 [==============================] - 0s 4ms/step - loss: 10.0516 - mae: 10.0516\n",
            "Epoch 73/100\n",
            "2/2 [==============================] - 0s 5ms/step - loss: 12.6151 - mae: 12.6151\n",
            "Epoch 74/100\n",
            "2/2 [==============================] - 0s 4ms/step - loss: 10.3819 - mae: 10.3819\n",
            "Epoch 75/100\n",
            "2/2 [==============================] - 0s 8ms/step - loss: 9.7229 - mae: 9.7229\n",
            "Epoch 76/100\n",
            "2/2 [==============================] - 0s 4ms/step - loss: 11.2252 - mae: 11.2252\n",
            "Epoch 77/100\n",
            "2/2 [==============================] - 0s 4ms/step - loss: 8.3642 - mae: 8.3642\n",
            "Epoch 78/100\n",
            "2/2 [==============================] - 0s 3ms/step - loss: 9.1274 - mae: 9.1274\n",
            "Epoch 79/100\n",
            "2/2 [==============================] - 0s 4ms/step - loss: 19.5039 - mae: 19.5039\n",
            "Epoch 80/100\n",
            "2/2 [==============================] - 0s 4ms/step - loss: 14.8945 - mae: 14.8945\n",
            "Epoch 81/100\n",
            "2/2 [==============================] - 0s 7ms/step - loss: 9.0034 - mae: 9.0034\n",
            "Epoch 82/100\n",
            "2/2 [==============================] - 0s 8ms/step - loss: 13.0206 - mae: 13.0206\n",
            "Epoch 83/100\n",
            "2/2 [==============================] - 0s 3ms/step - loss: 7.9299 - mae: 7.9299\n",
            "Epoch 84/100\n",
            "2/2 [==============================] - 0s 3ms/step - loss: 7.6872 - mae: 7.6872\n",
            "Epoch 85/100\n",
            "2/2 [==============================] - 0s 5ms/step - loss: 10.0328 - mae: 10.0328\n",
            "Epoch 86/100\n",
            "2/2 [==============================] - 0s 4ms/step - loss: 9.2433 - mae: 9.2433\n",
            "Epoch 87/100\n",
            "2/2 [==============================] - 0s 3ms/step - loss: 12.0209 - mae: 12.0209\n",
            "Epoch 88/100\n",
            "2/2 [==============================] - 0s 3ms/step - loss: 10.6389 - mae: 10.6389\n",
            "Epoch 89/100\n",
            "2/2 [==============================] - 0s 5ms/step - loss: 7.2667 - mae: 7.2667\n",
            "Epoch 90/100\n",
            "2/2 [==============================] - 0s 3ms/step - loss: 12.7786 - mae: 12.7786\n",
            "Epoch 91/100\n",
            "2/2 [==============================] - 0s 4ms/step - loss: 7.3481 - mae: 7.3481\n",
            "Epoch 92/100\n",
            "2/2 [==============================] - 0s 3ms/step - loss: 7.7175 - mae: 7.7175\n",
            "Epoch 93/100\n",
            "2/2 [==============================] - 0s 4ms/step - loss: 7.1263 - mae: 7.1263\n",
            "Epoch 94/100\n",
            "2/2 [==============================] - 0s 4ms/step - loss: 12.6190 - mae: 12.6190\n",
            "Epoch 95/100\n",
            "2/2 [==============================] - 0s 5ms/step - loss: 10.0912 - mae: 10.0912\n",
            "Epoch 96/100\n",
            "2/2 [==============================] - 0s 8ms/step - loss: 9.3558 - mae: 9.3558\n",
            "Epoch 97/100\n",
            "2/2 [==============================] - 0s 4ms/step - loss: 12.6834 - mae: 12.6834\n",
            "Epoch 98/100\n",
            "2/2 [==============================] - 0s 3ms/step - loss: 8.6762 - mae: 8.6762\n",
            "Epoch 99/100\n",
            "2/2 [==============================] - 0s 4ms/step - loss: 9.4693 - mae: 9.4693\n",
            "Epoch 100/100\n",
            "2/2 [==============================] - 0s 5ms/step - loss: 8.7067 - mae: 8.7067\n"
          ]
        },
        {
          "output_type": "execute_result",
          "data": {
            "text/plain": [
              "<keras.callbacks.History at 0x7f46f7d4fed0>"
            ]
          },
          "metadata": {},
          "execution_count": 345
        }
      ]
    },
    {
      "cell_type": "code",
      "source": [
        "Y_pred_1 = model_1.predict(X_test)\n",
        "plot_predictions(predictions=Y_pred_1)"
      ],
      "metadata": {
        "id": "P9UMx9u4w6eN",
        "colab": {
          "base_uri": "https://localhost:8080/",
          "height": 446
        },
        "outputId": "c128cde8-1613-4783-e19e-523f86fc59da"
      },
      "execution_count": 346,
      "outputs": [
        {
          "output_type": "stream",
          "name": "stdout",
          "text": [
            "1/1 [==============================] - 0s 38ms/step\n"
          ]
        },
        {
          "output_type": "display_data",
          "data": {
            "text/plain": [
              "<Figure size 720x504 with 1 Axes>"
            ],
            "image/png": "[encoded data removed]"
          },
          "metadata": {
            "needs_background": "light"
          }
        }
      ]
    },
    {
      "cell_type": "code",
      "source": [
        "# Calculate model_1 evalutaion metrics\n",
        "\n",
        "mae_1 = mae(Y_test, Y_pred_1)\n",
        "mse_1= mse(Y_test, Y_pred_1)\n",
        "mae_1, mse_1"
      ],
      "metadata": {
        "id": "M4hXQ92Jw6kj",
        "colab": {
          "base_uri": "https://localhost:8080/"
        },
        "outputId": "a2098361-b860-4e96-e84a-6ef9bdccb473"
      },
      "execution_count": 347,
      "outputs": [
        {
          "output_type": "execute_result",
          "data": {
            "text/plain": [
              "(<tf.Tensor: shape=(), dtype=float32, numpy=18.745327>,\n",
              " <tf.Tensor: shape=(), dtype=float32, numpy=353.57336>)"
            ]
          },
          "metadata": {},
          "execution_count": 347
        }
      ]
    },
    {
      "cell_type": "code",
      "source": [
        "# 1. Create the model\n",
        "model_2 = tf.keras.Sequential([\n",
        "    tf.keras.layers.Dense(100, input_shape=(1, )),\n",
        "    tf.keras.layers.Dense(1, input_shape=(1, ))\n",
        "])\n",
        "\n",
        "# 2. Compile the model\n",
        "\n",
        "model_2.compile(loss=tf.keras.losses.mae,\n",
        "                optimizer=tf.keras.optimizers.Adam(lr=0.01),\n",
        "                metrics=[\"mae\"])\n",
        "\n",
        "\n",
        "# 3. Train the model\n",
        "\n",
        "model_2.fit(X_train, Y_train, epochs=100)"
      ],
      "metadata": {
        "colab": {
          "base_uri": "https://localhost:8080/"
        },
        "id": "cW1vwJSIdW2S",
        "outputId": "d200e684-63a0-4c42-f5b0-06bac776ef53"
      },
      "execution_count": 348,
      "outputs": [
        {
          "output_type": "stream",
          "name": "stdout",
          "text": [
            "Epoch 1/100\n",
            "2/2 [==============================] - 0s 6ms/step - loss: 52.8279 - mae: 52.8279\n",
            "Epoch 2/100\n",
            "2/2 [==============================] - 0s 5ms/step - loss: 31.8812 - mae: 31.8812\n",
            "Epoch 3/100\n",
            "2/2 [==============================] - 0s 5ms/step - loss: 13.1042 - mae: 13.1042\n",
            "Epoch 4/100\n",
            "2/2 [==============================] - 0s 5ms/step - loss: 13.2455 - mae: 13.2455\n",
            "Epoch 5/100\n",
            "2/2 [==============================] - 0s 8ms/step - loss: 19.4450 - mae: 19.4450\n",
            "Epoch 6/100\n",
            "2/2 [==============================] - 0s 5ms/step - loss: 18.5626 - mae: 18.5626\n",
            "Epoch 7/100\n",
            "2/2 [==============================] - 0s 5ms/step - loss: 13.6486 - mae: 13.6486\n",
            "Epoch 8/100\n",
            "2/2 [==============================] - 0s 5ms/step - loss: 8.7722 - mae: 8.7722\n",
            "Epoch 9/100\n",
            "2/2 [==============================] - 0s 5ms/step - loss: 9.8524 - mae: 9.8524\n",
            "Epoch 10/100\n",
            "2/2 [==============================] - 0s 5ms/step - loss: 13.2748 - mae: 13.2748\n",
            "Epoch 11/100\n",
            "2/2 [==============================] - 0s 5ms/step - loss: 12.6415 - mae: 12.6415\n",
            "Epoch 12/100\n",
            "2/2 [==============================] - 0s 7ms/step - loss: 9.0318 - mae: 9.0318\n",
            "Epoch 13/100\n",
            "2/2 [==============================] - 0s 5ms/step - loss: 7.4358 - mae: 7.4358\n",
            "Epoch 14/100\n",
            "2/2 [==============================] - 0s 5ms/step - loss: 9.0317 - mae: 9.0317\n",
            "Epoch 15/100\n",
            "2/2 [==============================] - 0s 5ms/step - loss: 9.0729 - mae: 9.0729\n",
            "Epoch 16/100\n",
            "2/2 [==============================] - 0s 5ms/step - loss: 7.9034 - mae: 7.9034\n",
            "Epoch 17/100\n",
            "2/2 [==============================] - 0s 4ms/step - loss: 6.4468 - mae: 6.4468\n",
            "Epoch 18/100\n",
            "2/2 [==============================] - 0s 8ms/step - loss: 7.2472 - mae: 7.2472\n",
            "Epoch 19/100\n",
            "2/2 [==============================] - 0s 5ms/step - loss: 7.3339 - mae: 7.3339\n",
            "Epoch 20/100\n",
            "2/2 [==============================] - 0s 4ms/step - loss: 5.9648 - mae: 5.9648\n",
            "Epoch 21/100\n",
            "2/2 [==============================] - 0s 4ms/step - loss: 5.9434 - mae: 5.9434\n",
            "Epoch 22/100\n",
            "2/2 [==============================] - 0s 4ms/step - loss: 5.9553 - mae: 5.9553\n",
            "Epoch 23/100\n",
            "2/2 [==============================] - 0s 5ms/step - loss: 5.1179 - mae: 5.1179\n",
            "Epoch 24/100\n",
            "2/2 [==============================] - 0s 5ms/step - loss: 5.3981 - mae: 5.3981\n",
            "Epoch 25/100\n",
            "2/2 [==============================] - 0s 5ms/step - loss: 4.9688 - mae: 4.9688\n",
            "Epoch 26/100\n",
            "2/2 [==============================] - 0s 5ms/step - loss: 4.8238 - mae: 4.8238\n",
            "Epoch 27/100\n",
            "2/2 [==============================] - 0s 11ms/step - loss: 4.4855 - mae: 4.4855\n",
            "Epoch 28/100\n",
            "2/2 [==============================] - 0s 5ms/step - loss: 4.5877 - mae: 4.5877\n",
            "Epoch 29/100\n",
            "2/2 [==============================] - 0s 5ms/step - loss: 4.0743 - mae: 4.0743\n",
            "Epoch 30/100\n",
            "2/2 [==============================] - 0s 9ms/step - loss: 3.8914 - mae: 3.8914\n",
            "Epoch 31/100\n",
            "2/2 [==============================] - 0s 5ms/step - loss: 3.6907 - mae: 3.6907\n",
            "Epoch 32/100\n",
            "2/2 [==============================] - 0s 5ms/step - loss: 3.4805 - mae: 3.4805\n",
            "Epoch 33/100\n",
            "2/2 [==============================] - 0s 5ms/step - loss: 3.4861 - mae: 3.4861\n",
            "Epoch 34/100\n",
            "2/2 [==============================] - 0s 4ms/step - loss: 3.0201 - mae: 3.0201\n",
            "Epoch 35/100\n",
            "2/2 [==============================] - 0s 5ms/step - loss: 3.5300 - mae: 3.5300\n",
            "Epoch 36/100\n",
            "2/2 [==============================] - 0s 5ms/step - loss: 2.7050 - mae: 2.7050\n",
            "Epoch 37/100\n",
            "2/2 [==============================] - 0s 4ms/step - loss: 3.4101 - mae: 3.4101\n",
            "Epoch 38/100\n",
            "2/2 [==============================] - 0s 5ms/step - loss: 2.0674 - mae: 2.0674\n",
            "Epoch 39/100\n",
            "2/2 [==============================] - 0s 4ms/step - loss: 2.5458 - mae: 2.5458\n",
            "Epoch 40/100\n",
            "2/2 [==============================] - 0s 5ms/step - loss: 1.5590 - mae: 1.5590\n",
            "Epoch 41/100\n",
            "2/2 [==============================] - 0s 4ms/step - loss: 1.6137 - mae: 1.6137\n",
            "Epoch 42/100\n",
            "2/2 [==============================] - 0s 4ms/step - loss: 2.2595 - mae: 2.2595\n",
            "Epoch 43/100\n",
            "2/2 [==============================] - 0s 5ms/step - loss: 1.5120 - mae: 1.5120\n",
            "Epoch 44/100\n",
            "2/2 [==============================] - 0s 5ms/step - loss: 0.3729 - mae: 0.3729\n",
            "Epoch 45/100\n",
            "2/2 [==============================] - 0s 5ms/step - loss: 1.0642 - mae: 1.0642\n",
            "Epoch 46/100\n",
            "2/2 [==============================] - 0s 5ms/step - loss: 0.8856 - mae: 0.8856\n",
            "Epoch 47/100\n",
            "2/2 [==============================] - 0s 5ms/step - loss: 1.2485 - mae: 1.2485\n",
            "Epoch 48/100\n",
            "2/2 [==============================] - 0s 5ms/step - loss: 1.5748 - mae: 1.5748\n",
            "Epoch 49/100\n",
            "2/2 [==============================] - 0s 5ms/step - loss: 0.8814 - mae: 0.8814\n",
            "Epoch 50/100\n",
            "2/2 [==============================] - 0s 5ms/step - loss: 1.8364 - mae: 1.8364\n",
            "Epoch 51/100\n",
            "2/2 [==============================] - 0s 6ms/step - loss: 1.0846 - mae: 1.0846\n",
            "Epoch 52/100\n",
            "2/2 [==============================] - 0s 5ms/step - loss: 0.2311 - mae: 0.2311\n",
            "Epoch 53/100\n",
            "2/2 [==============================] - 0s 4ms/step - loss: 0.9220 - mae: 0.9220\n",
            "Epoch 54/100\n",
            "2/2 [==============================] - 0s 5ms/step - loss: 1.1713 - mae: 1.1713\n",
            "Epoch 55/100\n",
            "2/2 [==============================] - 0s 4ms/step - loss: 0.5808 - mae: 0.5808\n",
            "Epoch 56/100\n",
            "2/2 [==============================] - 0s 5ms/step - loss: 2.6600 - mae: 2.6600\n",
            "Epoch 57/100\n",
            "2/2 [==============================] - 0s 5ms/step - loss: 0.7815 - mae: 0.7815\n",
            "Epoch 58/100\n",
            "2/2 [==============================] - 0s 5ms/step - loss: 3.9055 - mae: 3.9055\n",
            "Epoch 59/100\n",
            "2/2 [==============================] - 0s 4ms/step - loss: 2.5262 - mae: 2.5262\n",
            "Epoch 60/100\n",
            "2/2 [==============================] - 0s 5ms/step - loss: 2.6372 - mae: 2.6372\n",
            "Epoch 61/100\n",
            "2/2 [==============================] - 0s 5ms/step - loss: 3.8163 - mae: 3.8163\n",
            "Epoch 62/100\n",
            "2/2 [==============================] - 0s 4ms/step - loss: 1.1766 - mae: 1.1766\n",
            "Epoch 63/100\n",
            "2/2 [==============================] - 0s 7ms/step - loss: 3.8024 - mae: 3.8024\n",
            "Epoch 64/100\n",
            "2/2 [==============================] - 0s 4ms/step - loss: 2.7149 - mae: 2.7149\n",
            "Epoch 65/100\n",
            "2/2 [==============================] - 0s 5ms/step - loss: 2.0565 - mae: 2.0565\n",
            "Epoch 66/100\n",
            "2/2 [==============================] - 0s 3ms/step - loss: 3.1333 - mae: 3.1333\n",
            "Epoch 67/100\n",
            "2/2 [==============================] - 0s 6ms/step - loss: 0.8161 - mae: 0.8161\n",
            "Epoch 68/100\n",
            "2/2 [==============================] - 0s 7ms/step - loss: 3.9546 - mae: 3.9546\n",
            "Epoch 69/100\n",
            "2/2 [==============================] - 0s 5ms/step - loss: 2.8526 - mae: 2.8526\n",
            "Epoch 70/100\n",
            "2/2 [==============================] - 0s 4ms/step - loss: 1.6603 - mae: 1.6603\n",
            "Epoch 71/100\n",
            "2/2 [==============================] - 0s 4ms/step - loss: 2.3993 - mae: 2.3993\n",
            "Epoch 72/100\n",
            "2/2 [==============================] - 0s 4ms/step - loss: 0.6230 - mae: 0.6230\n",
            "Epoch 73/100\n",
            "2/2 [==============================] - 0s 4ms/step - loss: 0.7467 - mae: 0.7467\n",
            "Epoch 74/100\n",
            "2/2 [==============================] - 0s 6ms/step - loss: 0.2927 - mae: 0.2927\n",
            "Epoch 75/100\n",
            "2/2 [==============================] - 0s 5ms/step - loss: 1.4273 - mae: 1.4273\n",
            "Epoch 76/100\n",
            "2/2 [==============================] - 0s 5ms/step - loss: 1.1129 - mae: 1.1129\n",
            "Epoch 77/100\n",
            "2/2 [==============================] - 0s 4ms/step - loss: 0.9133 - mae: 0.9133\n",
            "Epoch 78/100\n",
            "2/2 [==============================] - 0s 6ms/step - loss: 0.6234 - mae: 0.6234\n",
            "Epoch 79/100\n",
            "2/2 [==============================] - 0s 6ms/step - loss: 1.6364 - mae: 1.6364\n",
            "Epoch 80/100\n",
            "2/2 [==============================] - 0s 5ms/step - loss: 1.0119 - mae: 1.0119\n",
            "Epoch 81/100\n",
            "2/2 [==============================] - 0s 5ms/step - loss: 1.3028 - mae: 1.3028\n",
            "Epoch 82/100\n",
            "2/2 [==============================] - 0s 5ms/step - loss: 0.1773 - mae: 0.1773\n",
            "Epoch 83/100\n",
            "2/2 [==============================] - 0s 5ms/step - loss: 0.8307 - mae: 0.8307\n",
            "Epoch 84/100\n",
            "2/2 [==============================] - 0s 5ms/step - loss: 0.2631 - mae: 0.2631\n",
            "Epoch 85/100\n",
            "2/2 [==============================] - 0s 7ms/step - loss: 1.2589 - mae: 1.2589\n",
            "Epoch 86/100\n",
            "2/2 [==============================] - 0s 4ms/step - loss: 0.7229 - mae: 0.7229\n",
            "Epoch 87/100\n",
            "2/2 [==============================] - 0s 4ms/step - loss: 1.4906 - mae: 1.4906\n",
            "Epoch 88/100\n",
            "2/2 [==============================] - 0s 5ms/step - loss: 0.5069 - mae: 0.5069\n",
            "Epoch 89/100\n",
            "2/2 [==============================] - 0s 5ms/step - loss: 0.5220 - mae: 0.5220\n",
            "Epoch 90/100\n",
            "2/2 [==============================] - 0s 6ms/step - loss: 0.9058 - mae: 0.9058\n",
            "Epoch 91/100\n",
            "2/2 [==============================] - 0s 4ms/step - loss: 1.6039 - mae: 1.6039\n",
            "Epoch 92/100\n",
            "2/2 [==============================] - 0s 4ms/step - loss: 1.1924 - mae: 1.1924\n",
            "Epoch 93/100\n",
            "2/2 [==============================] - 0s 5ms/step - loss: 0.5117 - mae: 0.5117\n",
            "Epoch 94/100\n",
            "2/2 [==============================] - 0s 5ms/step - loss: 1.2887 - mae: 1.2887\n",
            "Epoch 95/100\n",
            "2/2 [==============================] - 0s 5ms/step - loss: 0.7574 - mae: 0.7574\n",
            "Epoch 96/100\n",
            "2/2 [==============================] - 0s 5ms/step - loss: 1.5337 - mae: 1.5337\n",
            "Epoch 97/100\n",
            "2/2 [==============================] - 0s 4ms/step - loss: 0.1761 - mae: 0.1761\n",
            "Epoch 98/100\n",
            "2/2 [==============================] - 0s 6ms/step - loss: 0.5431 - mae: 0.5431\n",
            "Epoch 99/100\n",
            "2/2 [==============================] - 0s 9ms/step - loss: 0.5297 - mae: 0.5297\n",
            "Epoch 100/100\n",
            "2/2 [==============================] - 0s 5ms/step - loss: 0.3062 - mae: 0.3062\n"
          ]
        },
        {
          "output_type": "execute_result",
          "data": {
            "text/plain": [
              "<keras.callbacks.History at 0x7f46f73f5810>"
            ]
          },
          "metadata": {},
          "execution_count": 348
        }
      ]
    },
    {
      "cell_type": "code",
      "source": [
        "Y_pred_2 = model_2.predict(X_test)\n",
        "plot_predictions(predictions=Y_pred_2)"
      ],
      "metadata": {
        "colab": {
          "base_uri": "https://localhost:8080/",
          "height": 446
        },
        "id": "j9AdsXtddLI6",
        "outputId": "1954bba4-5053-4de7-a4d0-ea5e17a39700"
      },
      "execution_count": 349,
      "outputs": [
        {
          "output_type": "stream",
          "name": "stdout",
          "text": [
            "1/1 [==============================] - 0s 43ms/step\n"
          ]
        },
        {
          "output_type": "display_data",
          "data": {
            "text/plain": [
              "<Figure size 720x504 with 1 Axes>"
            ],
            "image/png": "[encoded data removed]"
          },
          "metadata": {
            "needs_background": "light"
          }
        }
      ]
    },
    {
      "cell_type": "code",
      "source": [
        "mae_2 = mae(Y_test, Y_pred_2)\n",
        "mse_2 = mse(Y_test, Y_pred_2)\n",
        "mae_2, mse_2"
      ],
      "metadata": {
        "colab": {
          "base_uri": "https://localhost:8080/"
        },
        "id": "_VNsjbB_dLOS",
        "outputId": "092ae231-e0cc-4ad5-c5e4-8412e89f7d5f"
      },
      "execution_count": 350,
      "outputs": [
        {
          "output_type": "execute_result",
          "data": {
            "text/plain": [
              "(<tf.Tensor: shape=(), dtype=float32, numpy=0.316214>,\n",
              " <tf.Tensor: shape=(), dtype=float32, numpy=0.10396774>)"
            ]
          },
          "metadata": {},
          "execution_count": 350
        }
      ]
    },
    {
      "cell_type": "code",
      "source": [
        "# 1. Create the model\n",
        "model_3 = tf.keras.Sequential([\n",
        "    tf.keras.layers.Dense(100, input_shape=(1, )),\n",
        "    tf.keras.layers.Dense(1, input_shape=(1, ))\n",
        "])\n",
        "\n",
        "# 2. Compile the model\n",
        "\n",
        "model_3.compile(loss=tf.keras.losses.mae,\n",
        "                optimizer=tf.keras.optimizers.Adam(lr=0.01),\n",
        "                metrics=[\"mae\"])\n",
        "\n",
        "\n",
        "# 3. Train the model\n",
        "\n",
        "model_3.fit(X_train, Y_train, epochs=500)"
      ],
      "metadata": {
        "colab": {
          "base_uri": "https://localhost:8080/"
        },
        "id": "S4o-TCsxdLT9",
        "outputId": "398604f8-c777-4d91-8348-87ea0ecb58a6"
      },
      "execution_count": 351,
      "outputs": [
        {
          "output_type": "stream",
          "name": "stdout",
          "text": [
            "Epoch 1/500\n",
            "2/2 [==============================] - 0s 10ms/step - loss: 41.3304 - mae: 41.3304\n",
            "Epoch 2/500\n",
            "2/2 [==============================] - 0s 5ms/step - loss: 21.8751 - mae: 21.8751\n",
            "Epoch 3/500\n",
            "2/2 [==============================] - 0s 5ms/step - loss: 8.4250 - mae: 8.4250\n",
            "Epoch 4/500\n",
            "2/2 [==============================] - 0s 6ms/step - loss: 15.7512 - mae: 15.7512\n",
            "Epoch 5/500\n",
            "2/2 [==============================] - 0s 5ms/step - loss: 18.1056 - mae: 18.1056\n",
            "Epoch 6/500\n",
            "2/2 [==============================] - 0s 3ms/step - loss: 14.7999 - mae: 14.7999\n",
            "Epoch 7/500\n",
            "2/2 [==============================] - 0s 5ms/step - loss: 10.5476 - mae: 10.5476\n",
            "Epoch 8/500\n",
            "2/2 [==============================] - 0s 5ms/step - loss: 8.3644 - mae: 8.3644\n",
            "Epoch 9/500\n",
            "2/2 [==============================] - 0s 8ms/step - loss: 10.4610 - mae: 10.4610\n",
            "Epoch 10/500\n",
            "2/2 [==============================] - 0s 5ms/step - loss: 9.1684 - mae: 9.1684\n",
            "Epoch 11/500\n",
            "2/2 [==============================] - 0s 7ms/step - loss: 7.2624 - mae: 7.2624\n",
            "Epoch 12/500\n",
            "2/2 [==============================] - 0s 3ms/step - loss: 8.0652 - mae: 8.0652\n",
            "Epoch 13/500\n",
            "2/2 [==============================] - 0s 5ms/step - loss: 7.5828 - mae: 7.5828\n",
            "Epoch 14/500\n",
            "2/2 [==============================] - 0s 4ms/step - loss: 6.5229 - mae: 6.5229\n",
            "Epoch 15/500\n",
            "2/2 [==============================] - 0s 2ms/step - loss: 7.0627 - mae: 7.0627\n",
            "Epoch 16/500\n",
            "2/2 [==============================] - 0s 9ms/step - loss: 6.5935 - mae: 6.5935\n",
            "Epoch 17/500\n",
            "2/2 [==============================] - 0s 5ms/step - loss: 6.0098 - mae: 6.0098\n",
            "Epoch 18/500\n",
            "2/2 [==============================] - 0s 5ms/step - loss: 6.3036 - mae: 6.3036\n",
            "Epoch 19/500\n",
            "2/2 [==============================] - 0s 6ms/step - loss: 5.7122 - mae: 5.7122\n",
            "Epoch 20/500\n",
            "2/2 [==============================] - 0s 4ms/step - loss: 6.1473 - mae: 6.1473\n",
            "Epoch 21/500\n",
            "2/2 [==============================] - 0s 6ms/step - loss: 5.5894 - mae: 5.5894\n",
            "Epoch 22/500\n",
            "2/2 [==============================] - 0s 4ms/step - loss: 5.2684 - mae: 5.2684\n",
            "Epoch 23/500\n",
            "2/2 [==============================] - 0s 5ms/step - loss: 5.0564 - mae: 5.0564\n",
            "Epoch 24/500\n",
            "2/2 [==============================] - 0s 6ms/step - loss: 5.2731 - mae: 5.2731\n",
            "Epoch 25/500\n",
            "2/2 [==============================] - 0s 4ms/step - loss: 5.1405 - mae: 5.1405\n",
            "Epoch 26/500\n",
            "2/2 [==============================] - 0s 4ms/step - loss: 4.6680 - mae: 4.6680\n",
            "Epoch 27/500\n",
            "2/2 [==============================] - 0s 4ms/step - loss: 4.6644 - mae: 4.6644\n",
            "Epoch 28/500\n",
            "2/2 [==============================] - 0s 4ms/step - loss: 4.0755 - mae: 4.0755\n",
            "Epoch 29/500\n",
            "2/2 [==============================] - 0s 5ms/step - loss: 4.5086 - mae: 4.5086\n",
            "Epoch 30/500\n",
            "2/2 [==============================] - 0s 8ms/step - loss: 3.8200 - mae: 3.8200\n",
            "Epoch 31/500\n",
            "2/2 [==============================] - 0s 4ms/step - loss: 3.3593 - mae: 3.3593\n",
            "Epoch 32/500\n",
            "2/2 [==============================] - 0s 5ms/step - loss: 3.8810 - mae: 3.8810\n",
            "Epoch 33/500\n",
            "2/2 [==============================] - 0s 4ms/step - loss: 3.1263 - mae: 3.1263\n",
            "Epoch 34/500\n",
            "2/2 [==============================] - 0s 5ms/step - loss: 2.9999 - mae: 2.9999\n",
            "Epoch 35/500\n",
            "2/2 [==============================] - 0s 6ms/step - loss: 2.5434 - mae: 2.5434\n",
            "Epoch 36/500\n",
            "2/2 [==============================] - 0s 10ms/step - loss: 3.0162 - mae: 3.0162\n",
            "Epoch 37/500\n",
            "2/2 [==============================] - 0s 4ms/step - loss: 2.8602 - mae: 2.8602\n",
            "Epoch 38/500\n",
            "2/2 [==============================] - 0s 4ms/step - loss: 2.4108 - mae: 2.4108\n",
            "Epoch 39/500\n",
            "2/2 [==============================] - 0s 5ms/step - loss: 3.2601 - mae: 3.2601\n",
            "Epoch 40/500\n",
            "2/2 [==============================] - 0s 3ms/step - loss: 1.2144 - mae: 1.2144\n",
            "Epoch 41/500\n",
            "2/2 [==============================] - 0s 6ms/step - loss: 1.4158 - mae: 1.4158\n",
            "Epoch 42/500\n",
            "2/2 [==============================] - 0s 4ms/step - loss: 1.9820 - mae: 1.9820\n",
            "Epoch 43/500\n",
            "2/2 [==============================] - 0s 4ms/step - loss: 1.0298 - mae: 1.0298\n",
            "Epoch 44/500\n",
            "2/2 [==============================] - 0s 6ms/step - loss: 1.8545 - mae: 1.8545\n",
            "Epoch 45/500\n",
            "2/2 [==============================] - 0s 5ms/step - loss: 2.1590 - mae: 2.1590\n",
            "Epoch 46/500\n",
            "2/2 [==============================] - 0s 5ms/step - loss: 1.9582 - mae: 1.9582\n",
            "Epoch 47/500\n",
            "2/2 [==============================] - 0s 9ms/step - loss: 1.9190 - mae: 1.9190\n",
            "Epoch 48/500\n",
            "2/2 [==============================] - 0s 4ms/step - loss: 0.8764 - mae: 0.8764\n",
            "Epoch 49/500\n",
            "2/2 [==============================] - 0s 3ms/step - loss: 2.8746 - mae: 2.8746\n",
            "Epoch 50/500\n",
            "2/2 [==============================] - 0s 8ms/step - loss: 1.0588 - mae: 1.0588\n",
            "Epoch 51/500\n",
            "2/2 [==============================] - 0s 7ms/step - loss: 3.3097 - mae: 3.3097\n",
            "Epoch 52/500\n",
            "2/2 [==============================] - 0s 4ms/step - loss: 1.6256 - mae: 1.6256\n",
            "Epoch 53/500\n",
            "2/2 [==============================] - 0s 6ms/step - loss: 1.9338 - mae: 1.9338\n",
            "Epoch 54/500\n",
            "2/2 [==============================] - 0s 3ms/step - loss: 0.7716 - mae: 0.7716\n",
            "Epoch 55/500\n",
            "2/2 [==============================] - 0s 5ms/step - loss: 1.6619 - mae: 1.6619\n",
            "Epoch 56/500\n",
            "2/2 [==============================] - 0s 6ms/step - loss: 1.6275 - mae: 1.6275\n",
            "Epoch 57/500\n",
            "2/2 [==============================] - 0s 6ms/step - loss: 1.4741 - mae: 1.4741\n",
            "Epoch 58/500\n",
            "2/2 [==============================] - 0s 6ms/step - loss: 1.6628 - mae: 1.6628\n",
            "Epoch 59/500\n",
            "2/2 [==============================] - 0s 4ms/step - loss: 1.0280 - mae: 1.0280\n",
            "Epoch 60/500\n",
            "2/2 [==============================] - 0s 4ms/step - loss: 1.4464 - mae: 1.4464\n",
            "Epoch 61/500\n",
            "2/2 [==============================] - 0s 4ms/step - loss: 0.6597 - mae: 0.6597\n",
            "Epoch 62/500\n",
            "2/2 [==============================] - 0s 6ms/step - loss: 0.3289 - mae: 0.3289\n",
            "Epoch 63/500\n",
            "2/2 [==============================] - 0s 7ms/step - loss: 1.3941 - mae: 1.3941\n",
            "Epoch 64/500\n",
            "2/2 [==============================] - 0s 5ms/step - loss: 1.4963 - mae: 1.4963\n",
            "Epoch 65/500\n",
            "2/2 [==============================] - 0s 5ms/step - loss: 1.1802 - mae: 1.1802\n",
            "Epoch 66/500\n",
            "2/2 [==============================] - 0s 5ms/step - loss: 0.3998 - mae: 0.3998\n",
            "Epoch 67/500\n",
            "2/2 [==============================] - 0s 4ms/step - loss: 0.2991 - mae: 0.2991\n",
            "Epoch 68/500\n",
            "2/2 [==============================] - 0s 6ms/step - loss: 1.3939 - mae: 1.3939\n",
            "Epoch 69/500\n",
            "2/2 [==============================] - 0s 3ms/step - loss: 1.2622 - mae: 1.2622\n",
            "Epoch 70/500\n",
            "2/2 [==============================] - 0s 4ms/step - loss: 1.1016 - mae: 1.1016\n",
            "Epoch 71/500\n",
            "2/2 [==============================] - 0s 9ms/step - loss: 0.8477 - mae: 0.8477\n",
            "Epoch 72/500\n",
            "2/2 [==============================] - 0s 4ms/step - loss: 0.7369 - mae: 0.7369\n",
            "Epoch 73/500\n",
            "2/2 [==============================] - 0s 8ms/step - loss: 0.1701 - mae: 0.1701\n",
            "Epoch 74/500\n",
            "2/2 [==============================] - 0s 4ms/step - loss: 0.9272 - mae: 0.9272\n",
            "Epoch 75/500\n",
            "2/2 [==============================] - 0s 6ms/step - loss: 0.3998 - mae: 0.3998\n",
            "Epoch 76/500\n",
            "2/2 [==============================] - 0s 8ms/step - loss: 1.6040 - mae: 1.6040\n",
            "Epoch 77/500\n",
            "2/2 [==============================] - 0s 6ms/step - loss: 0.9213 - mae: 0.9213\n",
            "Epoch 78/500\n",
            "2/2 [==============================] - 0s 5ms/step - loss: 0.7995 - mae: 0.7995\n",
            "Epoch 79/500\n",
            "2/2 [==============================] - 0s 3ms/step - loss: 0.4815 - mae: 0.4815\n",
            "Epoch 80/500\n",
            "2/2 [==============================] - 0s 5ms/step - loss: 0.1760 - mae: 0.1760\n",
            "Epoch 81/500\n",
            "2/2 [==============================] - 0s 9ms/step - loss: 0.2563 - mae: 0.2563\n",
            "Epoch 82/500\n",
            "2/2 [==============================] - 0s 5ms/step - loss: 0.4980 - mae: 0.4980\n",
            "Epoch 83/500\n",
            "2/2 [==============================] - 0s 4ms/step - loss: 0.3950 - mae: 0.3950\n",
            "Epoch 84/500\n",
            "2/2 [==============================] - 0s 5ms/step - loss: 1.0097 - mae: 1.0097\n",
            "Epoch 85/500\n",
            "2/2 [==============================] - 0s 5ms/step - loss: 1.3506 - mae: 1.3506\n",
            "Epoch 86/500\n",
            "2/2 [==============================] - 0s 7ms/step - loss: 1.0741 - mae: 1.0741\n",
            "Epoch 87/500\n",
            "2/2 [==============================] - 0s 4ms/step - loss: 0.3543 - mae: 0.3543\n",
            "Epoch 88/500\n",
            "2/2 [==============================] - 0s 9ms/step - loss: 0.2928 - mae: 0.2928\n",
            "Epoch 89/500\n",
            "2/2 [==============================] - 0s 4ms/step - loss: 0.2530 - mae: 0.2530\n",
            "Epoch 90/500\n",
            "2/2 [==============================] - 0s 4ms/step - loss: 0.2361 - mae: 0.2361\n",
            "Epoch 91/500\n",
            "2/2 [==============================] - 0s 4ms/step - loss: 0.2945 - mae: 0.2945\n",
            "Epoch 92/500\n",
            "2/2 [==============================] - 0s 9ms/step - loss: 0.6967 - mae: 0.6967\n",
            "Epoch 93/500\n",
            "2/2 [==============================] - 0s 5ms/step - loss: 0.6332 - mae: 0.6332\n",
            "Epoch 94/500\n",
            "2/2 [==============================] - 0s 8ms/step - loss: 0.2210 - mae: 0.2210\n",
            "Epoch 95/500\n",
            "2/2 [==============================] - 0s 4ms/step - loss: 1.0170 - mae: 1.0170\n",
            "Epoch 96/500\n",
            "2/2 [==============================] - 0s 4ms/step - loss: 0.5208 - mae: 0.5208\n",
            "Epoch 97/500\n",
            "2/2 [==============================] - 0s 4ms/step - loss: 1.6344 - mae: 1.6344\n",
            "Epoch 98/500\n",
            "2/2 [==============================] - 0s 4ms/step - loss: 0.3468 - mae: 0.3468\n",
            "Epoch 99/500\n",
            "2/2 [==============================] - 0s 7ms/step - loss: 0.1043 - mae: 0.1043\n",
            "Epoch 100/500\n",
            "2/2 [==============================] - 0s 5ms/step - loss: 0.8361 - mae: 0.8361\n",
            "Epoch 101/500\n",
            "2/2 [==============================] - 0s 4ms/step - loss: 0.2115 - mae: 0.2115\n",
            "Epoch 102/500\n",
            "2/2 [==============================] - 0s 4ms/step - loss: 0.4087 - mae: 0.4087\n",
            "Epoch 103/500\n",
            "2/2 [==============================] - 0s 4ms/step - loss: 0.6638 - mae: 0.6638\n",
            "Epoch 104/500\n",
            "2/2 [==============================] - 0s 5ms/step - loss: 0.7211 - mae: 0.7211\n",
            "Epoch 105/500\n",
            "2/2 [==============================] - 0s 4ms/step - loss: 0.2853 - mae: 0.2853\n",
            "Epoch 106/500\n",
            "2/2 [==============================] - 0s 4ms/step - loss: 1.3608 - mae: 1.3608\n",
            "Epoch 107/500\n",
            "2/2 [==============================] - 0s 5ms/step - loss: 0.8381 - mae: 0.8381\n",
            "Epoch 108/500\n",
            "2/2 [==============================] - 0s 6ms/step - loss: 0.7868 - mae: 0.7868\n",
            "Epoch 109/500\n",
            "2/2 [==============================] - 0s 6ms/step - loss: 0.6295 - mae: 0.6295\n",
            "Epoch 110/500\n",
            "2/2 [==============================] - 0s 4ms/step - loss: 0.3232 - mae: 0.3232\n",
            "Epoch 111/500\n",
            "2/2 [==============================] - 0s 4ms/step - loss: 0.2505 - mae: 0.2505\n",
            "Epoch 112/500\n",
            "2/2 [==============================] - 0s 4ms/step - loss: 0.2933 - mae: 0.2933\n",
            "Epoch 113/500\n",
            "2/2 [==============================] - 0s 4ms/step - loss: 0.3732 - mae: 0.3732\n",
            "Epoch 114/500\n",
            "2/2 [==============================] - 0s 5ms/step - loss: 1.1259 - mae: 1.1259\n",
            "Epoch 115/500\n",
            "2/2 [==============================] - 0s 5ms/step - loss: 0.6082 - mae: 0.6082\n",
            "Epoch 116/500\n",
            "2/2 [==============================] - 0s 4ms/step - loss: 1.4735 - mae: 1.4735\n",
            "Epoch 117/500\n",
            "2/2 [==============================] - 0s 7ms/step - loss: 0.3611 - mae: 0.3611\n",
            "Epoch 118/500\n",
            "2/2 [==============================] - 0s 4ms/step - loss: 0.2985 - mae: 0.2985\n",
            "Epoch 119/500\n",
            "2/2 [==============================] - 0s 10ms/step - loss: 1.2223 - mae: 1.2223\n",
            "Epoch 120/500\n",
            "2/2 [==============================] - 0s 4ms/step - loss: 0.9858 - mae: 0.9858\n",
            "Epoch 121/500\n",
            "2/2 [==============================] - 0s 4ms/step - loss: 1.0892 - mae: 1.0892\n",
            "Epoch 122/500\n",
            "2/2 [==============================] - 0s 4ms/step - loss: 2.0110 - mae: 2.0110\n",
            "Epoch 123/500\n",
            "2/2 [==============================] - 0s 4ms/step - loss: 2.1797 - mae: 2.1797\n",
            "Epoch 124/500\n",
            "2/2 [==============================] - 0s 4ms/step - loss: 0.9350 - mae: 0.9350\n",
            "Epoch 125/500\n",
            "2/2 [==============================] - 0s 4ms/step - loss: 1.5941 - mae: 1.5941\n",
            "Epoch 126/500\n",
            "2/2 [==============================] - 0s 4ms/step - loss: 0.7396 - mae: 0.7396\n",
            "Epoch 127/500\n",
            "2/2 [==============================] - 0s 4ms/step - loss: 0.6826 - mae: 0.6826\n",
            "Epoch 128/500\n",
            "2/2 [==============================] - 0s 4ms/step - loss: 0.4961 - mae: 0.4961\n",
            "Epoch 129/500\n",
            "2/2 [==============================] - 0s 4ms/step - loss: 0.2981 - mae: 0.2981\n",
            "Epoch 130/500\n",
            "2/2 [==============================] - 0s 4ms/step - loss: 0.1108 - mae: 0.1108\n",
            "Epoch 131/500\n",
            "2/2 [==============================] - 0s 6ms/step - loss: 0.6226 - mae: 0.6226\n",
            "Epoch 132/500\n",
            "2/2 [==============================] - 0s 4ms/step - loss: 0.4904 - mae: 0.4904\n",
            "Epoch 133/500\n",
            "2/2 [==============================] - 0s 4ms/step - loss: 0.2543 - mae: 0.2543\n",
            "Epoch 134/500\n",
            "2/2 [==============================] - 0s 7ms/step - loss: 0.4533 - mae: 0.4533\n",
            "Epoch 135/500\n",
            "2/2 [==============================] - 0s 5ms/step - loss: 0.8880 - mae: 0.8880\n",
            "Epoch 136/500\n",
            "2/2 [==============================] - 0s 4ms/step - loss: 0.4885 - mae: 0.4885\n",
            "Epoch 137/500\n",
            "2/2 [==============================] - 0s 4ms/step - loss: 1.3493 - mae: 1.3493\n",
            "Epoch 138/500\n",
            "2/2 [==============================] - 0s 5ms/step - loss: 0.6758 - mae: 0.6758\n",
            "Epoch 139/500\n",
            "2/2 [==============================] - 0s 5ms/step - loss: 0.6101 - mae: 0.6101\n",
            "Epoch 140/500\n",
            "2/2 [==============================] - 0s 5ms/step - loss: 0.4420 - mae: 0.4420\n",
            "Epoch 141/500\n",
            "2/2 [==============================] - 0s 4ms/step - loss: 0.2806 - mae: 0.2806\n",
            "Epoch 142/500\n",
            "2/2 [==============================] - 0s 4ms/step - loss: 0.3039 - mae: 0.3039\n",
            "Epoch 143/500\n",
            "2/2 [==============================] - 0s 4ms/step - loss: 1.0738 - mae: 1.0738\n",
            "Epoch 144/500\n",
            "2/2 [==============================] - 0s 5ms/step - loss: 1.1039 - mae: 1.1039\n",
            "Epoch 145/500\n",
            "2/2 [==============================] - 0s 5ms/step - loss: 0.7860 - mae: 0.7860\n",
            "Epoch 146/500\n",
            "2/2 [==============================] - 0s 5ms/step - loss: 0.9706 - mae: 0.9706\n",
            "Epoch 147/500\n",
            "2/2 [==============================] - 0s 5ms/step - loss: 0.3038 - mae: 0.3038\n",
            "Epoch 148/500\n",
            "2/2 [==============================] - 0s 4ms/step - loss: 0.5075 - mae: 0.5075\n",
            "Epoch 149/500\n",
            "2/2 [==============================] - 0s 4ms/step - loss: 0.3225 - mae: 0.3225\n",
            "Epoch 150/500\n",
            "2/2 [==============================] - 0s 5ms/step - loss: 0.5264 - mae: 0.5264\n",
            "Epoch 151/500\n",
            "2/2 [==============================] - 0s 4ms/step - loss: 0.6305 - mae: 0.6305\n",
            "Epoch 152/500\n",
            "2/2 [==============================] - 0s 5ms/step - loss: 0.3082 - mae: 0.3082\n",
            "Epoch 153/500\n",
            "2/2 [==============================] - 0s 4ms/step - loss: 0.8171 - mae: 0.8171\n",
            "Epoch 154/500\n",
            "2/2 [==============================] - 0s 4ms/step - loss: 0.7045 - mae: 0.7045\n",
            "Epoch 155/500\n",
            "2/2 [==============================] - 0s 4ms/step - loss: 0.3848 - mae: 0.3848\n",
            "Epoch 156/500\n",
            "2/2 [==============================] - 0s 4ms/step - loss: 0.5523 - mae: 0.5523\n",
            "Epoch 157/500\n",
            "2/2 [==============================] - 0s 4ms/step - loss: 0.4058 - mae: 0.4058\n",
            "Epoch 158/500\n",
            "2/2 [==============================] - 0s 4ms/step - loss: 0.2822 - mae: 0.2822\n",
            "Epoch 159/500\n",
            "2/2 [==============================] - 0s 5ms/step - loss: 0.8702 - mae: 0.8702\n",
            "Epoch 160/500\n",
            "2/2 [==============================] - 0s 4ms/step - loss: 1.2137 - mae: 1.2137\n",
            "Epoch 161/500\n",
            "2/2 [==============================] - 0s 6ms/step - loss: 0.9929 - mae: 0.9929\n",
            "Epoch 162/500\n",
            "2/2 [==============================] - 0s 5ms/step - loss: 1.4472 - mae: 1.4472\n",
            "Epoch 163/500\n",
            "2/2 [==============================] - 0s 5ms/step - loss: 0.9690 - mae: 0.9690\n",
            "Epoch 164/500\n",
            "2/2 [==============================] - 0s 5ms/step - loss: 0.5168 - mae: 0.5168\n",
            "Epoch 165/500\n",
            "2/2 [==============================] - 0s 4ms/step - loss: 0.8225 - mae: 0.8225\n",
            "Epoch 166/500\n",
            "2/2 [==============================] - 0s 6ms/step - loss: 0.2969 - mae: 0.2969\n",
            "Epoch 167/500\n",
            "2/2 [==============================] - 0s 4ms/step - loss: 0.5398 - mae: 0.5398\n",
            "Epoch 168/500\n",
            "2/2 [==============================] - 0s 5ms/step - loss: 0.3705 - mae: 0.3705\n",
            "Epoch 169/500\n",
            "2/2 [==============================] - 0s 5ms/step - loss: 0.1776 - mae: 0.1776\n",
            "Epoch 170/500\n",
            "2/2 [==============================] - 0s 5ms/step - loss: 0.9602 - mae: 0.9602\n",
            "Epoch 171/500\n",
            "2/2 [==============================] - 0s 4ms/step - loss: 0.9814 - mae: 0.9814\n",
            "Epoch 172/500\n",
            "2/2 [==============================] - 0s 5ms/step - loss: 0.7201 - mae: 0.7201\n",
            "Epoch 173/500\n",
            "2/2 [==============================] - 0s 5ms/step - loss: 0.6310 - mae: 0.6310\n",
            "Epoch 174/500\n",
            "2/2 [==============================] - 0s 5ms/step - loss: 0.7562 - mae: 0.7562\n",
            "Epoch 175/500\n",
            "2/2 [==============================] - 0s 4ms/step - loss: 0.1932 - mae: 0.1932\n",
            "Epoch 176/500\n",
            "2/2 [==============================] - 0s 5ms/step - loss: 0.2439 - mae: 0.2439\n",
            "Epoch 177/500\n",
            "2/2 [==============================] - 0s 5ms/step - loss: 0.3177 - mae: 0.3177\n",
            "Epoch 178/500\n",
            "2/2 [==============================] - 0s 4ms/step - loss: 0.1676 - mae: 0.1676\n",
            "Epoch 179/500\n",
            "2/2 [==============================] - 0s 5ms/step - loss: 0.1004 - mae: 0.1004\n",
            "Epoch 180/500\n",
            "2/2 [==============================] - 0s 5ms/step - loss: 0.5176 - mae: 0.5176\n",
            "Epoch 181/500\n",
            "2/2 [==============================] - 0s 5ms/step - loss: 0.8473 - mae: 0.8473\n",
            "Epoch 182/500\n",
            "2/2 [==============================] - 0s 5ms/step - loss: 0.2493 - mae: 0.2493\n",
            "Epoch 183/500\n",
            "2/2 [==============================] - 0s 4ms/step - loss: 0.2264 - mae: 0.2264\n",
            "Epoch 184/500\n",
            "2/2 [==============================] - 0s 4ms/step - loss: 0.4607 - mae: 0.4607\n",
            "Epoch 185/500\n",
            "2/2 [==============================] - 0s 5ms/step - loss: 0.3397 - mae: 0.3397\n",
            "Epoch 186/500\n",
            "2/2 [==============================] - 0s 5ms/step - loss: 0.4959 - mae: 0.4959\n",
            "Epoch 187/500\n",
            "2/2 [==============================] - 0s 5ms/step - loss: 0.3492 - mae: 0.3492\n",
            "Epoch 188/500\n",
            "2/2 [==============================] - 0s 5ms/step - loss: 0.6697 - mae: 0.6697\n",
            "Epoch 189/500\n",
            "2/2 [==============================] - 0s 4ms/step - loss: 0.3629 - mae: 0.3629\n",
            "Epoch 190/500\n",
            "2/2 [==============================] - 0s 4ms/step - loss: 0.8838 - mae: 0.8838\n",
            "Epoch 191/500\n",
            "2/2 [==============================] - 0s 4ms/step - loss: 0.9121 - mae: 0.9121\n",
            "Epoch 192/500\n",
            "2/2 [==============================] - 0s 5ms/step - loss: 0.6469 - mae: 0.6469\n",
            "Epoch 193/500\n",
            "2/2 [==============================] - 0s 5ms/step - loss: 0.2930 - mae: 0.2930\n",
            "Epoch 194/500\n",
            "2/2 [==============================] - 0s 4ms/step - loss: 0.4988 - mae: 0.4988\n",
            "Epoch 195/500\n",
            "2/2 [==============================] - 0s 5ms/step - loss: 0.2677 - mae: 0.2677\n",
            "Epoch 196/500\n",
            "2/2 [==============================] - 0s 5ms/step - loss: 0.2053 - mae: 0.2053\n",
            "Epoch 197/500\n",
            "2/2 [==============================] - 0s 5ms/step - loss: 0.2653 - mae: 0.2653\n",
            "Epoch 198/500\n",
            "2/2 [==============================] - 0s 5ms/step - loss: 0.5193 - mae: 0.5193\n",
            "Epoch 199/500\n",
            "2/2 [==============================] - 0s 11ms/step - loss: 0.8796 - mae: 0.8796\n",
            "Epoch 200/500\n",
            "2/2 [==============================] - 0s 7ms/step - loss: 0.6218 - mae: 0.6218\n",
            "Epoch 201/500\n",
            "2/2 [==============================] - 0s 6ms/step - loss: 1.1719 - mae: 1.1719\n",
            "Epoch 202/500\n",
            "2/2 [==============================] - 0s 6ms/step - loss: 0.4245 - mae: 0.4245\n",
            "Epoch 203/500\n",
            "2/2 [==============================] - 0s 5ms/step - loss: 0.5078 - mae: 0.5078\n",
            "Epoch 204/500\n",
            "2/2 [==============================] - 0s 4ms/step - loss: 0.1997 - mae: 0.1997\n",
            "Epoch 205/500\n",
            "2/2 [==============================] - 0s 4ms/step - loss: 0.7108 - mae: 0.7108\n",
            "Epoch 206/500\n",
            "2/2 [==============================] - 0s 4ms/step - loss: 0.6670 - mae: 0.6670\n",
            "Epoch 207/500\n",
            "2/2 [==============================] - 0s 3ms/step - loss: 0.3171 - mae: 0.3171\n",
            "Epoch 208/500\n",
            "2/2 [==============================] - 0s 11ms/step - loss: 0.3958 - mae: 0.3958\n",
            "Epoch 209/500\n",
            "2/2 [==============================] - 0s 9ms/step - loss: 0.4958 - mae: 0.4958\n",
            "Epoch 210/500\n",
            "2/2 [==============================] - 0s 4ms/step - loss: 0.4642 - mae: 0.4642\n",
            "Epoch 211/500\n",
            "2/2 [==============================] - 0s 5ms/step - loss: 0.3797 - mae: 0.3797\n",
            "Epoch 212/500\n",
            "2/2 [==============================] - 0s 5ms/step - loss: 0.6236 - mae: 0.6236\n",
            "Epoch 213/500\n",
            "2/2 [==============================] - 0s 9ms/step - loss: 0.5927 - mae: 0.5927\n",
            "Epoch 214/500\n",
            "2/2 [==============================] - 0s 5ms/step - loss: 0.8047 - mae: 0.8047\n",
            "Epoch 215/500\n",
            "2/2 [==============================] - 0s 5ms/step - loss: 0.3710 - mae: 0.3710\n",
            "Epoch 216/500\n",
            "2/2 [==============================] - 0s 6ms/step - loss: 1.3597 - mae: 1.3597\n",
            "Epoch 217/500\n",
            "2/2 [==============================] - 0s 5ms/step - loss: 0.1741 - mae: 0.1741\n",
            "Epoch 218/500\n",
            "2/2 [==============================] - 0s 5ms/step - loss: 3.1660 - mae: 3.1660\n",
            "Epoch 219/500\n",
            "2/2 [==============================] - 0s 5ms/step - loss: 3.3018 - mae: 3.3018\n",
            "Epoch 220/500\n",
            "2/2 [==============================] - 0s 8ms/step - loss: 1.1267 - mae: 1.1267\n",
            "Epoch 221/500\n",
            "2/2 [==============================] - 0s 5ms/step - loss: 0.9774 - mae: 0.9774\n",
            "Epoch 222/500\n",
            "2/2 [==============================] - 0s 4ms/step - loss: 0.3578 - mae: 0.3578\n",
            "Epoch 223/500\n",
            "2/2 [==============================] - 0s 5ms/step - loss: 0.3690 - mae: 0.3690\n",
            "Epoch 224/500\n",
            "2/2 [==============================] - 0s 4ms/step - loss: 0.5378 - mae: 0.5378\n",
            "Epoch 225/500\n",
            "2/2 [==============================] - 0s 7ms/step - loss: 0.9820 - mae: 0.9820\n",
            "Epoch 226/500\n",
            "2/2 [==============================] - 0s 5ms/step - loss: 0.6680 - mae: 0.6680\n",
            "Epoch 227/500\n",
            "2/2 [==============================] - 0s 6ms/step - loss: 0.3827 - mae: 0.3827\n",
            "Epoch 228/500\n",
            "2/2 [==============================] - 0s 4ms/step - loss: 0.2408 - mae: 0.2408\n",
            "Epoch 229/500\n",
            "2/2 [==============================] - 0s 5ms/step - loss: 0.5314 - mae: 0.5314\n",
            "Epoch 230/500\n",
            "2/2 [==============================] - 0s 4ms/step - loss: 0.2665 - mae: 0.2665\n",
            "Epoch 231/500\n",
            "2/2 [==============================] - 0s 4ms/step - loss: 0.3745 - mae: 0.3745\n",
            "Epoch 232/500\n",
            "2/2 [==============================] - 0s 4ms/step - loss: 0.4494 - mae: 0.4494\n",
            "Epoch 233/500\n",
            "2/2 [==============================] - 0s 5ms/step - loss: 0.2189 - mae: 0.2189\n",
            "Epoch 234/500\n",
            "2/2 [==============================] - 0s 4ms/step - loss: 0.1695 - mae: 0.1695\n",
            "Epoch 235/500\n",
            "2/2 [==============================] - 0s 4ms/step - loss: 0.1721 - mae: 0.1721\n",
            "Epoch 236/500\n",
            "2/2 [==============================] - 0s 4ms/step - loss: 0.1736 - mae: 0.1736\n",
            "Epoch 237/500\n",
            "2/2 [==============================] - 0s 5ms/step - loss: 0.1752 - mae: 0.1752\n",
            "Epoch 238/500\n",
            "2/2 [==============================] - 0s 5ms/step - loss: 0.9642 - mae: 0.9642\n",
            "Epoch 239/500\n",
            "2/2 [==============================] - 0s 4ms/step - loss: 0.7677 - mae: 0.7677\n",
            "Epoch 240/500\n",
            "2/2 [==============================] - 0s 4ms/step - loss: 0.6214 - mae: 0.6214\n",
            "Epoch 241/500\n",
            "2/2 [==============================] - 0s 5ms/step - loss: 0.5716 - mae: 0.5716\n",
            "Epoch 242/500\n",
            "2/2 [==============================] - 0s 5ms/step - loss: 0.9840 - mae: 0.9840\n",
            "Epoch 243/500\n",
            "2/2 [==============================] - 0s 4ms/step - loss: 0.6584 - mae: 0.6584\n",
            "Epoch 244/500\n",
            "2/2 [==============================] - 0s 4ms/step - loss: 1.2829 - mae: 1.2829\n",
            "Epoch 245/500\n",
            "2/2 [==============================] - 0s 5ms/step - loss: 0.5492 - mae: 0.5492\n",
            "Epoch 246/500\n",
            "2/2 [==============================] - 0s 5ms/step - loss: 1.4496 - mae: 1.4496\n",
            "Epoch 247/500\n",
            "2/2 [==============================] - 0s 4ms/step - loss: 0.4391 - mae: 0.4391\n",
            "Epoch 248/500\n",
            "2/2 [==============================] - 0s 4ms/step - loss: 2.4377 - mae: 2.4377\n",
            "Epoch 249/500\n",
            "2/2 [==============================] - 0s 4ms/step - loss: 1.9761 - mae: 1.9761\n",
            "Epoch 250/500\n",
            "2/2 [==============================] - 0s 4ms/step - loss: 0.6694 - mae: 0.6694\n",
            "Epoch 251/500\n",
            "2/2 [==============================] - 0s 5ms/step - loss: 1.5380 - mae: 1.5380\n",
            "Epoch 252/500\n",
            "2/2 [==============================] - 0s 5ms/step - loss: 0.3375 - mae: 0.3375\n",
            "Epoch 253/500\n",
            "2/2 [==============================] - 0s 4ms/step - loss: 0.7396 - mae: 0.7396\n",
            "Epoch 254/500\n",
            "2/2 [==============================] - 0s 10ms/step - loss: 1.3089 - mae: 1.3089\n",
            "Epoch 255/500\n",
            "2/2 [==============================] - 0s 4ms/step - loss: 1.1004 - mae: 1.1004\n",
            "Epoch 256/500\n",
            "2/2 [==============================] - 0s 4ms/step - loss: 1.6119 - mae: 1.6119\n",
            "Epoch 257/500\n",
            "2/2 [==============================] - 0s 5ms/step - loss: 2.1786 - mae: 2.1786\n",
            "Epoch 258/500\n",
            "2/2 [==============================] - 0s 5ms/step - loss: 0.6378 - mae: 0.6378\n",
            "Epoch 259/500\n",
            "2/2 [==============================] - 0s 5ms/step - loss: 1.9865 - mae: 1.9865\n",
            "Epoch 260/500\n",
            "2/2 [==============================] - 0s 4ms/step - loss: 0.8907 - mae: 0.8907\n",
            "Epoch 261/500\n",
            "2/2 [==============================] - 0s 5ms/step - loss: 1.7030 - mae: 1.7030\n",
            "Epoch 262/500\n",
            "2/2 [==============================] - 0s 5ms/step - loss: 1.0981 - mae: 1.0981\n",
            "Epoch 263/500\n",
            "2/2 [==============================] - 0s 8ms/step - loss: 1.6274 - mae: 1.6274\n",
            "Epoch 264/500\n",
            "2/2 [==============================] - 0s 5ms/step - loss: 2.0663 - mae: 2.0663\n",
            "Epoch 265/500\n",
            "2/2 [==============================] - 0s 4ms/step - loss: 0.4518 - mae: 0.4518\n",
            "Epoch 266/500\n",
            "2/2 [==============================] - 0s 5ms/step - loss: 2.0597 - mae: 2.0597\n",
            "Epoch 267/500\n",
            "2/2 [==============================] - 0s 5ms/step - loss: 1.4613 - mae: 1.4613\n",
            "Epoch 268/500\n",
            "2/2 [==============================] - 0s 4ms/step - loss: 1.1991 - mae: 1.1991\n",
            "Epoch 269/500\n",
            "2/2 [==============================] - 0s 4ms/step - loss: 1.5215 - mae: 1.5215\n",
            "Epoch 270/500\n",
            "2/2 [==============================] - 0s 5ms/step - loss: 0.5916 - mae: 0.5916\n",
            "Epoch 271/500\n",
            "2/2 [==============================] - 0s 4ms/step - loss: 0.9131 - mae: 0.9131\n",
            "Epoch 272/500\n",
            "2/2 [==============================] - 0s 5ms/step - loss: 0.9908 - mae: 0.9908\n",
            "Epoch 273/500\n",
            "2/2 [==============================] - 0s 5ms/step - loss: 1.1716 - mae: 1.1716\n",
            "Epoch 274/500\n",
            "2/2 [==============================] - 0s 5ms/step - loss: 0.9042 - mae: 0.9042\n",
            "Epoch 275/500\n",
            "2/2 [==============================] - 0s 4ms/step - loss: 0.8006 - mae: 0.8006\n",
            "Epoch 276/500\n",
            "2/2 [==============================] - 0s 4ms/step - loss: 0.8589 - mae: 0.8589\n",
            "Epoch 277/500\n",
            "2/2 [==============================] - 0s 5ms/step - loss: 0.3045 - mae: 0.3045\n",
            "Epoch 278/500\n",
            "2/2 [==============================] - 0s 5ms/step - loss: 1.6485 - mae: 1.6485\n",
            "Epoch 279/500\n",
            "2/2 [==============================] - 0s 5ms/step - loss: 0.7255 - mae: 0.7255\n",
            "Epoch 280/500\n",
            "2/2 [==============================] - 0s 5ms/step - loss: 0.8557 - mae: 0.8557\n",
            "Epoch 281/500\n",
            "2/2 [==============================] - 0s 8ms/step - loss: 0.5668 - mae: 0.5668\n",
            "Epoch 282/500\n",
            "2/2 [==============================] - 0s 4ms/step - loss: 0.5586 - mae: 0.5586\n",
            "Epoch 283/500\n",
            "2/2 [==============================] - 0s 4ms/step - loss: 0.3784 - mae: 0.3784\n",
            "Epoch 284/500\n",
            "2/2 [==============================] - 0s 5ms/step - loss: 0.7918 - mae: 0.7918\n",
            "Epoch 285/500\n",
            "2/2 [==============================] - 0s 5ms/step - loss: 0.4729 - mae: 0.4729\n",
            "Epoch 286/500\n",
            "2/2 [==============================] - 0s 5ms/step - loss: 1.2522 - mae: 1.2522\n",
            "Epoch 287/500\n",
            "2/2 [==============================] - 0s 9ms/step - loss: 0.4088 - mae: 0.4088\n",
            "Epoch 288/500\n",
            "2/2 [==============================] - 0s 5ms/step - loss: 1.5545 - mae: 1.5545\n",
            "Epoch 289/500\n",
            "2/2 [==============================] - 0s 4ms/step - loss: 0.6357 - mae: 0.6357\n",
            "Epoch 290/500\n",
            "2/2 [==============================] - 0s 5ms/step - loss: 1.2292 - mae: 1.2292\n",
            "Epoch 291/500\n",
            "2/2 [==============================] - 0s 5ms/step - loss: 0.4889 - mae: 0.4889\n",
            "Epoch 292/500\n",
            "2/2 [==============================] - 0s 5ms/step - loss: 1.3856 - mae: 1.3856\n",
            "Epoch 293/500\n",
            "2/2 [==============================] - 0s 4ms/step - loss: 0.5918 - mae: 0.5918\n",
            "Epoch 294/500\n",
            "2/2 [==============================] - 0s 4ms/step - loss: 0.9212 - mae: 0.9212\n",
            "Epoch 295/500\n",
            "2/2 [==============================] - 0s 5ms/step - loss: 0.3138 - mae: 0.3138\n",
            "Epoch 296/500\n",
            "2/2 [==============================] - 0s 5ms/step - loss: 0.0770 - mae: 0.0770\n",
            "Epoch 297/500\n",
            "2/2 [==============================] - 0s 7ms/step - loss: 0.2043 - mae: 0.2043\n",
            "Epoch 298/500\n",
            "2/2 [==============================] - 0s 5ms/step - loss: 0.2858 - mae: 0.2858\n",
            "Epoch 299/500\n",
            "2/2 [==============================] - 0s 4ms/step - loss: 0.4877 - mae: 0.4877\n",
            "Epoch 300/500\n",
            "2/2 [==============================] - 0s 5ms/step - loss: 0.3920 - mae: 0.3920\n",
            "Epoch 301/500\n",
            "2/2 [==============================] - 0s 13ms/step - loss: 0.1148 - mae: 0.1148\n",
            "Epoch 302/500\n",
            "2/2 [==============================] - 0s 5ms/step - loss: 0.3970 - mae: 0.3970\n",
            "Epoch 303/500\n",
            "2/2 [==============================] - 0s 4ms/step - loss: 0.5236 - mae: 0.5236\n",
            "Epoch 304/500\n",
            "2/2 [==============================] - 0s 5ms/step - loss: 0.1196 - mae: 0.1196\n",
            "Epoch 305/500\n",
            "2/2 [==============================] - 0s 5ms/step - loss: 0.1231 - mae: 0.1231\n",
            "Epoch 306/500\n",
            "2/2 [==============================] - 0s 5ms/step - loss: 0.1676 - mae: 0.1676\n",
            "Epoch 307/500\n",
            "2/2 [==============================] - 0s 5ms/step - loss: 0.2118 - mae: 0.2118\n",
            "Epoch 308/500\n",
            "2/2 [==============================] - 0s 5ms/step - loss: 0.5378 - mae: 0.5378\n",
            "Epoch 309/500\n",
            "2/2 [==============================] - 0s 5ms/step - loss: 0.8725 - mae: 0.8725\n",
            "Epoch 310/500\n",
            "2/2 [==============================] - 0s 4ms/step - loss: 0.4755 - mae: 0.4755\n",
            "Epoch 311/500\n",
            "2/2 [==============================] - 0s 4ms/step - loss: 1.3218 - mae: 1.3218\n",
            "Epoch 312/500\n",
            "2/2 [==============================] - 0s 5ms/step - loss: 0.5478 - mae: 0.5478\n",
            "Epoch 313/500\n",
            "2/2 [==============================] - 0s 5ms/step - loss: 1.4714 - mae: 1.4714\n",
            "Epoch 314/500\n",
            "2/2 [==============================] - 0s 5ms/step - loss: 0.6362 - mae: 0.6362\n",
            "Epoch 315/500\n",
            "2/2 [==============================] - 0s 4ms/step - loss: 0.7104 - mae: 0.7104\n",
            "Epoch 316/500\n",
            "2/2 [==============================] - 0s 4ms/step - loss: 0.5615 - mae: 0.5615\n",
            "Epoch 317/500\n",
            "2/2 [==============================] - 0s 4ms/step - loss: 0.3044 - mae: 0.3044\n",
            "Epoch 318/500\n",
            "2/2 [==============================] - 0s 5ms/step - loss: 1.3707 - mae: 1.3707\n",
            "Epoch 319/500\n",
            "2/2 [==============================] - 0s 5ms/step - loss: 0.5620 - mae: 0.5620\n",
            "Epoch 320/500\n",
            "2/2 [==============================] - 0s 5ms/step - loss: 1.0916 - mae: 1.0916\n",
            "Epoch 321/500\n",
            "2/2 [==============================] - 0s 5ms/step - loss: 0.3296 - mae: 0.3296\n",
            "Epoch 322/500\n",
            "2/2 [==============================] - 0s 4ms/step - loss: 0.3792 - mae: 0.3792\n",
            "Epoch 323/500\n",
            "2/2 [==============================] - 0s 5ms/step - loss: 0.2443 - mae: 0.2443\n",
            "Epoch 324/500\n",
            "2/2 [==============================] - 0s 5ms/step - loss: 0.4585 - mae: 0.4585\n",
            "Epoch 325/500\n",
            "2/2 [==============================] - 0s 5ms/step - loss: 0.3379 - mae: 0.3379\n",
            "Epoch 326/500\n",
            "2/2 [==============================] - 0s 8ms/step - loss: 0.0578 - mae: 0.0578\n",
            "Epoch 327/500\n",
            "2/2 [==============================] - 0s 4ms/step - loss: 0.2725 - mae: 0.2725\n",
            "Epoch 328/500\n",
            "2/2 [==============================] - 0s 5ms/step - loss: 0.3018 - mae: 0.3018\n",
            "Epoch 329/500\n",
            "2/2 [==============================] - 0s 5ms/step - loss: 0.2173 - mae: 0.2173\n",
            "Epoch 330/500\n",
            "2/2 [==============================] - 0s 5ms/step - loss: 0.5522 - mae: 0.5522\n",
            "Epoch 331/500\n",
            "2/2 [==============================] - 0s 4ms/step - loss: 0.9086 - mae: 0.9086\n",
            "Epoch 332/500\n",
            "2/2 [==============================] - 0s 5ms/step - loss: 0.6317 - mae: 0.6317\n",
            "Epoch 333/500\n",
            "2/2 [==============================] - 0s 5ms/step - loss: 0.3679 - mae: 0.3679\n",
            "Epoch 334/500\n",
            "2/2 [==============================] - 0s 5ms/step - loss: 0.2319 - mae: 0.2319\n",
            "Epoch 335/500\n",
            "2/2 [==============================] - 0s 5ms/step - loss: 0.3314 - mae: 0.3314\n",
            "Epoch 336/500\n",
            "2/2 [==============================] - 0s 5ms/step - loss: 1.3607 - mae: 1.3607\n",
            "Epoch 337/500\n",
            "2/2 [==============================] - 0s 4ms/step - loss: 1.3291 - mae: 1.3291\n",
            "Epoch 338/500\n",
            "2/2 [==============================] - 0s 5ms/step - loss: 0.8795 - mae: 0.8795\n",
            "Epoch 339/500\n",
            "2/2 [==============================] - 0s 5ms/step - loss: 1.1726 - mae: 1.1726\n",
            "Epoch 340/500\n",
            "2/2 [==============================] - 0s 5ms/step - loss: 0.7102 - mae: 0.7102\n",
            "Epoch 341/500\n",
            "2/2 [==============================] - 0s 4ms/step - loss: 0.7093 - mae: 0.7093\n",
            "Epoch 342/500\n",
            "2/2 [==============================] - 0s 5ms/step - loss: 0.5311 - mae: 0.5311\n",
            "Epoch 343/500\n",
            "2/2 [==============================] - 0s 5ms/step - loss: 0.3201 - mae: 0.3201\n",
            "Epoch 344/500\n",
            "2/2 [==============================] - 0s 5ms/step - loss: 0.1730 - mae: 0.1730\n",
            "Epoch 345/500\n",
            "2/2 [==============================] - 0s 5ms/step - loss: 0.9778 - mae: 0.9778\n",
            "Epoch 346/500\n",
            "2/2 [==============================] - 0s 4ms/step - loss: 0.6942 - mae: 0.6942\n",
            "Epoch 347/500\n",
            "2/2 [==============================] - 0s 5ms/step - loss: 1.2939 - mae: 1.2939\n",
            "Epoch 348/500\n",
            "2/2 [==============================] - 0s 5ms/step - loss: 1.3304 - mae: 1.3304\n",
            "Epoch 349/500\n",
            "2/2 [==============================] - 0s 5ms/step - loss: 0.6695 - mae: 0.6695\n",
            "Epoch 350/500\n",
            "2/2 [==============================] - 0s 5ms/step - loss: 0.7601 - mae: 0.7601\n",
            "Epoch 351/500\n",
            "2/2 [==============================] - 0s 9ms/step - loss: 1.2104 - mae: 1.2104\n",
            "Epoch 352/500\n",
            "2/2 [==============================] - 0s 4ms/step - loss: 1.6821 - mae: 1.6821\n",
            "Epoch 353/500\n",
            "2/2 [==============================] - 0s 5ms/step - loss: 0.5001 - mae: 0.5001\n",
            "Epoch 354/500\n",
            "2/2 [==============================] - 0s 5ms/step - loss: 1.7216 - mae: 1.7216\n",
            "Epoch 355/500\n",
            "2/2 [==============================] - 0s 4ms/step - loss: 0.8413 - mae: 0.8413\n",
            "Epoch 356/500\n",
            "2/2 [==============================] - 0s 5ms/step - loss: 0.9950 - mae: 0.9950\n",
            "Epoch 357/500\n",
            "2/2 [==============================] - 0s 4ms/step - loss: 0.4633 - mae: 0.4633\n",
            "Epoch 358/500\n",
            "2/2 [==============================] - 0s 4ms/step - loss: 1.2278 - mae: 1.2278\n",
            "Epoch 359/500\n",
            "2/2 [==============================] - 0s 4ms/step - loss: 0.3818 - mae: 0.3818\n",
            "Epoch 360/500\n",
            "2/2 [==============================] - 0s 4ms/step - loss: 1.6114 - mae: 1.6114\n",
            "Epoch 361/500\n",
            "2/2 [==============================] - 0s 5ms/step - loss: 0.6844 - mae: 0.6844\n",
            "Epoch 362/500\n",
            "2/2 [==============================] - 0s 5ms/step - loss: 0.8924 - mae: 0.8924\n",
            "Epoch 363/500\n",
            "2/2 [==============================] - 0s 4ms/step - loss: 0.3101 - mae: 0.3101\n",
            "Epoch 364/500\n",
            "2/2 [==============================] - 0s 4ms/step - loss: 0.3550 - mae: 0.3550\n",
            "Epoch 365/500\n",
            "2/2 [==============================] - 0s 4ms/step - loss: 0.8322 - mae: 0.8322\n",
            "Epoch 366/500\n",
            "2/2 [==============================] - 0s 5ms/step - loss: 0.3880 - mae: 0.3880\n",
            "Epoch 367/500\n",
            "2/2 [==============================] - 0s 5ms/step - loss: 0.2396 - mae: 0.2396\n",
            "Epoch 368/500\n",
            "2/2 [==============================] - 0s 5ms/step - loss: 0.2067 - mae: 0.2067\n",
            "Epoch 369/500\n",
            "2/2 [==============================] - 0s 5ms/step - loss: 0.5591 - mae: 0.5591\n",
            "Epoch 370/500\n",
            "2/2 [==============================] - 0s 5ms/step - loss: 0.7019 - mae: 0.7019\n",
            "Epoch 371/500\n",
            "2/2 [==============================] - 0s 5ms/step - loss: 0.3396 - mae: 0.3396\n",
            "Epoch 372/500\n",
            "2/2 [==============================] - 0s 5ms/step - loss: 1.1759 - mae: 1.1759\n",
            "Epoch 373/500\n",
            "2/2 [==============================] - 0s 4ms/step - loss: 0.3542 - mae: 0.3542\n",
            "Epoch 374/500\n",
            "2/2 [==============================] - 0s 4ms/step - loss: 1.8943 - mae: 1.8943\n",
            "Epoch 375/500\n",
            "2/2 [==============================] - 0s 4ms/step - loss: 1.3956 - mae: 1.3956\n",
            "Epoch 376/500\n",
            "2/2 [==============================] - 0s 5ms/step - loss: 0.8506 - mae: 0.8506\n",
            "Epoch 377/500\n",
            "2/2 [==============================] - 0s 5ms/step - loss: 1.3378 - mae: 1.3378\n",
            "Epoch 378/500\n",
            "2/2 [==============================] - 0s 10ms/step - loss: 0.2339 - mae: 0.2339\n",
            "Epoch 379/500\n",
            "2/2 [==============================] - 0s 5ms/step - loss: 0.2937 - mae: 0.2937\n",
            "Epoch 380/500\n",
            "2/2 [==============================] - 0s 5ms/step - loss: 0.6721 - mae: 0.6721\n",
            "Epoch 381/500\n",
            "2/2 [==============================] - 0s 5ms/step - loss: 0.9062 - mae: 0.9062\n",
            "Epoch 382/500\n",
            "2/2 [==============================] - 0s 4ms/step - loss: 0.8208 - mae: 0.8208\n",
            "Epoch 383/500\n",
            "2/2 [==============================] - 0s 10ms/step - loss: 1.1026 - mae: 1.1026\n",
            "Epoch 384/500\n",
            "2/2 [==============================] - 0s 5ms/step - loss: 1.5140 - mae: 1.5140\n",
            "Epoch 385/500\n",
            "2/2 [==============================] - 0s 4ms/step - loss: 0.3471 - mae: 0.3471\n",
            "Epoch 386/500\n",
            "2/2 [==============================] - 0s 5ms/step - loss: 1.1944 - mae: 1.1944\n",
            "Epoch 387/500\n",
            "2/2 [==============================] - 0s 5ms/step - loss: 0.3655 - mae: 0.3655\n",
            "Epoch 388/500\n",
            "2/2 [==============================] - 0s 5ms/step - loss: 1.6196 - mae: 1.6196\n",
            "Epoch 389/500\n",
            "2/2 [==============================] - 0s 4ms/step - loss: 0.7681 - mae: 0.7681\n",
            "Epoch 390/500\n",
            "2/2 [==============================] - 0s 4ms/step - loss: 0.7432 - mae: 0.7432\n",
            "Epoch 391/500\n",
            "2/2 [==============================] - 0s 5ms/step - loss: 0.1804 - mae: 0.1804\n",
            "Epoch 392/500\n",
            "2/2 [==============================] - 0s 6ms/step - loss: 0.2613 - mae: 0.2613\n",
            "Epoch 393/500\n",
            "2/2 [==============================] - 0s 5ms/step - loss: 0.5561 - mae: 0.5561\n",
            "Epoch 394/500\n",
            "2/2 [==============================] - 0s 9ms/step - loss: 0.7385 - mae: 0.7385\n",
            "Epoch 395/500\n",
            "2/2 [==============================] - 0s 7ms/step - loss: 0.3791 - mae: 0.3791\n",
            "Epoch 396/500\n",
            "2/2 [==============================] - 0s 5ms/step - loss: 1.0663 - mae: 1.0663\n",
            "Epoch 397/500\n",
            "2/2 [==============================] - 0s 5ms/step - loss: 0.2492 - mae: 0.2492\n",
            "Epoch 398/500\n",
            "2/2 [==============================] - 0s 4ms/step - loss: 1.0658 - mae: 1.0658\n",
            "Epoch 399/500\n",
            "2/2 [==============================] - 0s 8ms/step - loss: 0.2788 - mae: 0.2788\n",
            "Epoch 400/500\n",
            "2/2 [==============================] - 0s 4ms/step - loss: 0.3225 - mae: 0.3225\n",
            "Epoch 401/500\n",
            "2/2 [==============================] - 0s 5ms/step - loss: 0.8696 - mae: 0.8696\n",
            "Epoch 402/500\n",
            "2/2 [==============================] - 0s 5ms/step - loss: 0.1835 - mae: 0.1835\n",
            "Epoch 403/500\n",
            "2/2 [==============================] - 0s 5ms/step - loss: 0.2295 - mae: 0.2295\n",
            "Epoch 404/500\n",
            "2/2 [==============================] - 0s 5ms/step - loss: 0.3777 - mae: 0.3777\n",
            "Epoch 405/500\n",
            "2/2 [==============================] - 0s 5ms/step - loss: 0.4998 - mae: 0.4998\n",
            "Epoch 406/500\n",
            "2/2 [==============================] - 0s 4ms/step - loss: 0.6481 - mae: 0.6481\n",
            "Epoch 407/500\n",
            "2/2 [==============================] - 0s 4ms/step - loss: 0.3776 - mae: 0.3776\n",
            "Epoch 408/500\n",
            "2/2 [==============================] - 0s 4ms/step - loss: 0.6937 - mae: 0.6937\n",
            "Epoch 409/500\n",
            "2/2 [==============================] - 0s 5ms/step - loss: 0.6629 - mae: 0.6629\n",
            "Epoch 410/500\n",
            "2/2 [==============================] - 0s 5ms/step - loss: 0.7578 - mae: 0.7578\n",
            "Epoch 411/500\n",
            "2/2 [==============================] - 0s 4ms/step - loss: 0.8178 - mae: 0.8178\n",
            "Epoch 412/500\n",
            "2/2 [==============================] - 0s 5ms/step - loss: 0.6598 - mae: 0.6598\n",
            "Epoch 413/500\n",
            "2/2 [==============================] - 0s 4ms/step - loss: 0.4935 - mae: 0.4935\n",
            "Epoch 414/500\n",
            "2/2 [==============================] - 0s 5ms/step - loss: 0.4330 - mae: 0.4330\n",
            "Epoch 415/500\n",
            "2/2 [==============================] - 0s 5ms/step - loss: 0.2958 - mae: 0.2958\n",
            "Epoch 416/500\n",
            "2/2 [==============================] - 0s 8ms/step - loss: 0.3368 - mae: 0.3368\n",
            "Epoch 417/500\n",
            "2/2 [==============================] - 0s 6ms/step - loss: 0.3706 - mae: 0.3706\n",
            "Epoch 418/500\n",
            "2/2 [==============================] - 0s 4ms/step - loss: 0.3804 - mae: 0.3804\n",
            "Epoch 419/500\n",
            "2/2 [==============================] - 0s 4ms/step - loss: 0.5012 - mae: 0.5012\n",
            "Epoch 420/500\n",
            "2/2 [==============================] - 0s 5ms/step - loss: 0.3396 - mae: 0.3396\n",
            "Epoch 421/500\n",
            "2/2 [==============================] - 0s 4ms/step - loss: 0.1844 - mae: 0.1844\n",
            "Epoch 422/500\n",
            "2/2 [==============================] - 0s 5ms/step - loss: 0.1726 - mae: 0.1726\n",
            "Epoch 423/500\n",
            "2/2 [==============================] - 0s 4ms/step - loss: 0.3524 - mae: 0.3524\n",
            "Epoch 424/500\n",
            "2/2 [==============================] - 0s 5ms/step - loss: 0.4806 - mae: 0.4806\n",
            "Epoch 425/500\n",
            "2/2 [==============================] - 0s 5ms/step - loss: 0.8193 - mae: 0.8193\n",
            "Epoch 426/500\n",
            "2/2 [==============================] - 0s 5ms/step - loss: 0.5861 - mae: 0.5861\n",
            "Epoch 427/500\n",
            "2/2 [==============================] - 0s 9ms/step - loss: 0.3914 - mae: 0.3914\n",
            "Epoch 428/500\n",
            "2/2 [==============================] - 0s 4ms/step - loss: 0.3878 - mae: 0.3878\n",
            "Epoch 429/500\n",
            "2/2 [==============================] - 0s 4ms/step - loss: 0.5131 - mae: 0.5131\n",
            "Epoch 430/500\n",
            "2/2 [==============================] - 0s 5ms/step - loss: 0.3073 - mae: 0.3073\n",
            "Epoch 431/500\n",
            "2/2 [==============================] - 0s 5ms/step - loss: 1.0421 - mae: 1.0421\n",
            "Epoch 432/500\n",
            "2/2 [==============================] - 0s 10ms/step - loss: 0.2709 - mae: 0.2709\n",
            "Epoch 433/500\n",
            "2/2 [==============================] - 0s 5ms/step - loss: 0.3368 - mae: 0.3368\n",
            "Epoch 434/500\n",
            "2/2 [==============================] - 0s 4ms/step - loss: 0.2861 - mae: 0.2861\n",
            "Epoch 435/500\n",
            "2/2 [==============================] - 0s 4ms/step - loss: 0.4831 - mae: 0.4831\n",
            "Epoch 436/500\n",
            "2/2 [==============================] - 0s 4ms/step - loss: 0.9995 - mae: 0.9995\n",
            "Epoch 437/500\n",
            "2/2 [==============================] - 0s 4ms/step - loss: 1.1956 - mae: 1.1956\n",
            "Epoch 438/500\n",
            "2/2 [==============================] - 0s 5ms/step - loss: 0.4686 - mae: 0.4686\n",
            "Epoch 439/500\n",
            "2/2 [==============================] - 0s 5ms/step - loss: 0.3854 - mae: 0.3854\n",
            "Epoch 440/500\n",
            "2/2 [==============================] - 0s 5ms/step - loss: 0.8731 - mae: 0.8731\n",
            "Epoch 441/500\n",
            "2/2 [==============================] - 0s 4ms/step - loss: 0.2815 - mae: 0.2815\n",
            "Epoch 442/500\n",
            "2/2 [==============================] - 0s 4ms/step - loss: 0.1753 - mae: 0.1753\n",
            "Epoch 443/500\n",
            "2/2 [==============================] - 0s 4ms/step - loss: 0.5255 - mae: 0.5255\n",
            "Epoch 444/500\n",
            "2/2 [==============================] - 0s 5ms/step - loss: 0.7182 - mae: 0.7182\n",
            "Epoch 445/500\n",
            "2/2 [==============================] - 0s 5ms/step - loss: 0.5090 - mae: 0.5090\n",
            "Epoch 446/500\n",
            "2/2 [==============================] - 0s 8ms/step - loss: 0.3230 - mae: 0.3230\n",
            "Epoch 447/500\n",
            "2/2 [==============================] - 0s 5ms/step - loss: 0.3538 - mae: 0.3538\n",
            "Epoch 448/500\n",
            "2/2 [==============================] - 0s 5ms/step - loss: 0.4399 - mae: 0.4399\n",
            "Epoch 449/500\n",
            "2/2 [==============================] - 0s 5ms/step - loss: 0.1421 - mae: 0.1421\n",
            "Epoch 450/500\n",
            "2/2 [==============================] - 0s 5ms/step - loss: 0.4394 - mae: 0.4394\n",
            "Epoch 451/500\n",
            "2/2 [==============================] - 0s 4ms/step - loss: 0.2807 - mae: 0.2807\n",
            "Epoch 452/500\n",
            "2/2 [==============================] - 0s 4ms/step - loss: 0.4261 - mae: 0.4261\n",
            "Epoch 453/500\n",
            "2/2 [==============================] - 0s 5ms/step - loss: 0.2572 - mae: 0.2572\n",
            "Epoch 454/500\n",
            "2/2 [==============================] - 0s 5ms/step - loss: 0.9558 - mae: 0.9558\n",
            "Epoch 455/500\n",
            "2/2 [==============================] - 0s 5ms/step - loss: 0.3993 - mae: 0.3993\n",
            "Epoch 456/500\n",
            "2/2 [==============================] - 0s 8ms/step - loss: 0.4371 - mae: 0.4371\n",
            "Epoch 457/500\n",
            "2/2 [==============================] - 0s 4ms/step - loss: 0.2905 - mae: 0.2905\n",
            "Epoch 458/500\n",
            "2/2 [==============================] - 0s 5ms/step - loss: 0.1947 - mae: 0.1947\n",
            "Epoch 459/500\n",
            "2/2 [==============================] - 0s 5ms/step - loss: 0.0369 - mae: 0.0369\n",
            "Epoch 460/500\n",
            "2/2 [==============================] - 0s 5ms/step - loss: 0.1450 - mae: 0.1450\n",
            "Epoch 461/500\n",
            "2/2 [==============================] - 0s 9ms/step - loss: 0.3139 - mae: 0.3139\n",
            "Epoch 462/500\n",
            "2/2 [==============================] - 0s 4ms/step - loss: 0.3352 - mae: 0.3352\n",
            "Epoch 463/500\n",
            "2/2 [==============================] - 0s 5ms/step - loss: 1.1293 - mae: 1.1293\n",
            "Epoch 464/500\n",
            "2/2 [==============================] - 0s 5ms/step - loss: 1.2124 - mae: 1.2124\n",
            "Epoch 465/500\n",
            "2/2 [==============================] - 0s 5ms/step - loss: 0.5879 - mae: 0.5879\n",
            "Epoch 466/500\n",
            "2/2 [==============================] - 0s 5ms/step - loss: 0.7857 - mae: 0.7857\n",
            "Epoch 467/500\n",
            "2/2 [==============================] - 0s 4ms/step - loss: 0.9812 - mae: 0.9812\n",
            "Epoch 468/500\n",
            "2/2 [==============================] - 0s 5ms/step - loss: 1.2039 - mae: 1.2039\n",
            "Epoch 469/500\n",
            "2/2 [==============================] - 0s 4ms/step - loss: 0.5259 - mae: 0.5259\n",
            "Epoch 470/500\n",
            "2/2 [==============================] - 0s 6ms/step - loss: 0.6988 - mae: 0.6988\n",
            "Epoch 471/500\n",
            "2/2 [==============================] - 0s 5ms/step - loss: 1.0692 - mae: 1.0692\n",
            "Epoch 472/500\n",
            "2/2 [==============================] - 0s 4ms/step - loss: 1.6171 - mae: 1.6171\n",
            "Epoch 473/500\n",
            "2/2 [==============================] - 0s 5ms/step - loss: 0.5699 - mae: 0.5699\n",
            "Epoch 474/500\n",
            "2/2 [==============================] - 0s 5ms/step - loss: 1.1190 - mae: 1.1190\n",
            "Epoch 475/500\n",
            "2/2 [==============================] - 0s 5ms/step - loss: 0.3226 - mae: 0.3226\n",
            "Epoch 476/500\n",
            "2/2 [==============================] - 0s 4ms/step - loss: 1.6814 - mae: 1.6814\n",
            "Epoch 477/500\n",
            "2/2 [==============================] - 0s 4ms/step - loss: 0.9625 - mae: 0.9625\n",
            "Epoch 478/500\n",
            "2/2 [==============================] - 0s 9ms/step - loss: 1.4307 - mae: 1.4307\n",
            "Epoch 479/500\n",
            "2/2 [==============================] - 0s 5ms/step - loss: 2.0528 - mae: 2.0528\n",
            "Epoch 480/500\n",
            "2/2 [==============================] - 0s 5ms/step - loss: 0.7344 - mae: 0.7344\n",
            "Epoch 481/500\n",
            "2/2 [==============================] - 0s 5ms/step - loss: 1.4929 - mae: 1.4929\n",
            "Epoch 482/500\n",
            "2/2 [==============================] - 0s 5ms/step - loss: 1.0875 - mae: 1.0875\n",
            "Epoch 483/500\n",
            "2/2 [==============================] - 0s 4ms/step - loss: 1.2036 - mae: 1.2036\n",
            "Epoch 484/500\n",
            "2/2 [==============================] - 0s 5ms/step - loss: 1.5582 - mae: 1.5582\n",
            "Epoch 485/500\n",
            "2/2 [==============================] - 0s 5ms/step - loss: 0.4833 - mae: 0.4833\n",
            "Epoch 486/500\n",
            "2/2 [==============================] - 0s 5ms/step - loss: 1.6940 - mae: 1.6940\n",
            "Epoch 487/500\n",
            "2/2 [==============================] - 0s 5ms/step - loss: 0.9290 - mae: 0.9290\n",
            "Epoch 488/500\n",
            "2/2 [==============================] - 0s 5ms/step - loss: 1.4181 - mae: 1.4181\n",
            "Epoch 489/500\n",
            "2/2 [==============================] - 0s 5ms/step - loss: 2.3156 - mae: 2.3156\n",
            "Epoch 490/500\n",
            "2/2 [==============================] - 0s 4ms/step - loss: 0.9034 - mae: 0.9034\n",
            "Epoch 491/500\n",
            "2/2 [==============================] - 0s 4ms/step - loss: 1.0113 - mae: 1.0113\n",
            "Epoch 492/500\n",
            "2/2 [==============================] - 0s 5ms/step - loss: 0.5681 - mae: 0.5681\n",
            "Epoch 493/500\n",
            "2/2 [==============================] - 0s 4ms/step - loss: 0.6969 - mae: 0.6969\n",
            "Epoch 494/500\n",
            "2/2 [==============================] - 0s 5ms/step - loss: 0.3029 - mae: 0.3029\n",
            "Epoch 495/500\n",
            "2/2 [==============================] - 0s 161ms/step - loss: 0.0637 - mae: 0.0637\n",
            "Epoch 496/500\n",
            "2/2 [==============================] - 0s 5ms/step - loss: 0.1987 - mae: 0.1987\n",
            "Epoch 497/500\n",
            "2/2 [==============================] - 0s 5ms/step - loss: 0.2553 - mae: 0.2553\n",
            "Epoch 498/500\n",
            "2/2 [==============================] - 0s 5ms/step - loss: 0.2605 - mae: 0.2605\n",
            "Epoch 499/500\n",
            "2/2 [==============================] - 0s 7ms/step - loss: 0.4740 - mae: 0.4740\n",
            "Epoch 500/500\n",
            "2/2 [==============================] - 0s 3ms/step - loss: 0.2237 - mae: 0.2237\n"
          ]
        },
        {
          "output_type": "execute_result",
          "data": {
            "text/plain": [
              "<keras.callbacks.History at 0x7f46f7243290>"
            ]
          },
          "metadata": {},
          "execution_count": 351
        }
      ]
    },
    {
      "cell_type": "code",
      "source": [
        "Y_pred_3 = model_3.predict(X_test)\n",
        "plot_predictions(predictions=Y_pred_3)"
      ],
      "metadata": {
        "colab": {
          "base_uri": "https://localhost:8080/",
          "height": 446
        },
        "id": "ebYCptcEdLZr",
        "outputId": "efcaed5e-6cb0-48f8-f85e-f5ef92b3f8e0"
      },
      "execution_count": 352,
      "outputs": [
        {
          "output_type": "stream",
          "name": "stdout",
          "text": [
            "1/1 [==============================] - 0s 55ms/step\n"
          ]
        },
        {
          "output_type": "display_data",
          "data": {
            "text/plain": [
              "<Figure size 720x504 with 1 Axes>"
            ],
            "image/png": "[encoded data removed]"
          },
          "metadata": {
            "needs_background": "light"
          }
        }
      ]
    },
    {
      "cell_type": "code",
      "source": [
        "mae_3 = mae(Y_test, Y_pred_3)\n",
        "mse_3 = mse(Y_test, Y_pred_3)\n",
        "mae_3, mse_3"
      ],
      "metadata": {
        "colab": {
          "base_uri": "https://localhost:8080/"
        },
        "id": "tRhJzsO6dLfs",
        "outputId": "bca6c072-4a83-4c71-9c6b-30b3695e9f62"
      },
      "execution_count": 353,
      "outputs": [
        {
          "output_type": "execute_result",
          "data": {
            "text/plain": [
              "(<tf.Tensor: shape=(), dtype=float32, numpy=0.72238314>,\n",
              " <tf.Tensor: shape=(), dtype=float32, numpy=0.53418064>)"
            ]
          },
          "metadata": {},
          "execution_count": 353
        }
      ]
    },
    {
      "cell_type": "code",
      "source": [
        "import pandas as pd\n",
        "\n",
        "model_results =[['model_1', mae_1.numpy(), mse_1.numpy()],\n",
        "               ['model_2', mae_2.numpy(), mse_2.numpy()],\n",
        "               ['model_3', mae_3.numpy(), mse_3.numpy()],\n",
        "               ]\n",
        "\n",
        "all_results = pd.DataFrame(model_results, columns=[\"model\", \"mae\", \"mse\"])\n",
        "all_results"
      ],
      "metadata": {
        "colab": {
          "base_uri": "https://localhost:8080/",
          "height": 143
        },
        "id": "Ele1JZibdLlc",
        "outputId": "ee26d7d8-21f0-4fdc-da20-e7cf6bc64b18"
      },
      "execution_count": 354,
      "outputs": [
        {
          "output_type": "execute_result",
          "data": {
            "text/plain": [
              "     model        mae         mse\n",
              "0  model_1  18.745327  353.573364\n",
              "1  model_2   0.316214    0.103968\n",
              "2  model_3   0.722383    0.534181"
            ],
            "text/html": [
              "\n",
              "  <div id=\"df-e18f79d7-f0e1-42c3-a777-d76a5573c5ba\">\n",
              "    <div class=\"colab-df-container\">\n",
              "      <div>\n",
              "<style scoped>\n",
              "    .dataframe tbody tr th:only-of-type {\n",
              "        vertical-align: middle;\n",
              "    }\n",
              "\n",
              "    .dataframe tbody tr th {\n",
              "        vertical-align: top;\n",
              "    }\n",
              "\n",
              "    .dataframe thead th {\n",
              "        text-align: right;\n",
              "    }\n",
              "</style>\n",
              "<table border=\"1\" class=\"dataframe\">\n",
              "  <thead>\n",
              "    <tr style=\"text-align: right;\">\n",
              "      <th></th>\n",
              "      <th>model</th>\n",
              "      <th>mae</th>\n",
              "      <th>mse</th>\n",
              "    </tr>\n",
              "  </thead>\n",
              "  <tbody>\n",
              "    <tr>\n",
              "      <th>0</th>\n",
              "      <td>model_1</td>\n",
              "      <td>18.745327</td>\n",
              "      <td>353.573364</td>\n",
              "    </tr>\n",
              "    <tr>\n",
              "      <th>1</th>\n",
              "      <td>model_2</td>\n",
              "      <td>0.316214</td>\n",
              "      <td>0.103968</td>\n",
              "    </tr>\n",
              "    <tr>\n",
              "      <th>2</th>\n",
              "      <td>model_3</td>\n",
              "      <td>0.722383</td>\n",
              "      <td>0.534181</td>\n",
              "    </tr>\n",
              "  </tbody>\n",
              "</table>\n",
              "</div>\n",
              "      <button class=\"colab-df-convert\" onclick=\"convertToInteractive('df-e18f79d7-f0e1-42c3-a777-d76a5573c5ba')\"\n",
              "              title=\"Convert this dataframe to an interactive table.\"\n",
              "              style=\"display:none;\">\n",
              "        \n",
              "  <svg xmlns=\"http://www.w3.org/2000/svg\" height=\"24px\"viewBox=\"0 0 24 24\"\n",
              "       width=\"24px\">\n",
              "    <path d=\"M0 0h24v24H0V0z\" fill=\"none\"/>\n",
              "    <path d=\"M18.56 5.44l.94 2.06.94-2.06 2.06-.94-2.06-.94-.94-2.06-.94 2.06-2.06.94zm-11 1L8.5 8.5l.94-2.06 2.06-.94-2.06-.94L8.5 2.5l-.94 2.06-2.06.94zm10 10l.94 2.06.94-2.06 2.06-.94-2.06-.94-.94-2.06-.94 2.06-2.06.94z\"/><path d=\"M17.41 7.96l-1.37-1.37c-.4-.4-.92-.59-1.43-.59-.52 0-1.04.2-1.43.59L10.3 9.45l-7.72 7.72c-.78.78-.78 2.05 0 2.83L4 21.41c.39.39.9.59 1.41.59.51 0 1.02-.2 1.41-.59l7.78-7.78 2.81-2.81c.8-.78.8-2.07 0-2.86zM5.41 20L4 18.59l7.72-7.72 1.47 1.35L5.41 20z\"/>\n",
              "  </svg>\n",
              "      </button>\n",
              "      \n",
              "  <style>\n",
              "    .colab-df-container {\n",
              "      display:flex;\n",
              "      flex-wrap:wrap;\n",
              "      gap: 12px;\n",
              "    }\n",
              "\n",
              "    .colab-df-convert {\n",
              "      background-color: #E8F0FE;\n",
              "      border: none;\n",
              "      border-radius: 50%;\n",
              "      cursor: pointer;\n",
              "      display: none;\n",
              "      fill: #1967D2;\n",
              "      height: 32px;\n",
              "      padding: 0 0 0 0;\n",
              "      width: 32px;\n",
              "    }\n",
              "\n",
              "    .colab-df-convert:hover {\n",
              "      background-color: #E2EBFA;\n",
              "      box-shadow: 0px 1px 2px rgba(60, 64, 67, 0.3), 0px 1px 3px 1px rgba(60, 64, 67, 0.15);\n",
              "      fill: #174EA6;\n",
              "    }\n",
              "\n",
              "    [theme=dark] .colab-df-convert {\n",
              "      background-color: #3B4455;\n",
              "      fill: #D2E3FC;\n",
              "    }\n",
              "\n",
              "    [theme=dark] .colab-df-convert:hover {\n",
              "      background-color: #434B5C;\n",
              "      box-shadow: 0px 1px 3px 1px rgba(0, 0, 0, 0.15);\n",
              "      filter: drop-shadow(0px 1px 2px rgba(0, 0, 0, 0.3));\n",
              "      fill: #FFFFFF;\n",
              "    }\n",
              "  </style>\n",
              "\n",
              "      <script>\n",
              "        const buttonEl =\n",
              "          document.querySelector('#df-e18f79d7-f0e1-42c3-a777-d76a5573c5ba button.colab-df-convert');\n",
              "        buttonEl.style.display =\n",
              "          google.colab.kernel.accessAllowed ? 'block' : 'none';\n",
              "\n",
              "        async function convertToInteractive(key) {\n",
              "          const element = document.querySelector('#df-e18f79d7-f0e1-42c3-a777-d76a5573c5ba');\n",
              "          const dataTable =\n",
              "            await google.colab.kernel.invokeFunction('convertToInteractive',\n",
              "                                                     [key], {});\n",
              "          if (!dataTable) return;\n",
              "\n",
              "          const docLinkHtml = 'Like what you see? Visit the ' +\n",
              "            '<a target=\"_blank\" href=https://colab.research.google.com/notebooks/data_table.ipynb>data table notebook</a>'\n",
              "            + ' to learn more about interactive tables.';\n",
              "          element.innerHTML = '';\n",
              "          dataTable['output_type'] = 'display_data';\n",
              "          await google.colab.output.renderOutput(dataTable, element);\n",
              "          const docLink = document.createElement('div');\n",
              "          docLink.innerHTML = docLinkHtml;\n",
              "          element.appendChild(docLink);\n",
              "        }\n",
              "      </script>\n",
              "    </div>\n",
              "  </div>\n",
              "  "
            ]
          },
          "metadata": {},
          "execution_count": 354
        }
      ]
    },
    {
      "cell_type": "code",
      "source": [
        "model_3.summary()"
      ],
      "metadata": {
        "colab": {
          "base_uri": "https://localhost:8080/"
        },
        "id": "BwFFeJ8sr1m5",
        "outputId": "7db4e75f-eef9-4127-eb1d-d6a56dfa64e3"
      },
      "execution_count": 355,
      "outputs": [
        {
          "output_type": "stream",
          "name": "stdout",
          "text": [
            "Model: \"sequential_77\"\n",
            "_________________________________________________________________\n",
            " Layer (type)                Output Shape              Param #   \n",
            "=================================================================\n",
            " dense_172 (Dense)           (None, 100)               200       \n",
            "                                                                 \n",
            " dense_173 (Dense)           (None, 1)                 101       \n",
            "                                                                 \n",
            "=================================================================\n",
            "Total params: 301\n",
            "Trainable params: 301\n",
            "Non-trainable params: 0\n",
            "_________________________________________________________________\n"
          ]
        }
      ]
    },
    {
      "cell_type": "markdown",
      "source": [
        "## Saving models"
      ],
      "metadata": {
        "id": "vu1coFHytPJC"
      }
    },
    {
      "cell_type": "code",
      "source": [
        "# Save model using the SavedModel format\n",
        "model_3.save('best_model_SavedModel_format')"
      ],
      "metadata": {
        "id": "Gjh_90WIr1zQ"
      },
      "execution_count": 356,
      "outputs": []
    },
    {
      "cell_type": "code",
      "source": [
        "# Save model using the HDF5 format\n",
        "model_3.save('best_model_HDF5_format.h5')"
      ],
      "metadata": {
        "id": "TJXEWvnar14s"
      },
      "execution_count": 357,
      "outputs": []
    },
    {
      "cell_type": "markdown",
      "source": [
        "## Load the modal\n"
      ],
      "metadata": {
        "id": "mYD9-yEVvS7u"
      }
    },
    {
      "cell_type": "code",
      "source": [
        "loaded_SavedModel_format = tf.keras.models.load_model('best_model_SavedModel_format')\n",
        "loaded_SavedModel_format.summary()"
      ],
      "metadata": {
        "colab": {
          "base_uri": "https://localhost:8080/"
        },
        "id": "noa_MEX4dLrJ",
        "outputId": "9e0194de-8099-4298-c7be-606420752885"
      },
      "execution_count": 358,
      "outputs": [
        {
          "output_type": "stream",
          "name": "stdout",
          "text": [
            "Model: \"sequential_77\"\n",
            "_________________________________________________________________\n",
            " Layer (type)                Output Shape              Param #   \n",
            "=================================================================\n",
            " dense_172 (Dense)           (None, 100)               200       \n",
            "                                                                 \n",
            " dense_173 (Dense)           (None, 1)                 101       \n",
            "                                                                 \n",
            "=================================================================\n",
            "Total params: 301\n",
            "Trainable params: 301\n",
            "Non-trainable params: 0\n",
            "_________________________________________________________________\n"
          ]
        }
      ]
    },
    {
      "cell_type": "code",
      "source": [
        "# Compare model_3 predictions with saved model prodections\n",
        "model_3_preds = model_3.predict(X_test)\n",
        "loaded_SavedModel_format_preds = loaded_SavedModel_format.predict(X_test)\n",
        "model_3_preds == loaded_SavedModel_format_preds"
      ],
      "metadata": {
        "id": "1EF2Mhabw6qM",
        "colab": {
          "base_uri": "https://localhost:8080/"
        },
        "outputId": "d9cf6724-24b1-4caa-e520-57ed9494a62b"
      },
      "execution_count": 359,
      "outputs": [
        {
          "output_type": "stream",
          "name": "stdout",
          "text": [
            "1/1 [==============================] - 0s 17ms/step\n",
            "1/1 [==============================] - 0s 38ms/step\n"
          ]
        },
        {
          "output_type": "execute_result",
          "data": {
            "text/plain": [
              "array([[ True],\n",
              "       [ True],\n",
              "       [ True],\n",
              "       [ True],\n",
              "       [ True],\n",
              "       [ True],\n",
              "       [ True],\n",
              "       [ True],\n",
              "       [ True],\n",
              "       [ True]])"
            ]
          },
          "metadata": {},
          "execution_count": 359
        }
      ]
    },
    {
      "cell_type": "code",
      "source": [
        "loaded_h5_format = tf.keras.models.load_model('best_model_HDF5_format.h5')\n",
        "loaded_h5_format.summary()"
      ],
      "metadata": {
        "id": "kub9GYT9w6vm",
        "colab": {
          "base_uri": "https://localhost:8080/"
        },
        "outputId": "987c4bd2-d777-49c9-db01-85250157581e"
      },
      "execution_count": 360,
      "outputs": [
        {
          "output_type": "stream",
          "name": "stdout",
          "text": [
            "Model: \"sequential_77\"\n",
            "_________________________________________________________________\n",
            " Layer (type)                Output Shape              Param #   \n",
            "=================================================================\n",
            " dense_172 (Dense)           (None, 100)               200       \n",
            "                                                                 \n",
            " dense_173 (Dense)           (None, 1)                 101       \n",
            "                                                                 \n",
            "=================================================================\n",
            "Total params: 301\n",
            "Trainable params: 301\n",
            "Non-trainable params: 0\n",
            "_________________________________________________________________\n"
          ]
        }
      ]
    },
    {
      "cell_type": "code",
      "source": [
        "# Compare model_3 predictions with saved model format h5 prodections\n",
        "model_3_preds = model_3.predict(X_test)\n",
        "loaded_h5_format_preds = loaded_h5_format.predict(X_test)\n",
        "model_3_preds == loaded_h5_format_preds"
      ],
      "metadata": {
        "colab": {
          "base_uri": "https://localhost:8080/"
        },
        "id": "4Dv9v_GFwLb7",
        "outputId": "58962919-0460-4510-ca38-eb11833e304e"
      },
      "execution_count": 361,
      "outputs": [
        {
          "output_type": "stream",
          "name": "stdout",
          "text": [
            "1/1 [==============================] - 0s 16ms/step\n",
            "1/1 [==============================] - 0s 45ms/step\n"
          ]
        },
        {
          "output_type": "execute_result",
          "data": {
            "text/plain": [
              "array([[ True],\n",
              "       [ True],\n",
              "       [ True],\n",
              "       [ True],\n",
              "       [ True],\n",
              "       [ True],\n",
              "       [ True],\n",
              "       [ True],\n",
              "       [ True],\n",
              "       [ True]])"
            ]
          },
          "metadata": {},
          "execution_count": 361
        }
      ]
    },
    {
      "cell_type": "markdown",
      "source": [
        "## Download files\n"
      ],
      "metadata": {
        "id": "0HbOkrlrxXrv"
      }
    },
    {
      "cell_type": "code",
      "source": [
        "from google.colab import files\n",
        "files.download('best_model_HDF5_format.h5')"
      ],
      "metadata": {
        "colab": {
          "base_uri": "https://localhost:8080/",
          "height": 34
        },
        "id": "7kbMmuMswLjz",
        "outputId": "8c52b8f3-a591-4cc8-9b0a-00ec6a87044a"
      },
      "execution_count": 362,
      "outputs": [
        {
          "output_type": "display_data",
          "data": {
            "text/plain": [
              "<IPython.core.display.Javascript object>"
            ],
            "application/javascript": [
              "\n",
              "    async function download(id, filename, size) {\n",
              "      if (!google.colab.kernel.accessAllowed) {\n",
              "        return;\n",
              "      }\n",
              "      const div = document.createElement('div');\n",
              "      const label = document.createElement('label');\n",
              "      label.textContent = `Downloading \"${filename}\": `;\n",
              "      div.appendChild(label);\n",
              "      const progress = document.createElement('progress');\n",
              "      progress.max = size;\n",
              "      div.appendChild(progress);\n",
              "      document.body.appendChild(div);\n",
              "\n",
              "      const buffers = [];\n",
              "      let downloaded = 0;\n",
              "\n",
              "      const channel = await google.colab.kernel.comms.open(id);\n",
              "      // Send a message to notify the kernel that we're ready.\n",
              "      channel.send({})\n",
              "\n",
              "      for await (const message of channel.messages) {\n",
              "        // Send a message to notify the kernel that we're ready.\n",
              "        channel.send({})\n",
              "        if (message.buffers) {\n",
              "          for (const buffer of message.buffers) {\n",
              "            buffers.push(buffer);\n",
              "            downloaded += buffer.byteLength;\n",
              "            progress.value = downloaded;\n",
              "          }\n",
              "        }\n",
              "      }\n",
              "      const blob = new Blob(buffers, {type: 'application/binary'});\n",
              "      const a = document.createElement('a');\n",
              "      a.href = window.URL.createObjectURL(blob);\n",
              "      a.download = filename;\n",
              "      div.appendChild(a);\n",
              "      a.click();\n",
              "      div.remove();\n",
              "    }\n",
              "  "
            ]
          },
          "metadata": {}
        },
        {
          "output_type": "display_data",
          "data": {
            "text/plain": [
              "<IPython.core.display.Javascript object>"
            ],
            "application/javascript": [
              "download(\"download_7c13e1f6-e367-4876-a102-1f842755ede3\", \"best_model_HDF5_format.h5\", 28416)"
            ]
          },
          "metadata": {}
        }
      ]
    },
    {
      "cell_type": "code",
      "source": [
        "# Save a file from Google Collab to Google Dirve \n",
        "!cp /content/best_model_HDF5_format.h5 /content/drive/MyDrive"
      ],
      "metadata": {
        "id": "TmLqm3AJwLp9"
      },
      "execution_count": 363,
      "outputs": []
    },
    {
      "cell_type": "code",
      "source": [
        "!ls /content/drive/MyDrive"
      ],
      "metadata": {
        "colab": {
          "base_uri": "https://localhost:8080/"
        },
        "id": "U8tSlB7vwLv3",
        "outputId": "149f7a95-16aa-4ef3-9b9b-313efd6efe69"
      },
      "execution_count": 364,
      "outputs": [
        {
          "output_type": "stream",
          "name": "stdout",
          "text": [
            " best_model_HDF5_format.h5   livetest5.png   output16.png   output4.png\n",
            "'Colab Notebooks'\t     livetest6.png   output17.png   output5.avi\n",
            " Fire\t\t\t     livetest.png    output2.avi    output6.avi\n",
            " livetest1.png\t\t     Non-Fire\t     output2.png    output9.png\n",
            " livetest2.png\t\t     output11.png    output3.avi    output.avi\n",
            " livetest3.png\t\t     output13.png    output3.png    output.png\n",
            " livetest4.png\t\t     output15.png    output4.avi\n"
          ]
        }
      ]
    },
    {
      "cell_type": "markdown",
      "source": [
        "## A larger example"
      ],
      "metadata": {
        "id": "a4F0v1YVzZ19"
      }
    },
    {
      "cell_type": "code",
      "source": [
        "# Import the required libraries\n",
        "import tensorflow as tf\n",
        "import pandas as pd\n",
        "import matplotlib.pyplot as plt"
      ],
      "metadata": {
        "id": "pGXfUy_ywL1f"
      },
      "execution_count": 365,
      "outputs": []
    },
    {
      "cell_type": "code",
      "source": [
        "insurance = pd.read_csv('https://raw.githubusercontent.com/stedy/Machine-Learning-with-R-datasets/master/insurance.csv')\n",
        "insurance"
      ],
      "metadata": {
        "colab": {
          "base_uri": "https://localhost:8080/",
          "height": 424
        },
        "id": "5HoPT3vKzYlz",
        "outputId": "1ea086b3-1d28-4247-82a9-547960c88f39"
      },
      "execution_count": 366,
      "outputs": [
        {
          "output_type": "execute_result",
          "data": {
            "text/plain": [
              "      age     sex     bmi  children smoker     region      charges\n",
              "0      19  female  27.900         0    yes  southwest  16884.92400\n",
              "1      18    male  33.770         1     no  southeast   1725.55230\n",
              "2      28    male  33.000         3     no  southeast   4449.46200\n",
              "3      33    male  22.705         0     no  northwest  21984.47061\n",
              "4      32    male  28.880         0     no  northwest   3866.85520\n",
              "...   ...     ...     ...       ...    ...        ...          ...\n",
              "1333   50    male  30.970         3     no  northwest  10600.54830\n",
              "1334   18  female  31.920         0     no  northeast   2205.98080\n",
              "1335   18  female  36.850         0     no  southeast   1629.83350\n",
              "1336   21  female  25.800         0     no  southwest   2007.94500\n",
              "1337   61  female  29.070         0    yes  northwest  29141.36030\n",
              "\n",
              "[1338 rows x 7 columns]"
            ],
            "text/html": [
              "\n",
              "  <div id=\"df-065c28e3-f43d-496c-a32b-dceac79d1b83\">\n",
              "    <div class=\"colab-df-container\">\n",
              "      <div>\n",
              "<style scoped>\n",
              "    .dataframe tbody tr th:only-of-type {\n",
              "        vertical-align: middle;\n",
              "    }\n",
              "\n",
              "    .dataframe tbody tr th {\n",
              "        vertical-align: top;\n",
              "    }\n",
              "\n",
              "    .dataframe thead th {\n",
              "        text-align: right;\n",
              "    }\n",
              "</style>\n",
              "<table border=\"1\" class=\"dataframe\">\n",
              "  <thead>\n",
              "    <tr style=\"text-align: right;\">\n",
              "      <th></th>\n",
              "      <th>age</th>\n",
              "      <th>sex</th>\n",
              "      <th>bmi</th>\n",
              "      <th>children</th>\n",
              "      <th>smoker</th>\n",
              "      <th>region</th>\n",
              "      <th>charges</th>\n",
              "    </tr>\n",
              "  </thead>\n",
              "  <tbody>\n",
              "    <tr>\n",
              "      <th>0</th>\n",
              "      <td>19</td>\n",
              "      <td>female</td>\n",
              "      <td>27.900</td>\n",
              "      <td>0</td>\n",
              "      <td>yes</td>\n",
              "      <td>southwest</td>\n",
              "      <td>16884.92400</td>\n",
              "    </tr>\n",
              "    <tr>\n",
              "      <th>1</th>\n",
              "      <td>18</td>\n",
              "      <td>male</td>\n",
              "      <td>33.770</td>\n",
              "      <td>1</td>\n",
              "      <td>no</td>\n",
              "      <td>southeast</td>\n",
              "      <td>1725.55230</td>\n",
              "    </tr>\n",
              "    <tr>\n",
              "      <th>2</th>\n",
              "      <td>28</td>\n",
              "      <td>male</td>\n",
              "      <td>33.000</td>\n",
              "      <td>3</td>\n",
              "      <td>no</td>\n",
              "      <td>southeast</td>\n",
              "      <td>4449.46200</td>\n",
              "    </tr>\n",
              "    <tr>\n",
              "      <th>3</th>\n",
              "      <td>33</td>\n",
              "      <td>male</td>\n",
              "      <td>22.705</td>\n",
              "      <td>0</td>\n",
              "      <td>no</td>\n",
              "      <td>northwest</td>\n",
              "      <td>21984.47061</td>\n",
              "    </tr>\n",
              "    <tr>\n",
              "      <th>4</th>\n",
              "      <td>32</td>\n",
              "      <td>male</td>\n",
              "      <td>28.880</td>\n",
              "      <td>0</td>\n",
              "      <td>no</td>\n",
              "      <td>northwest</td>\n",
              "      <td>3866.85520</td>\n",
              "    </tr>\n",
              "    <tr>\n",
              "      <th>...</th>\n",
              "      <td>...</td>\n",
              "      <td>...</td>\n",
              "      <td>...</td>\n",
              "      <td>...</td>\n",
              "      <td>...</td>\n",
              "      <td>...</td>\n",
              "      <td>...</td>\n",
              "    </tr>\n",
              "    <tr>\n",
              "      <th>1333</th>\n",
              "      <td>50</td>\n",
              "      <td>male</td>\n",
              "      <td>30.970</td>\n",
              "      <td>3</td>\n",
              "      <td>no</td>\n",
              "      <td>northwest</td>\n",
              "      <td>10600.54830</td>\n",
              "    </tr>\n",
              "    <tr>\n",
              "      <th>1334</th>\n",
              "      <td>18</td>\n",
              "      <td>female</td>\n",
              "      <td>31.920</td>\n",
              "      <td>0</td>\n",
              "      <td>no</td>\n",
              "      <td>northeast</td>\n",
              "      <td>2205.98080</td>\n",
              "    </tr>\n",
              "    <tr>\n",
              "      <th>1335</th>\n",
              "      <td>18</td>\n",
              "      <td>female</td>\n",
              "      <td>36.850</td>\n",
              "      <td>0</td>\n",
              "      <td>no</td>\n",
              "      <td>southeast</td>\n",
              "      <td>1629.83350</td>\n",
              "    </tr>\n",
              "    <tr>\n",
              "      <th>1336</th>\n",
              "      <td>21</td>\n",
              "      <td>female</td>\n",
              "      <td>25.800</td>\n",
              "      <td>0</td>\n",
              "      <td>no</td>\n",
              "      <td>southwest</td>\n",
              "      <td>2007.94500</td>\n",
              "    </tr>\n",
              "    <tr>\n",
              "      <th>1337</th>\n",
              "      <td>61</td>\n",
              "      <td>female</td>\n",
              "      <td>29.070</td>\n",
              "      <td>0</td>\n",
              "      <td>yes</td>\n",
              "      <td>northwest</td>\n",
              "      <td>29141.36030</td>\n",
              "    </tr>\n",
              "  </tbody>\n",
              "</table>\n",
              "<p>1338 rows × 7 columns</p>\n",
              "</div>\n",
              "      <button class=\"colab-df-convert\" onclick=\"convertToInteractive('df-065c28e3-f43d-496c-a32b-dceac79d1b83')\"\n",
              "              title=\"Convert this dataframe to an interactive table.\"\n",
              "              style=\"display:none;\">\n",
              "        \n",
              "  <svg xmlns=\"http://www.w3.org/2000/svg\" height=\"24px\"viewBox=\"0 0 24 24\"\n",
              "       width=\"24px\">\n",
              "    <path d=\"M0 0h24v24H0V0z\" fill=\"none\"/>\n",
              "    <path d=\"M18.56 5.44l.94 2.06.94-2.06 2.06-.94-2.06-.94-.94-2.06-.94 2.06-2.06.94zm-11 1L8.5 8.5l.94-2.06 2.06-.94-2.06-.94L8.5 2.5l-.94 2.06-2.06.94zm10 10l.94 2.06.94-2.06 2.06-.94-2.06-.94-.94-2.06-.94 2.06-2.06.94z\"/><path d=\"M17.41 7.96l-1.37-1.37c-.4-.4-.92-.59-1.43-.59-.52 0-1.04.2-1.43.59L10.3 9.45l-7.72 7.72c-.78.78-.78 2.05 0 2.83L4 21.41c.39.39.9.59 1.41.59.51 0 1.02-.2 1.41-.59l7.78-7.78 2.81-2.81c.8-.78.8-2.07 0-2.86zM5.41 20L4 18.59l7.72-7.72 1.47 1.35L5.41 20z\"/>\n",
              "  </svg>\n",
              "      </button>\n",
              "      \n",
              "  <style>\n",
              "    .colab-df-container {\n",
              "      display:flex;\n",
              "      flex-wrap:wrap;\n",
              "      gap: 12px;\n",
              "    }\n",
              "\n",
              "    .colab-df-convert {\n",
              "      background-color: #E8F0FE;\n",
              "      border: none;\n",
              "      border-radius: 50%;\n",
              "      cursor: pointer;\n",
              "      display: none;\n",
              "      fill: #1967D2;\n",
              "      height: 32px;\n",
              "      padding: 0 0 0 0;\n",
              "      width: 32px;\n",
              "    }\n",
              "\n",
              "    .colab-df-convert:hover {\n",
              "      background-color: #E2EBFA;\n",
              "      box-shadow: 0px 1px 2px rgba(60, 64, 67, 0.3), 0px 1px 3px 1px rgba(60, 64, 67, 0.15);\n",
              "      fill: #174EA6;\n",
              "    }\n",
              "\n",
              "    [theme=dark] .colab-df-convert {\n",
              "      background-color: #3B4455;\n",
              "      fill: #D2E3FC;\n",
              "    }\n",
              "\n",
              "    [theme=dark] .colab-df-convert:hover {\n",
              "      background-color: #434B5C;\n",
              "      box-shadow: 0px 1px 3px 1px rgba(0, 0, 0, 0.15);\n",
              "      filter: drop-shadow(0px 1px 2px rgba(0, 0, 0, 0.3));\n",
              "      fill: #FFFFFF;\n",
              "    }\n",
              "  </style>\n",
              "\n",
              "      <script>\n",
              "        const buttonEl =\n",
              "          document.querySelector('#df-065c28e3-f43d-496c-a32b-dceac79d1b83 button.colab-df-convert');\n",
              "        buttonEl.style.display =\n",
              "          google.colab.kernel.accessAllowed ? 'block' : 'none';\n",
              "\n",
              "        async function convertToInteractive(key) {\n",
              "          const element = document.querySelector('#df-065c28e3-f43d-496c-a32b-dceac79d1b83');\n",
              "          const dataTable =\n",
              "            await google.colab.kernel.invokeFunction('convertToInteractive',\n",
              "                                                     [key], {});\n",
              "          if (!dataTable) return;\n",
              "\n",
              "          const docLinkHtml = 'Like what you see? Visit the ' +\n",
              "            '<a target=\"_blank\" href=https://colab.research.google.com/notebooks/data_table.ipynb>data table notebook</a>'\n",
              "            + ' to learn more about interactive tables.';\n",
              "          element.innerHTML = '';\n",
              "          dataTable['output_type'] = 'display_data';\n",
              "          await google.colab.output.renderOutput(dataTable, element);\n",
              "          const docLink = document.createElement('div');\n",
              "          docLink.innerHTML = docLinkHtml;\n",
              "          element.appendChild(docLink);\n",
              "        }\n",
              "      </script>\n",
              "    </div>\n",
              "  </div>\n",
              "  "
            ]
          },
          "metadata": {},
          "execution_count": 366
        }
      ]
    },
    {
      "cell_type": "markdown",
      "source": [
        "## One hot encoding\n"
      ],
      "metadata": {
        "id": "e973WMTI2fqt"
      }
    },
    {
      "cell_type": "code",
      "source": [
        "insurance_one_hot = pd.get_dummies(insurance)\n",
        "insurance_one_hot.head()"
      ],
      "metadata": {
        "colab": {
          "base_uri": "https://localhost:8080/",
          "height": 206
        },
        "id": "xpEh6gMjzYsW",
        "outputId": "0ddf5f91-5573-4f06-f940-7eeae89aff4d"
      },
      "execution_count": 367,
      "outputs": [
        {
          "output_type": "execute_result",
          "data": {
            "text/plain": [
              "   age     bmi  children      charges  sex_female  sex_male  smoker_no  \\\n",
              "0   19  27.900         0  16884.92400           1         0          0   \n",
              "1   18  33.770         1   1725.55230           0         1          1   \n",
              "2   28  33.000         3   4449.46200           0         1          1   \n",
              "3   33  22.705         0  21984.47061           0         1          1   \n",
              "4   32  28.880         0   3866.85520           0         1          1   \n",
              "\n",
              "   smoker_yes  region_northeast  region_northwest  region_southeast  \\\n",
              "0           1                 0                 0                 0   \n",
              "1           0                 0                 0                 1   \n",
              "2           0                 0                 0                 1   \n",
              "3           0                 0                 1                 0   \n",
              "4           0                 0                 1                 0   \n",
              "\n",
              "   region_southwest  \n",
              "0                 1  \n",
              "1                 0  \n",
              "2                 0  \n",
              "3                 0  \n",
              "4                 0  "
            ],
            "text/html": [
              "\n",
              "  <div id=\"df-cf099117-4fc0-4bf8-bcf0-4269fa0dde09\">\n",
              "    <div class=\"colab-df-container\">\n",
              "      <div>\n",
              "<style scoped>\n",
              "    .dataframe tbody tr th:only-of-type {\n",
              "        vertical-align: middle;\n",
              "    }\n",
              "\n",
              "    .dataframe tbody tr th {\n",
              "        vertical-align: top;\n",
              "    }\n",
              "\n",
              "    .dataframe thead th {\n",
              "        text-align: right;\n",
              "    }\n",
              "</style>\n",
              "<table border=\"1\" class=\"dataframe\">\n",
              "  <thead>\n",
              "    <tr style=\"text-align: right;\">\n",
              "      <th></th>\n",
              "      <th>age</th>\n",
              "      <th>bmi</th>\n",
              "      <th>children</th>\n",
              "      <th>charges</th>\n",
              "      <th>sex_female</th>\n",
              "      <th>sex_male</th>\n",
              "      <th>smoker_no</th>\n",
              "      <th>smoker_yes</th>\n",
              "      <th>region_northeast</th>\n",
              "      <th>region_northwest</th>\n",
              "      <th>region_southeast</th>\n",
              "      <th>region_southwest</th>\n",
              "    </tr>\n",
              "  </thead>\n",
              "  <tbody>\n",
              "    <tr>\n",
              "      <th>0</th>\n",
              "      <td>19</td>\n",
              "      <td>27.900</td>\n",
              "      <td>0</td>\n",
              "      <td>16884.92400</td>\n",
              "      <td>1</td>\n",
              "      <td>0</td>\n",
              "      <td>0</td>\n",
              "      <td>1</td>\n",
              "      <td>0</td>\n",
              "      <td>0</td>\n",
              "      <td>0</td>\n",
              "      <td>1</td>\n",
              "    </tr>\n",
              "    <tr>\n",
              "      <th>1</th>\n",
              "      <td>18</td>\n",
              "      <td>33.770</td>\n",
              "      <td>1</td>\n",
              "      <td>1725.55230</td>\n",
              "      <td>0</td>\n",
              "      <td>1</td>\n",
              "      <td>1</td>\n",
              "      <td>0</td>\n",
              "      <td>0</td>\n",
              "      <td>0</td>\n",
              "      <td>1</td>\n",
              "      <td>0</td>\n",
              "    </tr>\n",
              "    <tr>\n",
              "      <th>2</th>\n",
              "      <td>28</td>\n",
              "      <td>33.000</td>\n",
              "      <td>3</td>\n",
              "      <td>4449.46200</td>\n",
              "      <td>0</td>\n",
              "      <td>1</td>\n",
              "      <td>1</td>\n",
              "      <td>0</td>\n",
              "      <td>0</td>\n",
              "      <td>0</td>\n",
              "      <td>1</td>\n",
              "      <td>0</td>\n",
              "    </tr>\n",
              "    <tr>\n",
              "      <th>3</th>\n",
              "      <td>33</td>\n",
              "      <td>22.705</td>\n",
              "      <td>0</td>\n",
              "      <td>21984.47061</td>\n",
              "      <td>0</td>\n",
              "      <td>1</td>\n",
              "      <td>1</td>\n",
              "      <td>0</td>\n",
              "      <td>0</td>\n",
              "      <td>1</td>\n",
              "      <td>0</td>\n",
              "      <td>0</td>\n",
              "    </tr>\n",
              "    <tr>\n",
              "      <th>4</th>\n",
              "      <td>32</td>\n",
              "      <td>28.880</td>\n",
              "      <td>0</td>\n",
              "      <td>3866.85520</td>\n",
              "      <td>0</td>\n",
              "      <td>1</td>\n",
              "      <td>1</td>\n",
              "      <td>0</td>\n",
              "      <td>0</td>\n",
              "      <td>1</td>\n",
              "      <td>0</td>\n",
              "      <td>0</td>\n",
              "    </tr>\n",
              "  </tbody>\n",
              "</table>\n",
              "</div>\n",
              "      <button class=\"colab-df-convert\" onclick=\"convertToInteractive('df-cf099117-4fc0-4bf8-bcf0-4269fa0dde09')\"\n",
              "              title=\"Convert this dataframe to an interactive table.\"\n",
              "              style=\"display:none;\">\n",
              "        \n",
              "  <svg xmlns=\"http://www.w3.org/2000/svg\" height=\"24px\"viewBox=\"0 0 24 24\"\n",
              "       width=\"24px\">\n",
              "    <path d=\"M0 0h24v24H0V0z\" fill=\"none\"/>\n",
              "    <path d=\"M18.56 5.44l.94 2.06.94-2.06 2.06-.94-2.06-.94-.94-2.06-.94 2.06-2.06.94zm-11 1L8.5 8.5l.94-2.06 2.06-.94-2.06-.94L8.5 2.5l-.94 2.06-2.06.94zm10 10l.94 2.06.94-2.06 2.06-.94-2.06-.94-.94-2.06-.94 2.06-2.06.94z\"/><path d=\"M17.41 7.96l-1.37-1.37c-.4-.4-.92-.59-1.43-.59-.52 0-1.04.2-1.43.59L10.3 9.45l-7.72 7.72c-.78.78-.78 2.05 0 2.83L4 21.41c.39.39.9.59 1.41.59.51 0 1.02-.2 1.41-.59l7.78-7.78 2.81-2.81c.8-.78.8-2.07 0-2.86zM5.41 20L4 18.59l7.72-7.72 1.47 1.35L5.41 20z\"/>\n",
              "  </svg>\n",
              "      </button>\n",
              "      \n",
              "  <style>\n",
              "    .colab-df-container {\n",
              "      display:flex;\n",
              "      flex-wrap:wrap;\n",
              "      gap: 12px;\n",
              "    }\n",
              "\n",
              "    .colab-df-convert {\n",
              "      background-color: #E8F0FE;\n",
              "      border: none;\n",
              "      border-radius: 50%;\n",
              "      cursor: pointer;\n",
              "      display: none;\n",
              "      fill: #1967D2;\n",
              "      height: 32px;\n",
              "      padding: 0 0 0 0;\n",
              "      width: 32px;\n",
              "    }\n",
              "\n",
              "    .colab-df-convert:hover {\n",
              "      background-color: #E2EBFA;\n",
              "      box-shadow: 0px 1px 2px rgba(60, 64, 67, 0.3), 0px 1px 3px 1px rgba(60, 64, 67, 0.15);\n",
              "      fill: #174EA6;\n",
              "    }\n",
              "\n",
              "    [theme=dark] .colab-df-convert {\n",
              "      background-color: #3B4455;\n",
              "      fill: #D2E3FC;\n",
              "    }\n",
              "\n",
              "    [theme=dark] .colab-df-convert:hover {\n",
              "      background-color: #434B5C;\n",
              "      box-shadow: 0px 1px 3px 1px rgba(0, 0, 0, 0.15);\n",
              "      filter: drop-shadow(0px 1px 2px rgba(0, 0, 0, 0.3));\n",
              "      fill: #FFFFFF;\n",
              "    }\n",
              "  </style>\n",
              "\n",
              "      <script>\n",
              "        const buttonEl =\n",
              "          document.querySelector('#df-cf099117-4fc0-4bf8-bcf0-4269fa0dde09 button.colab-df-convert');\n",
              "        buttonEl.style.display =\n",
              "          google.colab.kernel.accessAllowed ? 'block' : 'none';\n",
              "\n",
              "        async function convertToInteractive(key) {\n",
              "          const element = document.querySelector('#df-cf099117-4fc0-4bf8-bcf0-4269fa0dde09');\n",
              "          const dataTable =\n",
              "            await google.colab.kernel.invokeFunction('convertToInteractive',\n",
              "                                                     [key], {});\n",
              "          if (!dataTable) return;\n",
              "\n",
              "          const docLinkHtml = 'Like what you see? Visit the ' +\n",
              "            '<a target=\"_blank\" href=https://colab.research.google.com/notebooks/data_table.ipynb>data table notebook</a>'\n",
              "            + ' to learn more about interactive tables.';\n",
              "          element.innerHTML = '';\n",
              "          dataTable['output_type'] = 'display_data';\n",
              "          await google.colab.output.renderOutput(dataTable, element);\n",
              "          const docLink = document.createElement('div');\n",
              "          docLink.innerHTML = docLinkHtml;\n",
              "          element.appendChild(docLink);\n",
              "        }\n",
              "      </script>\n",
              "    </div>\n",
              "  </div>\n",
              "  "
            ]
          },
          "metadata": {},
          "execution_count": 367
        }
      ]
    },
    {
      "cell_type": "code",
      "source": [
        "X = insurance_one_hot.drop('charges', axis=1)\n",
        "Y = insurance_one_hot['charges']"
      ],
      "metadata": {
        "id": "j8vmW-ay1cJx"
      },
      "execution_count": 368,
      "outputs": []
    },
    {
      "cell_type": "code",
      "source": [
        "Y.head()"
      ],
      "metadata": {
        "colab": {
          "base_uri": "https://localhost:8080/"
        },
        "id": "wiFYLXI51cQV",
        "outputId": "0c50520a-e1d6-46a2-90f2-207f0c9501d6"
      },
      "execution_count": 369,
      "outputs": [
        {
          "output_type": "execute_result",
          "data": {
            "text/plain": [
              "0    16884.92400\n",
              "1     1725.55230\n",
              "2     4449.46200\n",
              "3    21984.47061\n",
              "4     3866.85520\n",
              "Name: charges, dtype: float64"
            ]
          },
          "metadata": {},
          "execution_count": 369
        }
      ]
    },
    {
      "cell_type": "code",
      "source": [
        "from sklearn.model_selection import train_test_split\n",
        "X_train, X_test, Y_train, Y_test = train_test_split(X, Y, test_size=0.2, random_state=42)\n",
        "len(X), len(X_train), len(X_test)"
      ],
      "metadata": {
        "colab": {
          "base_uri": "https://localhost:8080/"
        },
        "id": "c3iig_jz1cXd",
        "outputId": "02efd3f6-b0a2-436c-8927-74e35bb927f3"
      },
      "execution_count": 376,
      "outputs": [
        {
          "output_type": "execute_result",
          "data": {
            "text/plain": [
              "(1338, 1070, 268)"
            ]
          },
          "metadata": {},
          "execution_count": 376
        }
      ]
    },
    {
      "cell_type": "code",
      "source": [
        "## Build the neural network\n",
        "\n",
        "tf.random.set_seed(42)\n",
        "\n",
        "# 1. Create a model\n",
        "insurance_model = tf.keras.Sequential([\n",
        "    tf.keras.layers.Dense(10),\n",
        "    tf.keras.layers.Dense(1)\n",
        "])\n",
        "\n",
        "# 2. Compile the model\n",
        "insurance_model.compile(loss=tf.keras.losses.mae,\n",
        "                        optimizer=tf.keras.optimizers.SGD(),\n",
        "                        metrics=['mae'])\n",
        "\n",
        "# 3. Fit the model\n",
        "insurance_model.fit(X_train, Y_train, epochs=100)"
      ],
      "metadata": {
        "colab": {
          "base_uri": "https://localhost:8080/"
        },
        "id": "ZDPyDWVk1ce0",
        "outputId": "3e87c3bd-a79e-4cb1-8cad-e2b77b4cd59d"
      },
      "execution_count": 377,
      "outputs": [
        {
          "output_type": "stream",
          "name": "stdout",
          "text": [
            "Epoch 1/100\n",
            "34/34 [==============================] - 0s 1ms/step - loss: 8637.0996 - mae: 8637.0996\n",
            "Epoch 2/100\n",
            "34/34 [==============================] - 0s 1ms/step - loss: 7886.7769 - mae: 7886.7769\n",
            "Epoch 3/100\n",
            "34/34 [==============================] - 0s 1ms/step - loss: 7558.1475 - mae: 7558.1475\n",
            "Epoch 4/100\n",
            "34/34 [==============================] - 0s 1ms/step - loss: 7792.0220 - mae: 7792.0220\n",
            "Epoch 5/100\n",
            "34/34 [==============================] - 0s 2ms/step - loss: 7748.3892 - mae: 7748.3892\n",
            "Epoch 6/100\n",
            "34/34 [==============================] - 0s 1ms/step - loss: 7595.3940 - mae: 7595.3940\n",
            "Epoch 7/100\n",
            "34/34 [==============================] - 0s 1ms/step - loss: 7589.9849 - mae: 7589.9849\n",
            "Epoch 8/100\n",
            "34/34 [==============================] - 0s 1ms/step - loss: 7698.5591 - mae: 7698.5591\n",
            "Epoch 9/100\n",
            "34/34 [==============================] - 0s 1ms/step - loss: 7496.7788 - mae: 7496.7788\n",
            "Epoch 10/100\n",
            "34/34 [==============================] - 0s 1ms/step - loss: 7493.1743 - mae: 7493.1743\n",
            "Epoch 11/100\n",
            "34/34 [==============================] - 0s 2ms/step - loss: 7769.7314 - mae: 7769.7314\n",
            "Epoch 12/100\n",
            "34/34 [==============================] - 0s 1ms/step - loss: 7706.9033 - mae: 7706.9033\n",
            "Epoch 13/100\n",
            "34/34 [==============================] - 0s 1ms/step - loss: 7687.7227 - mae: 7687.7227\n",
            "Epoch 14/100\n",
            "34/34 [==============================] - 0s 2ms/step - loss: 7689.8999 - mae: 7689.8999\n",
            "Epoch 15/100\n",
            "34/34 [==============================] - 0s 1ms/step - loss: 7393.5322 - mae: 7393.5322\n",
            "Epoch 16/100\n",
            "34/34 [==============================] - 0s 1ms/step - loss: 7780.6982 - mae: 7780.6982\n",
            "Epoch 17/100\n",
            "34/34 [==============================] - 0s 1ms/step - loss: 7578.5093 - mae: 7578.5093\n",
            "Epoch 18/100\n",
            "34/34 [==============================] - 0s 1ms/step - loss: 7750.8350 - mae: 7750.8350\n",
            "Epoch 19/100\n",
            "34/34 [==============================] - 0s 1ms/step - loss: 7739.2134 - mae: 7739.2134\n",
            "Epoch 20/100\n",
            "34/34 [==============================] - 0s 1ms/step - loss: 7875.0635 - mae: 7875.0635\n",
            "Epoch 21/100\n",
            "34/34 [==============================] - 0s 1ms/step - loss: 7466.6768 - mae: 7466.6768\n",
            "Epoch 22/100\n",
            "34/34 [==============================] - 0s 1ms/step - loss: 7941.2310 - mae: 7941.2310\n",
            "Epoch 23/100\n",
            "34/34 [==============================] - 0s 1ms/step - loss: 7640.2725 - mae: 7640.2725\n",
            "Epoch 24/100\n",
            "34/34 [==============================] - 0s 1ms/step - loss: 7539.2656 - mae: 7539.2656\n",
            "Epoch 25/100\n",
            "34/34 [==============================] - 0s 1ms/step - loss: 7619.9658 - mae: 7619.9658\n",
            "Epoch 26/100\n",
            "34/34 [==============================] - 0s 1ms/step - loss: 7644.1709 - mae: 7644.1709\n",
            "Epoch 27/100\n",
            "34/34 [==============================] - 0s 2ms/step - loss: 7709.0361 - mae: 7709.0361\n",
            "Epoch 28/100\n",
            "34/34 [==============================] - 0s 1ms/step - loss: 7366.8662 - mae: 7366.8662\n",
            "Epoch 29/100\n",
            "34/34 [==============================] - 0s 1ms/step - loss: 7444.3135 - mae: 7444.3135\n",
            "Epoch 30/100\n",
            "34/34 [==============================] - 0s 1ms/step - loss: 7616.4087 - mae: 7616.4087\n",
            "Epoch 31/100\n",
            "34/34 [==============================] - 0s 1ms/step - loss: 7686.3853 - mae: 7686.3853\n",
            "Epoch 32/100\n",
            "34/34 [==============================] - 0s 2ms/step - loss: 7548.0981 - mae: 7548.0981\n",
            "Epoch 33/100\n",
            "34/34 [==============================] - 0s 1ms/step - loss: 7501.5532 - mae: 7501.5532\n",
            "Epoch 34/100\n",
            "34/34 [==============================] - 0s 1ms/step - loss: 7363.4155 - mae: 7363.4155\n",
            "Epoch 35/100\n",
            "34/34 [==============================] - 0s 1ms/step - loss: 7295.4468 - mae: 7295.4468\n",
            "Epoch 36/100\n",
            "34/34 [==============================] - 0s 2ms/step - loss: 7569.8813 - mae: 7569.8813\n",
            "Epoch 37/100\n",
            "34/34 [==============================] - 0s 1ms/step - loss: 7548.2002 - mae: 7548.2002\n",
            "Epoch 38/100\n",
            "34/34 [==============================] - 0s 1ms/step - loss: 7424.3979 - mae: 7424.3979\n",
            "Epoch 39/100\n",
            "34/34 [==============================] - 0s 1ms/step - loss: 7529.7739 - mae: 7529.7739\n",
            "Epoch 40/100\n",
            "34/34 [==============================] - 0s 1ms/step - loss: 7467.3232 - mae: 7467.3232\n",
            "Epoch 41/100\n",
            "34/34 [==============================] - 0s 1ms/step - loss: 7635.9282 - mae: 7635.9282\n",
            "Epoch 42/100\n",
            "34/34 [==============================] - 0s 1ms/step - loss: 7536.8398 - mae: 7536.8398\n",
            "Epoch 43/100\n",
            "34/34 [==============================] - 0s 1ms/step - loss: 7616.5845 - mae: 7616.5845\n",
            "Epoch 44/100\n",
            "34/34 [==============================] - 0s 1ms/step - loss: 7439.4932 - mae: 7439.4932\n",
            "Epoch 45/100\n",
            "34/34 [==============================] - 0s 1ms/step - loss: 7538.0156 - mae: 7538.0156\n",
            "Epoch 46/100\n",
            "34/34 [==============================] - 0s 2ms/step - loss: 7415.1460 - mae: 7415.1460\n",
            "Epoch 47/100\n",
            "34/34 [==============================] - 0s 1ms/step - loss: 7420.6938 - mae: 7420.6938\n",
            "Epoch 48/100\n",
            "34/34 [==============================] - 0s 1ms/step - loss: 7509.9829 - mae: 7509.9829\n",
            "Epoch 49/100\n",
            "34/34 [==============================] - 0s 1ms/step - loss: 7541.1123 - mae: 7541.1123\n",
            "Epoch 50/100\n",
            "34/34 [==============================] - 0s 1ms/step - loss: 7467.8633 - mae: 7467.8633\n",
            "Epoch 51/100\n",
            "34/34 [==============================] - 0s 1ms/step - loss: 7389.3545 - mae: 7389.3545\n",
            "Epoch 52/100\n",
            "34/34 [==============================] - 0s 1ms/step - loss: 7499.7749 - mae: 7499.7749\n",
            "Epoch 53/100\n",
            "34/34 [==============================] - 0s 1ms/step - loss: 7523.9282 - mae: 7523.9282\n",
            "Epoch 54/100\n",
            "34/34 [==============================] - 0s 1ms/step - loss: 7243.3120 - mae: 7243.3120\n",
            "Epoch 55/100\n",
            "34/34 [==============================] - 0s 1ms/step - loss: 7429.5854 - mae: 7429.5854\n",
            "Epoch 56/100\n",
            "34/34 [==============================] - 0s 1ms/step - loss: 7313.4004 - mae: 7313.4004\n",
            "Epoch 57/100\n",
            "34/34 [==============================] - 0s 1ms/step - loss: 7526.3887 - mae: 7526.3887\n",
            "Epoch 58/100\n",
            "34/34 [==============================] - 0s 1ms/step - loss: 7542.2661 - mae: 7542.2661\n",
            "Epoch 59/100\n",
            "34/34 [==============================] - 0s 1ms/step - loss: 7576.9277 - mae: 7576.9277\n",
            "Epoch 60/100\n",
            "34/34 [==============================] - 0s 1ms/step - loss: 7546.4058 - mae: 7546.4058\n",
            "Epoch 61/100\n",
            "34/34 [==============================] - 0s 1ms/step - loss: 7351.2261 - mae: 7351.2261\n",
            "Epoch 62/100\n",
            "34/34 [==============================] - 0s 1ms/step - loss: 7302.1436 - mae: 7302.1436\n",
            "Epoch 63/100\n",
            "34/34 [==============================] - 0s 2ms/step - loss: 7393.0874 - mae: 7393.0874\n",
            "Epoch 64/100\n",
            "34/34 [==============================] - 0s 1ms/step - loss: 7442.2886 - mae: 7442.2886\n",
            "Epoch 65/100\n",
            "34/34 [==============================] - 0s 1ms/step - loss: 7492.6782 - mae: 7492.6782\n",
            "Epoch 66/100\n",
            "34/34 [==============================] - 0s 1ms/step - loss: 7561.9165 - mae: 7561.9165\n",
            "Epoch 67/100\n",
            "34/34 [==============================] - 0s 1ms/step - loss: 7340.5137 - mae: 7340.5137\n",
            "Epoch 68/100\n",
            "34/34 [==============================] - 0s 2ms/step - loss: 7496.0850 - mae: 7496.0850\n",
            "Epoch 69/100\n",
            "34/34 [==============================] - 0s 1ms/step - loss: 7617.0298 - mae: 7617.0298\n",
            "Epoch 70/100\n",
            "34/34 [==============================] - 0s 1ms/step - loss: 7641.1958 - mae: 7641.1958\n",
            "Epoch 71/100\n",
            "34/34 [==============================] - 0s 1ms/step - loss: 7084.2744 - mae: 7084.2744\n",
            "Epoch 72/100\n",
            "34/34 [==============================] - 0s 1ms/step - loss: 7240.4907 - mae: 7240.4907\n",
            "Epoch 73/100\n",
            "34/34 [==============================] - 0s 2ms/step - loss: 7283.4883 - mae: 7283.4883\n",
            "Epoch 74/100\n",
            "34/34 [==============================] - 0s 1ms/step - loss: 7335.5063 - mae: 7335.5063\n",
            "Epoch 75/100\n",
            "34/34 [==============================] - 0s 1ms/step - loss: 7275.6392 - mae: 7275.6392\n",
            "Epoch 76/100\n",
            "34/34 [==============================] - 0s 1ms/step - loss: 7313.1855 - mae: 7313.1855\n",
            "Epoch 77/100\n",
            "34/34 [==============================] - 0s 1ms/step - loss: 7485.7578 - mae: 7485.7578\n",
            "Epoch 78/100\n",
            "34/34 [==============================] - 0s 2ms/step - loss: 7352.2798 - mae: 7352.2798\n",
            "Epoch 79/100\n",
            "34/34 [==============================] - 0s 2ms/step - loss: 7520.5703 - mae: 7520.5703\n",
            "Epoch 80/100\n",
            "34/34 [==============================] - 0s 2ms/step - loss: 7279.3784 - mae: 7279.3784\n",
            "Epoch 81/100\n",
            "34/34 [==============================] - 0s 2ms/step - loss: 7273.8477 - mae: 7273.8477\n",
            "Epoch 82/100\n",
            "34/34 [==============================] - 0s 2ms/step - loss: 7176.5205 - mae: 7176.5205\n",
            "Epoch 83/100\n",
            "34/34 [==============================] - 0s 2ms/step - loss: 7425.6289 - mae: 7425.6289\n",
            "Epoch 84/100\n",
            "34/34 [==============================] - 0s 2ms/step - loss: 7403.1289 - mae: 7403.1289\n",
            "Epoch 85/100\n",
            "34/34 [==============================] - 0s 2ms/step - loss: 7356.0093 - mae: 7356.0093\n",
            "Epoch 86/100\n",
            "34/34 [==============================] - 0s 2ms/step - loss: 7484.7271 - mae: 7484.7271\n",
            "Epoch 87/100\n",
            "34/34 [==============================] - 0s 2ms/step - loss: 7217.6079 - mae: 7217.6079\n",
            "Epoch 88/100\n",
            "34/34 [==============================] - 0s 2ms/step - loss: 7261.0000 - mae: 7261.0000\n",
            "Epoch 89/100\n",
            "34/34 [==============================] - 0s 2ms/step - loss: 7134.1553 - mae: 7134.1553\n",
            "Epoch 90/100\n",
            "34/34 [==============================] - 0s 2ms/step - loss: 7083.4351 - mae: 7083.4351\n",
            "Epoch 91/100\n",
            "34/34 [==============================] - 0s 2ms/step - loss: 7254.1782 - mae: 7254.1782\n",
            "Epoch 92/100\n",
            "34/34 [==============================] - 0s 2ms/step - loss: 7268.7456 - mae: 7268.7456\n",
            "Epoch 93/100\n",
            "34/34 [==============================] - 0s 2ms/step - loss: 7470.5225 - mae: 7470.5225\n",
            "Epoch 94/100\n",
            "34/34 [==============================] - 0s 2ms/step - loss: 7210.9541 - mae: 7210.9541\n",
            "Epoch 95/100\n",
            "34/34 [==============================] - 0s 2ms/step - loss: 7395.6807 - mae: 7395.6807\n",
            "Epoch 96/100\n",
            "34/34 [==============================] - 0s 2ms/step - loss: 7328.0884 - mae: 7328.0884\n",
            "Epoch 97/100\n",
            "34/34 [==============================] - 0s 2ms/step - loss: 7230.4375 - mae: 7230.4375\n",
            "Epoch 98/100\n",
            "34/34 [==============================] - 0s 2ms/step - loss: 7261.3936 - mae: 7261.3936\n",
            "Epoch 99/100\n",
            "34/34 [==============================] - 0s 2ms/step - loss: 7342.5684 - mae: 7342.5684\n",
            "Epoch 100/100\n",
            "34/34 [==============================] - 0s 2ms/step - loss: 7106.1709 - mae: 7106.1709\n"
          ]
        },
        {
          "output_type": "execute_result",
          "data": {
            "text/plain": [
              "<keras.callbacks.History at 0x7f46f90460d0>"
            ]
          },
          "metadata": {},
          "execution_count": 377
        }
      ]
    },
    {
      "cell_type": "code",
      "source": [
        "insurance_model.evaluate(X_test, Y_test)"
      ],
      "metadata": {
        "colab": {
          "base_uri": "https://localhost:8080/"
        },
        "id": "s4ZRW9VTzYx-",
        "outputId": "3f6db474-51ef-4ffd-c508-3217c5f633b8"
      },
      "execution_count": 378,
      "outputs": [
        {
          "output_type": "stream",
          "name": "stdout",
          "text": [
            "9/9 [==============================] - 0s 2ms/step - loss: 7023.3286 - mae: 7023.3286\n"
          ]
        },
        {
          "output_type": "execute_result",
          "data": {
            "text/plain": [
              "[7023.32861328125, 7023.32861328125]"
            ]
          },
          "metadata": {},
          "execution_count": 378
        }
      ]
    },
    {
      "cell_type": "code",
      "source": [
        "## Build the neural network\n",
        "\n",
        "tf.random.set_seed(42)\n",
        "\n",
        "# 1. Create a model\n",
        "insurance_model_2 = tf.keras.Sequential([\n",
        "    tf.keras.layers.Dense(100),\n",
        "    tf.keras.layers.Dense(100),\n",
        "    tf.keras.layers.Dense(100),\n",
        "    tf.keras.layers.Dense(100),\n",
        "    tf.keras.layers.Dense(1)\n",
        "])\n",
        "\n",
        "# 2. Compile the model\n",
        "insurance_model_2.compile(loss=tf.keras.losses.mae,\n",
        "                        optimizer=tf.keras.optimizers.Adam(lr=0.01),\n",
        "                        metrics=['mae'])\n",
        "\n",
        "# 3. Fit the model\n",
        "insurance_model_2.fit(X_train, Y_train, epochs=100, verbose=0)"
      ],
      "metadata": {
        "colab": {
          "base_uri": "https://localhost:8080/"
        },
        "id": "yWgvVmGJwL64",
        "outputId": "597aeb09-fd1a-4c34-acdf-4fd787b61436"
      },
      "execution_count": 379,
      "outputs": [
        {
          "output_type": "stream",
          "name": "stderr",
          "text": [
            "/usr/local/lib/python3.7/dist-packages/keras/optimizers/optimizer_v2/adam.py:110: UserWarning: The `lr` argument is deprecated, use `learning_rate` instead.\n",
            "  super(Adam, self).__init__(name, **kwargs)\n"
          ]
        },
        {
          "output_type": "execute_result",
          "data": {
            "text/plain": [
              "<keras.callbacks.History at 0x7f46f8493a10>"
            ]
          },
          "metadata": {},
          "execution_count": 379
        }
      ]
    },
    {
      "cell_type": "code",
      "source": [
        "insurance_model_2.evaluate(X_test, Y_test)"
      ],
      "metadata": {
        "colab": {
          "base_uri": "https://localhost:8080/"
        },
        "id": "H9ZnS7Dn57Qt",
        "outputId": "89457aa6-415c-4adb-af49-9ac4aa27f8f3"
      },
      "execution_count": 388,
      "outputs": [
        {
          "output_type": "stream",
          "name": "stdout",
          "text": [
            "9/9 [==============================] - 0s 2ms/step - loss: 3523.0198 - mae: 3523.0198\n"
          ]
        },
        {
          "output_type": "execute_result",
          "data": {
            "text/plain": [
              "[3523.019775390625, 3523.019775390625]"
            ]
          },
          "metadata": {},
          "execution_count": 388
        }
      ]
    },
    {
      "cell_type": "markdown",
      "source": [
        "## Trying improving our model"
      ],
      "metadata": {
        "id": "BzcdV-Nt632J"
      }
    },
    {
      "cell_type": "code",
      "source": [
        "# Set random seed\n",
        "tf.random.set_seed(42)\n",
        "\n",
        "# 1. Create the model\n",
        "insurance_model_3 = tf.keras.Sequential([\n",
        "    tf.keras.layers.Dense(100),\n",
        "    tf.keras.layers.Dense(10),\n",
        "    tf.keras.layers.Dense(1),\n",
        "])\n",
        "\n",
        "# 2. Compile the model\n",
        "insurance_model_3.compile(loss=tf.keras.losses.mae,\n",
        "                          optimizer=tf.keras.optimizers.Adam(),\n",
        "                          metrics=['mae'])\n",
        "\n",
        "# 3. Fit the model\n",
        "insurance_model_3.fit(X_train, Y_train, epochs=100, verbose=0)\n"
      ],
      "metadata": {
        "colab": {
          "base_uri": "https://localhost:8080/"
        },
        "id": "czcXaQDb57YG",
        "outputId": "d60c51dd-c052-4a80-9f98-36819a8aee83"
      },
      "execution_count": 389,
      "outputs": [
        {
          "output_type": "execute_result",
          "data": {
            "text/plain": [
              "<keras.callbacks.History at 0x7f46f7dd69d0>"
            ]
          },
          "metadata": {},
          "execution_count": 389
        }
      ]
    },
    {
      "cell_type": "code",
      "source": [
        "insurance_model_3.evaluate(X_test, Y_test)"
      ],
      "metadata": {
        "colab": {
          "base_uri": "https://localhost:8080/"
        },
        "id": "vQKY06ij57fD",
        "outputId": "d886c893-1100-4821-fddb-c21061c03243"
      },
      "execution_count": 390,
      "outputs": [
        {
          "output_type": "stream",
          "name": "stdout",
          "text": [
            "9/9 [==============================] - 0s 2ms/step - loss: 4924.4956 - mae: 4924.4956\n"
          ]
        },
        {
          "output_type": "execute_result",
          "data": {
            "text/plain": [
              "[4924.49560546875, 4924.49560546875]"
            ]
          },
          "metadata": {},
          "execution_count": 390
        }
      ]
    },
    {
      "cell_type": "code",
      "source": [
        "# Set random seed\n",
        "tf.random.set_seed(42)\n",
        "\n",
        "# 1. Create the model\n",
        "insurance_model_4 = tf.keras.Sequential([\n",
        "    tf.keras.layers.Dense(100),\n",
        "    tf.keras.layers.Dense(10),\n",
        "    tf.keras.layers.Dense(1),\n",
        "])\n",
        "\n",
        "# 2. Compile the model\n",
        "insurance_model_4.compile(loss=tf.keras.losses.mae,\n",
        "                          optimizer=tf.keras.optimizers.Adam(),\n",
        "                          metrics=['mae'])\n",
        "\n",
        "# 3. Fit the model\n",
        "history = insurance_model_4.fit(X_train, Y_train, epochs=200, verbose=0)"
      ],
      "metadata": {
        "id": "3YV4oyJ057k0"
      },
      "execution_count": 394,
      "outputs": []
    },
    {
      "cell_type": "code",
      "source": [
        "insurance_model_4.evaluate(X_test, Y_test)"
      ],
      "metadata": {
        "colab": {
          "base_uri": "https://localhost:8080/"
        },
        "id": "3qT7MnAJ57rL",
        "outputId": "919ae21f-9bd6-4d6b-826c-9282e809a095"
      },
      "execution_count": 395,
      "outputs": [
        {
          "output_type": "stream",
          "name": "stdout",
          "text": [
            "9/9 [==============================] - 0s 2ms/step - loss: 3488.7854 - mae: 3488.7856\n"
          ]
        },
        {
          "output_type": "execute_result",
          "data": {
            "text/plain": [
              "[3488.785400390625, 3488.78564453125]"
            ]
          },
          "metadata": {},
          "execution_count": 395
        }
      ]
    },
    {
      "cell_type": "code",
      "source": [
        "pd.DataFrame(history.history).plot()\n",
        "plt.ylabel('loss')\n",
        "plt.xlabel(\"epochs\")"
      ],
      "metadata": {
        "colab": {
          "base_uri": "https://localhost:8080/",
          "height": 297
        },
        "id": "wd06Bb9057xL",
        "outputId": "c863501e-8997-45d8-b978-b2f57c2ed133"
      },
      "execution_count": 396,
      "outputs": [
        {
          "output_type": "execute_result",
          "data": {
            "text/plain": [
              "Text(0.5, 0, 'epochs')"
            ]
          },
          "metadata": {},
          "execution_count": 396
        },
        {
          "output_type": "display_data",
          "data": {
            "text/plain": [
              "<Figure size 432x288 with 1 Axes>"
            ],
            "image/png": "[encoded data removed]"
          },
          "metadata": {
            "needs_background": "light"
          }
        }
      ]
    },
    {
      "cell_type": "markdown",
      "source": [
        "## Preprocessing data (normalization and standardization)"
      ],
      "metadata": {
        "id": "t8XWekXd_qXu"
      }
    },
    {
      "cell_type": "code",
      "source": [
        "X['age'].plot(kind='hist')"
      ],
      "metadata": {
        "colab": {
          "base_uri": "https://localhost:8080/",
          "height": 283
        },
        "id": "zI3tN3Jx573S",
        "outputId": "f635ff1c-ca22-42c6-c754-2045fc306a34"
      },
      "execution_count": 397,
      "outputs": [
        {
          "output_type": "execute_result",
          "data": {
            "text/plain": [
              "<matplotlib.axes._subplots.AxesSubplot at 0x7f46f79c0890>"
            ]
          },
          "metadata": {},
          "execution_count": 397
        },
        {
          "output_type": "display_data",
          "data": {
            "text/plain": [
              "<Figure size 432x288 with 1 Axes>"
            ],
            "image/png": "[encoded data removed]"
          },
          "metadata": {
            "needs_background": "light"
          }
        }
      ]
    },
    {
      "cell_type": "code",
      "source": [
        "X['bmi'].plot(kind='hist')"
      ],
      "metadata": {
        "colab": {
          "base_uri": "https://localhost:8080/",
          "height": 283
        },
        "id": "CsWG2wYb_gou",
        "outputId": "1628fcdf-1690-4d99-c8ed-a01c74e6602a"
      },
      "execution_count": 398,
      "outputs": [
        {
          "output_type": "execute_result",
          "data": {
            "text/plain": [
              "<matplotlib.axes._subplots.AxesSubplot at 0x7f46f76d4b50>"
            ]
          },
          "metadata": {},
          "execution_count": 398
        },
        {
          "output_type": "display_data",
          "data": {
            "text/plain": [
              "<Figure size 432x288 with 1 Axes>"
            ],
            "image/png": "[encoded data removed]"
          },
          "metadata": {
            "needs_background": "light"
          }
        }
      ]
    },
    {
      "cell_type": "code",
      "source": [
        "import pandas as pd\n",
        "import matplotlib.pyplot as plt\n",
        "import tensorflow as tf\n",
        "\n",
        "# Read in the insurance dataframe\n",
        "insurance = pd.read_csv('https://raw.githubusercontent.com/stedy/Machine-Learning-with-R-datasets/master/insurance.csv')\n",
        "insurance"
      ],
      "metadata": {
        "colab": {
          "base_uri": "https://localhost:8080/",
          "height": 424
        },
        "id": "mLuKej6Z_guw",
        "outputId": "51920c00-ec54-4d6e-ba5a-54d1f9e3cf1d"
      },
      "execution_count": 399,
      "outputs": [
        {
          "output_type": "execute_result",
          "data": {
            "text/plain": [
              "      age     sex     bmi  children smoker     region      charges\n",
              "0      19  female  27.900         0    yes  southwest  16884.92400\n",
              "1      18    male  33.770         1     no  southeast   1725.55230\n",
              "2      28    male  33.000         3     no  southeast   4449.46200\n",
              "3      33    male  22.705         0     no  northwest  21984.47061\n",
              "4      32    male  28.880         0     no  northwest   3866.85520\n",
              "...   ...     ...     ...       ...    ...        ...          ...\n",
              "1333   50    male  30.970         3     no  northwest  10600.54830\n",
              "1334   18  female  31.920         0     no  northeast   2205.98080\n",
              "1335   18  female  36.850         0     no  southeast   1629.83350\n",
              "1336   21  female  25.800         0     no  southwest   2007.94500\n",
              "1337   61  female  29.070         0    yes  northwest  29141.36030\n",
              "\n",
              "[1338 rows x 7 columns]"
            ],
            "text/html": [
              "\n",
              "  <div id=\"df-319eff17-9662-4c44-ade4-9fa77cc2504f\">\n",
              "    <div class=\"colab-df-container\">\n",
              "      <div>\n",
              "<style scoped>\n",
              "    .dataframe tbody tr th:only-of-type {\n",
              "        vertical-align: middle;\n",
              "    }\n",
              "\n",
              "    .dataframe tbody tr th {\n",
              "        vertical-align: top;\n",
              "    }\n",
              "\n",
              "    .dataframe thead th {\n",
              "        text-align: right;\n",
              "    }\n",
              "</style>\n",
              "<table border=\"1\" class=\"dataframe\">\n",
              "  <thead>\n",
              "    <tr style=\"text-align: right;\">\n",
              "      <th></th>\n",
              "      <th>age</th>\n",
              "      <th>sex</th>\n",
              "      <th>bmi</th>\n",
              "      <th>children</th>\n",
              "      <th>smoker</th>\n",
              "      <th>region</th>\n",
              "      <th>charges</th>\n",
              "    </tr>\n",
              "  </thead>\n",
              "  <tbody>\n",
              "    <tr>\n",
              "      <th>0</th>\n",
              "      <td>19</td>\n",
              "      <td>female</td>\n",
              "      <td>27.900</td>\n",
              "      <td>0</td>\n",
              "      <td>yes</td>\n",
              "      <td>southwest</td>\n",
              "      <td>16884.92400</td>\n",
              "    </tr>\n",
              "    <tr>\n",
              "      <th>1</th>\n",
              "      <td>18</td>\n",
              "      <td>male</td>\n",
              "      <td>33.770</td>\n",
              "      <td>1</td>\n",
              "      <td>no</td>\n",
              "      <td>southeast</td>\n",
              "      <td>1725.55230</td>\n",
              "    </tr>\n",
              "    <tr>\n",
              "      <th>2</th>\n",
              "      <td>28</td>\n",
              "      <td>male</td>\n",
              "      <td>33.000</td>\n",
              "      <td>3</td>\n",
              "      <td>no</td>\n",
              "      <td>southeast</td>\n",
              "      <td>4449.46200</td>\n",
              "    </tr>\n",
              "    <tr>\n",
              "      <th>3</th>\n",
              "      <td>33</td>\n",
              "      <td>male</td>\n",
              "      <td>22.705</td>\n",
              "      <td>0</td>\n",
              "      <td>no</td>\n",
              "      <td>northwest</td>\n",
              "      <td>21984.47061</td>\n",
              "    </tr>\n",
              "    <tr>\n",
              "      <th>4</th>\n",
              "      <td>32</td>\n",
              "      <td>male</td>\n",
              "      <td>28.880</td>\n",
              "      <td>0</td>\n",
              "      <td>no</td>\n",
              "      <td>northwest</td>\n",
              "      <td>3866.85520</td>\n",
              "    </tr>\n",
              "    <tr>\n",
              "      <th>...</th>\n",
              "      <td>...</td>\n",
              "      <td>...</td>\n",
              "      <td>...</td>\n",
              "      <td>...</td>\n",
              "      <td>...</td>\n",
              "      <td>...</td>\n",
              "      <td>...</td>\n",
              "    </tr>\n",
              "    <tr>\n",
              "      <th>1333</th>\n",
              "      <td>50</td>\n",
              "      <td>male</td>\n",
              "      <td>30.970</td>\n",
              "      <td>3</td>\n",
              "      <td>no</td>\n",
              "      <td>northwest</td>\n",
              "      <td>10600.54830</td>\n",
              "    </tr>\n",
              "    <tr>\n",
              "      <th>1334</th>\n",
              "      <td>18</td>\n",
              "      <td>female</td>\n",
              "      <td>31.920</td>\n",
              "      <td>0</td>\n",
              "      <td>no</td>\n",
              "      <td>northeast</td>\n",
              "      <td>2205.98080</td>\n",
              "    </tr>\n",
              "    <tr>\n",
              "      <th>1335</th>\n",
              "      <td>18</td>\n",
              "      <td>female</td>\n",
              "      <td>36.850</td>\n",
              "      <td>0</td>\n",
              "      <td>no</td>\n",
              "      <td>southeast</td>\n",
              "      <td>1629.83350</td>\n",
              "    </tr>\n",
              "    <tr>\n",
              "      <th>1336</th>\n",
              "      <td>21</td>\n",
              "      <td>female</td>\n",
              "      <td>25.800</td>\n",
              "      <td>0</td>\n",
              "      <td>no</td>\n",
              "      <td>southwest</td>\n",
              "      <td>2007.94500</td>\n",
              "    </tr>\n",
              "    <tr>\n",
              "      <th>1337</th>\n",
              "      <td>61</td>\n",
              "      <td>female</td>\n",
              "      <td>29.070</td>\n",
              "      <td>0</td>\n",
              "      <td>yes</td>\n",
              "      <td>northwest</td>\n",
              "      <td>29141.36030</td>\n",
              "    </tr>\n",
              "  </tbody>\n",
              "</table>\n",
              "<p>1338 rows × 7 columns</p>\n",
              "</div>\n",
              "      <button class=\"colab-df-convert\" onclick=\"convertToInteractive('df-319eff17-9662-4c44-ade4-9fa77cc2504f')\"\n",
              "              title=\"Convert this dataframe to an interactive table.\"\n",
              "              style=\"display:none;\">\n",
              "        \n",
              "  <svg xmlns=\"http://www.w3.org/2000/svg\" height=\"24px\"viewBox=\"0 0 24 24\"\n",
              "       width=\"24px\">\n",
              "    <path d=\"M0 0h24v24H0V0z\" fill=\"none\"/>\n",
              "    <path d=\"M18.56 5.44l.94 2.06.94-2.06 2.06-.94-2.06-.94-.94-2.06-.94 2.06-2.06.94zm-11 1L8.5 8.5l.94-2.06 2.06-.94-2.06-.94L8.5 2.5l-.94 2.06-2.06.94zm10 10l.94 2.06.94-2.06 2.06-.94-2.06-.94-.94-2.06-.94 2.06-2.06.94z\"/><path d=\"M17.41 7.96l-1.37-1.37c-.4-.4-.92-.59-1.43-.59-.52 0-1.04.2-1.43.59L10.3 9.45l-7.72 7.72c-.78.78-.78 2.05 0 2.83L4 21.41c.39.39.9.59 1.41.59.51 0 1.02-.2 1.41-.59l7.78-7.78 2.81-2.81c.8-.78.8-2.07 0-2.86zM5.41 20L4 18.59l7.72-7.72 1.47 1.35L5.41 20z\"/>\n",
              "  </svg>\n",
              "      </button>\n",
              "      \n",
              "  <style>\n",
              "    .colab-df-container {\n",
              "      display:flex;\n",
              "      flex-wrap:wrap;\n",
              "      gap: 12px;\n",
              "    }\n",
              "\n",
              "    .colab-df-convert {\n",
              "      background-color: #E8F0FE;\n",
              "      border: none;\n",
              "      border-radius: 50%;\n",
              "      cursor: pointer;\n",
              "      display: none;\n",
              "      fill: #1967D2;\n",
              "      height: 32px;\n",
              "      padding: 0 0 0 0;\n",
              "      width: 32px;\n",
              "    }\n",
              "\n",
              "    .colab-df-convert:hover {\n",
              "      background-color: #E2EBFA;\n",
              "      box-shadow: 0px 1px 2px rgba(60, 64, 67, 0.3), 0px 1px 3px 1px rgba(60, 64, 67, 0.15);\n",
              "      fill: #174EA6;\n",
              "    }\n",
              "\n",
              "    [theme=dark] .colab-df-convert {\n",
              "      background-color: #3B4455;\n",
              "      fill: #D2E3FC;\n",
              "    }\n",
              "\n",
              "    [theme=dark] .colab-df-convert:hover {\n",
              "      background-color: #434B5C;\n",
              "      box-shadow: 0px 1px 3px 1px rgba(0, 0, 0, 0.15);\n",
              "      filter: drop-shadow(0px 1px 2px rgba(0, 0, 0, 0.3));\n",
              "      fill: #FFFFFF;\n",
              "    }\n",
              "  </style>\n",
              "\n",
              "      <script>\n",
              "        const buttonEl =\n",
              "          document.querySelector('#df-319eff17-9662-4c44-ade4-9fa77cc2504f button.colab-df-convert');\n",
              "        buttonEl.style.display =\n",
              "          google.colab.kernel.accessAllowed ? 'block' : 'none';\n",
              "\n",
              "        async function convertToInteractive(key) {\n",
              "          const element = document.querySelector('#df-319eff17-9662-4c44-ade4-9fa77cc2504f');\n",
              "          const dataTable =\n",
              "            await google.colab.kernel.invokeFunction('convertToInteractive',\n",
              "                                                     [key], {});\n",
              "          if (!dataTable) return;\n",
              "\n",
              "          const docLinkHtml = 'Like what you see? Visit the ' +\n",
              "            '<a target=\"_blank\" href=https://colab.research.google.com/notebooks/data_table.ipynb>data table notebook</a>'\n",
              "            + ' to learn more about interactive tables.';\n",
              "          element.innerHTML = '';\n",
              "          dataTable['output_type'] = 'display_data';\n",
              "          await google.colab.output.renderOutput(dataTable, element);\n",
              "          const docLink = document.createElement('div');\n",
              "          docLink.innerHTML = docLinkHtml;\n",
              "          element.appendChild(docLink);\n",
              "        }\n",
              "      </script>\n",
              "    </div>\n",
              "  </div>\n",
              "  "
            ]
          },
          "metadata": {},
          "execution_count": 399
        }
      ]
    },
    {
      "cell_type": "code",
      "source": [
        "from sklearn.compose import make_column_transformer\n",
        "from sklearn.preprocessing import MinMaxScaler, OneHotEncoder\n",
        "from sklearn.model_selection import train_test_split\n",
        "\n",
        "# Create a column transformer\n",
        "ct = make_column_transformer(\n",
        "    (MinMaxScaler(), ['age', 'bmi', 'children']),\n",
        "    (OneHotEncoder(handle_unknown=\"ignore\"), ['sex', 'smoker', 'region']))\n",
        "\n",
        "\n",
        "# Create X & Y\n",
        "\n",
        "X = insurance.drop('charges', axis=1)\n",
        "Y = insurance['charges']\n",
        "X_train, X_test, Y_train, Y_test = train_test_split(X, Y, test_size=0.2, random_state=42)\n",
        "\n",
        "# Fit the column transformer to our training data\n",
        "ct.fit(X_train)\n",
        "\n",
        "# Transform training and test data with normalization (MinMaxScaler) and OneHotEncoder\n",
        "X_train_normal = ct.transform(X_train)\n",
        "X_test_normal = ct.transform(X_test)"
      ],
      "metadata": {
        "id": "Cqec_D9EBXM7"
      },
      "execution_count": 403,
      "outputs": []
    },
    {
      "cell_type": "code",
      "source": [
        "# What does our data look like now?\n",
        "\n",
        "X_train.loc[0]"
      ],
      "metadata": {
        "colab": {
          "base_uri": "https://localhost:8080/"
        },
        "id": "8Jzf65HCBXTw",
        "outputId": "1d45b3bf-1997-47df-c6dc-2b8069f5d5ea"
      },
      "execution_count": 406,
      "outputs": [
        {
          "output_type": "execute_result",
          "data": {
            "text/plain": [
              "age                19\n",
              "sex            female\n",
              "bmi              27.9\n",
              "children            0\n",
              "smoker            yes\n",
              "region      southwest\n",
              "Name: 0, dtype: object"
            ]
          },
          "metadata": {},
          "execution_count": 406
        }
      ]
    },
    {
      "cell_type": "code",
      "source": [
        "X_train_normal[0]"
      ],
      "metadata": {
        "colab": {
          "base_uri": "https://localhost:8080/"
        },
        "id": "qWYc2OM2BXZm",
        "outputId": "98c782e9-d9d1-464c-f32a-ef0a721347af"
      },
      "execution_count": 407,
      "outputs": [
        {
          "output_type": "execute_result",
          "data": {
            "text/plain": [
              "array([0.60869565, 0.10734463, 0.4       , 1.        , 0.        ,\n",
              "       1.        , 0.        , 0.        , 1.        , 0.        ,\n",
              "       0.        ])"
            ]
          },
          "metadata": {},
          "execution_count": 407
        }
      ]
    },
    {
      "cell_type": "code",
      "source": [
        "X_train.shape, X_train_normal.shape"
      ],
      "metadata": {
        "colab": {
          "base_uri": "https://localhost:8080/"
        },
        "id": "ZKJPLeDs_g0_",
        "outputId": "8a14bada-afc6-4cb5-a0a0-d1ddf6ad5e48"
      },
      "execution_count": 408,
      "outputs": [
        {
          "output_type": "execute_result",
          "data": {
            "text/plain": [
              "((1070, 6), (1070, 11))"
            ]
          },
          "metadata": {},
          "execution_count": 408
        }
      ]
    },
    {
      "cell_type": "markdown",
      "source": [
        "Beautiful"
      ],
      "metadata": {
        "id": "0ea0hDAED15x"
      }
    },
    {
      "cell_type": "code",
      "source": [
        "# Set random seed\n",
        "tf.random.set_seed(42)\n",
        "\n",
        "\n",
        "# 1. Create the model\n",
        "normal_model = tf.keras.Sequential([\n",
        "    tf.keras.layers.Dense(100),\n",
        "    tf.keras.layers.Dense(10),\n",
        "    tf.keras.layers.Dense(1),\n",
        "])\n",
        "\n",
        "# 2. Compile the model\n",
        "\n",
        "normal_model.compile(loss=tf.keras.losses.mae,\n",
        "                     optimizer=tf.keras.optimizers.Adam(),\n",
        "                     metrics=['mae'])\n",
        "\n",
        "\n",
        "# 3. Fit the model\n",
        "\n",
        "normal_model.fit(X_train_normal, Y_train, epochs=200, verbose=0)"
      ],
      "metadata": {
        "colab": {
          "base_uri": "https://localhost:8080/"
        },
        "id": "x9WplQAj_g7R",
        "outputId": "4a238a8a-cb8b-4f33-e8a8-b2ecca9bc9ae"
      },
      "execution_count": 409,
      "outputs": [
        {
          "output_type": "execute_result",
          "data": {
            "text/plain": [
              "<keras.callbacks.History at 0x7f46f80af210>"
            ]
          },
          "metadata": {},
          "execution_count": 409
        }
      ]
    },
    {
      "cell_type": "code",
      "source": [
        "normal_model.evaluate(X_test_normal, Y_test)"
      ],
      "metadata": {
        "colab": {
          "base_uri": "https://localhost:8080/"
        },
        "id": "aSqOJ9BP579j",
        "outputId": "e9d272a5-8ae9-4603-ac1f-748d5815b8bc"
      },
      "execution_count": 410,
      "outputs": [
        {
          "output_type": "stream",
          "name": "stdout",
          "text": [
            "9/9 [==============================] - 0s 3ms/step - loss: 3171.5776 - mae: 3171.5776\n"
          ]
        },
        {
          "output_type": "execute_result",
          "data": {
            "text/plain": [
              "[3171.57763671875, 3171.57763671875]"
            ]
          },
          "metadata": {},
          "execution_count": 410
        }
      ]
    },
    {
      "cell_type": "code",
      "source": [],
      "metadata": {
        "id": "yYNU1idmwMAw"
      },
      "execution_count": 398,
      "outputs": []
    },
    {
      "cell_type": "code",
      "source": [],
      "metadata": {
        "id": "Bj0q1Atew605"
      },
      "execution_count": 398,
      "outputs": []
    }
  ]
}